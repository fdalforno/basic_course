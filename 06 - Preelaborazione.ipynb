{
 "cells": [
  {
   "cell_type": "markdown",
   "id": "portable-airline",
   "metadata": {},
   "source": [
    "# Pre Elaborazione dei dati\n",
    "\n",
    "La qualità del dato sono un fattore chiave per la buona riuscita di un progetto di machine learning. \n",
    "Pertanto è necessario controllare i dati prima di inserirli in un algoritmo di machine learning.\n",
    "\n",
    "In questa notebook tratteremo i seguenti argomenti:\n",
    "\n",
    "* Gestione dei valori mancanti\n",
    "* I dati categorici\n",
    "* Selezione delle caratteristiche più rilevanti\n",
    "\n",
    "## I dati mancanti\n",
    "E' molto probabile che andremo a scontrarci con questa problematica, utilizzando pandas come libreria potremo avere dei valori Null oppure contrassegnati come NaN (Not a Number).\n",
    "\n",
    "### Rimozione dei dati mancanti\n",
    "Come prima soluzione si potrebbe pensare di eliminare le righe o le colonne in cui mancano i dati con il comando di pandas ``df.drop_na()``. Questa soluzione sebbene sia semplice potrebbe portare alla cancellazione di troppi dati e pregiudicare l'affidabilità del sistema. \n",
    "\n",
    "### Imputazione dei dati mancanti\n",
    "Una soluzione per evitare la cancellazione dei dati mancanti è l'interpolazione, ad esempio potremmo sostituire il dato mancante con il valore medio della colonna.\n",
    "Sklearn fornisce uno strumento molto utile ``Imputer`` che si occupa di sostituire i valori mancanti con il valore medio della colonna"
   ]
  },
  {
   "cell_type": "code",
   "execution_count": 11,
   "id": "careful-anaheim",
   "metadata": {},
   "outputs": [
    {
     "data": {
      "text/html": [
       "<div>\n",
       "<style scoped>\n",
       "    .dataframe tbody tr th:only-of-type {\n",
       "        vertical-align: middle;\n",
       "    }\n",
       "\n",
       "    .dataframe tbody tr th {\n",
       "        vertical-align: top;\n",
       "    }\n",
       "\n",
       "    .dataframe thead th {\n",
       "        text-align: right;\n",
       "    }\n",
       "</style>\n",
       "<table border=\"1\" class=\"dataframe\">\n",
       "  <thead>\n",
       "    <tr style=\"text-align: right;\">\n",
       "      <th></th>\n",
       "      <th>A</th>\n",
       "      <th>B</th>\n",
       "      <th>C</th>\n",
       "      <th>D</th>\n",
       "    </tr>\n",
       "  </thead>\n",
       "  <tbody>\n",
       "    <tr>\n",
       "      <th>0</th>\n",
       "      <td>1</td>\n",
       "      <td>2</td>\n",
       "      <td>3.0</td>\n",
       "      <td>4.0</td>\n",
       "    </tr>\n",
       "    <tr>\n",
       "      <th>1</th>\n",
       "      <td>5</td>\n",
       "      <td>6</td>\n",
       "      <td>NaN</td>\n",
       "      <td>8.0</td>\n",
       "    </tr>\n",
       "    <tr>\n",
       "      <th>2</th>\n",
       "      <td>10</td>\n",
       "      <td>4</td>\n",
       "      <td>12.0</td>\n",
       "      <td>NaN</td>\n",
       "    </tr>\n",
       "  </tbody>\n",
       "</table>\n",
       "</div>"
      ],
      "text/plain": [
       "    A  B     C    D\n",
       "0   1  2   3.0  4.0\n",
       "1   5  6   NaN  8.0\n",
       "2  10  4  12.0  NaN"
      ]
     },
     "execution_count": 11,
     "metadata": {},
     "output_type": "execute_result"
    }
   ],
   "source": [
    "import pandas as pd\n",
    "import numpy as np\n",
    "\n",
    "data = {\n",
    "    \"A\": [1,5,10],\n",
    "    \"B\": [2,6,4],\n",
    "    \"C\": [3,np.nan,12],\n",
    "    \"D\": [4,8,np.nan]\n",
    "}\n",
    "\n",
    "df = pd.DataFrame(data)\n",
    "df"
   ]
  },
  {
   "cell_type": "code",
   "execution_count": 12,
   "id": "established-turkey",
   "metadata": {},
   "outputs": [
    {
     "data": {
      "text/plain": [
       "array([[ 1. ,  2. ,  3. ,  4. ],\n",
       "       [ 5. ,  6. ,  7.5,  8. ],\n",
       "       [10. ,  4. , 12. ,  6. ]])"
      ]
     },
     "execution_count": 12,
     "metadata": {},
     "output_type": "execute_result"
    }
   ],
   "source": [
    "from sklearn.impute import SimpleImputer\n",
    "imp = SimpleImputer(strategy='mean')\n",
    "\n",
    "imp.fit(df)\n",
    "imp.transform(df)"
   ]
  },
  {
   "cell_type": "markdown",
   "id": "upset-conservation",
   "metadata": {},
   "source": [
    "### La classe SimpleImputer\n",
    "\n",
    "La classe SimpleImputer appartiene alle classi *trasformer* utilizzate per la trasformazione dei dati i due metodi principali di questi stimatori sono *fit* e *transform*. Il metodo ``fit`` viene utilizzato per apprendere i parametri dai dati di addestramento mentre il transform utilizza questi dati per effettuare la modifica dei valori *NaN*.\n",
    "\n",
    "Gli stimatori differiscono dai transformer in quanto di solito utilizzano il metodo ``predict`` ma possono anche loro avere il metodo ``transform``, inoltre negli stessi il metdo ``fit`` in ingresso vuole anche le etichette per eseguire l'addestramento del modello."
   ]
  },
  {
   "cell_type": "markdown",
   "id": "typical-socket",
   "metadata": {},
   "source": [
    "## Gestione delle categorie\n",
    "\n",
    "L'esempio predente faceva rifermento a dati numerici, tuttavia potrebbe succedere di avere a che fare con delle categorie ad esempio le taglie (XL > L > M > S). Le categorie possono essere divise in *nominali* e *ordinali*. Le categorie ordinali possono essere ordinate vedi ad esempio le taglie, mentre le categorie nominali non prevedono alcun ordine ad esempio i colori.\n",
    "Come potremmo gestire questi dati ? Vediamo un esempio pratico."
   ]
  },
  {
   "cell_type": "code",
   "execution_count": 13,
   "id": "august-savage",
   "metadata": {},
   "outputs": [
    {
     "data": {
      "text/html": [
       "<div>\n",
       "<style scoped>\n",
       "    .dataframe tbody tr th:only-of-type {\n",
       "        vertical-align: middle;\n",
       "    }\n",
       "\n",
       "    .dataframe tbody tr th {\n",
       "        vertical-align: top;\n",
       "    }\n",
       "\n",
       "    .dataframe thead th {\n",
       "        text-align: right;\n",
       "    }\n",
       "</style>\n",
       "<table border=\"1\" class=\"dataframe\">\n",
       "  <thead>\n",
       "    <tr style=\"text-align: right;\">\n",
       "      <th></th>\n",
       "      <th>Color</th>\n",
       "      <th>Size</th>\n",
       "      <th>Price</th>\n",
       "      <th>Label</th>\n",
       "    </tr>\n",
       "  </thead>\n",
       "  <tbody>\n",
       "    <tr>\n",
       "      <th>0</th>\n",
       "      <td>Green</td>\n",
       "      <td>M</td>\n",
       "      <td>10</td>\n",
       "      <td>Class1</td>\n",
       "    </tr>\n",
       "    <tr>\n",
       "      <th>1</th>\n",
       "      <td>Red</td>\n",
       "      <td>L</td>\n",
       "      <td>13</td>\n",
       "      <td>Class2</td>\n",
       "    </tr>\n",
       "    <tr>\n",
       "      <th>2</th>\n",
       "      <td>Blue</td>\n",
       "      <td>XL</td>\n",
       "      <td>15</td>\n",
       "      <td>Class1</td>\n",
       "    </tr>\n",
       "  </tbody>\n",
       "</table>\n",
       "</div>"
      ],
      "text/plain": [
       "   Color Size  Price   Label\n",
       "0  Green    M     10  Class1\n",
       "1    Red    L     13  Class2\n",
       "2   Blue   XL     15  Class1"
      ]
     },
     "execution_count": 13,
     "metadata": {},
     "output_type": "execute_result"
    }
   ],
   "source": [
    "data = {\n",
    "    \"Color\": [\"Green\",\"Red\",\"Blue\"],\n",
    "    \"Size\": [\"M\",\"L\",\"XL\"],\n",
    "    \"Price\": [10,13,15],\n",
    "    \"Label\": [\"Class1\",\"Class2\",\"Class1\"]\n",
    "}\n",
    "\n",
    "df = pd.DataFrame(data)\n",
    "df"
   ]
  },
  {
   "cell_type": "markdown",
   "id": "parliamentary-education",
   "metadata": {},
   "source": [
    "### Gestione delle categorie ordinali\n",
    "\n",
    "Le categorie ordinali possono tranquillamente essere gestite con la funzione pandas ``map`` vediamo in esempio pratico"
   ]
  },
  {
   "cell_type": "code",
   "execution_count": 14,
   "id": "completed-shoot",
   "metadata": {},
   "outputs": [
    {
     "data": {
      "text/html": [
       "<div>\n",
       "<style scoped>\n",
       "    .dataframe tbody tr th:only-of-type {\n",
       "        vertical-align: middle;\n",
       "    }\n",
       "\n",
       "    .dataframe tbody tr th {\n",
       "        vertical-align: top;\n",
       "    }\n",
       "\n",
       "    .dataframe thead th {\n",
       "        text-align: right;\n",
       "    }\n",
       "</style>\n",
       "<table border=\"1\" class=\"dataframe\">\n",
       "  <thead>\n",
       "    <tr style=\"text-align: right;\">\n",
       "      <th></th>\n",
       "      <th>Color</th>\n",
       "      <th>Size</th>\n",
       "      <th>Price</th>\n",
       "      <th>Label</th>\n",
       "    </tr>\n",
       "  </thead>\n",
       "  <tbody>\n",
       "    <tr>\n",
       "      <th>0</th>\n",
       "      <td>Green</td>\n",
       "      <td>1</td>\n",
       "      <td>10</td>\n",
       "      <td>Class1</td>\n",
       "    </tr>\n",
       "    <tr>\n",
       "      <th>1</th>\n",
       "      <td>Red</td>\n",
       "      <td>2</td>\n",
       "      <td>13</td>\n",
       "      <td>Class2</td>\n",
       "    </tr>\n",
       "    <tr>\n",
       "      <th>2</th>\n",
       "      <td>Blue</td>\n",
       "      <td>3</td>\n",
       "      <td>15</td>\n",
       "      <td>Class1</td>\n",
       "    </tr>\n",
       "  </tbody>\n",
       "</table>\n",
       "</div>"
      ],
      "text/plain": [
       "   Color  Size  Price   Label\n",
       "0  Green     1     10  Class1\n",
       "1    Red     2     13  Class2\n",
       "2   Blue     3     15  Class1"
      ]
     },
     "execution_count": 14,
     "metadata": {},
     "output_type": "execute_result"
    }
   ],
   "source": [
    "size_mapping = {\n",
    "    'XL':3,\n",
    "    'L':2,\n",
    "    'M':1\n",
    "}\n",
    "\n",
    "df['Size'] = df['Size'].map(size_mapping)\n",
    "df"
   ]
  },
  {
   "cell_type": "markdown",
   "id": "demographic-renaissance",
   "metadata": {},
   "source": [
    "se volessimo ritornare ai valori precedenti bastera creare il dizionario inverso"
   ]
  },
  {
   "cell_type": "code",
   "execution_count": 15,
   "id": "selective-danger",
   "metadata": {},
   "outputs": [
    {
     "data": {
      "text/plain": [
       "{3: 'XL', 2: 'L', 1: 'M'}"
      ]
     },
     "execution_count": 15,
     "metadata": {},
     "output_type": "execute_result"
    }
   ],
   "source": [
    "inverse = {v:k for k,v in size_mapping.items()}\n",
    "inverse"
   ]
  },
  {
   "cell_type": "markdown",
   "id": "analyzed-spirit",
   "metadata": {},
   "source": [
    "## Codifica delle etichette \n",
    "La maggior parte degli estimatori di sklearn vuole in ingresso un numero intero, sebbene sklearn converta internamente le classi in numeri sarebbe meglio che venissero trasformati in numeri.\n",
    "Per fare questo si può utilizzare la classe ``LabelEncoder``"
   ]
  },
  {
   "cell_type": "code",
   "execution_count": 16,
   "id": "informed-guatemala",
   "metadata": {},
   "outputs": [
    {
     "data": {
      "text/plain": [
       "array([0, 1, 0])"
      ]
     },
     "execution_count": 16,
     "metadata": {},
     "output_type": "execute_result"
    }
   ],
   "source": [
    "from sklearn import preprocessing\n",
    "\n",
    "le = preprocessing.LabelEncoder()\n",
    "y = le.fit_transform(df['Label'].values)\n",
    "y"
   ]
  },
  {
   "cell_type": "markdown",
   "id": "continental-smart",
   "metadata": {},
   "source": [
    "Questa classe permette anche di risalire ai valori originali"
   ]
  },
  {
   "cell_type": "code",
   "execution_count": 17,
   "id": "opened-fraud",
   "metadata": {},
   "outputs": [
    {
     "data": {
      "text/plain": [
       "array(['Class1', 'Class2', 'Class1'], dtype=object)"
      ]
     },
     "execution_count": 17,
     "metadata": {},
     "output_type": "execute_result"
    }
   ],
   "source": [
    "le.inverse_transform(y)"
   ]
  },
  {
   "cell_type": "markdown",
   "id": "printable-stereo",
   "metadata": {},
   "source": [
    "## Gestione dei valori nominali \n",
    "\n",
    "Come abbiamo detto prima alcune funzionalità non possono essere semplicemente trasformate in un numero in quanto non hanno alcun ordine specifico. Per codificare questo tipo di valori viene utilizzata la codifica *one-hot*.\n",
    "L'idea alla base di questa codifica è che si viene a creare una feature fittizzia per ogni valore della colonna, nel nostro caso avremo tre colonne nuove Green,Red e Blue con un valore binario associato. Vediamo un esempio:"
   ]
  },
  {
   "cell_type": "code",
   "execution_count": 18,
   "id": "accessible-immunology",
   "metadata": {},
   "outputs": [
    {
     "data": {
      "text/plain": [
       "matrix([[0., 1., 0.],\n",
       "        [0., 0., 1.],\n",
       "        [1., 0., 0.]])"
      ]
     },
     "execution_count": 18,
     "metadata": {},
     "output_type": "execute_result"
    }
   ],
   "source": [
    "from sklearn.preprocessing import OneHotEncoder\n",
    "\n",
    "one = OneHotEncoder()\n",
    "data = one.fit_transform(df[\"Color\"].values.reshape(-1, 1))\n",
    "data.todense()"
   ]
  },
  {
   "cell_type": "markdown",
   "id": "surprised-counter",
   "metadata": {},
   "source": [
    "Per trasformare direttamente la colonna nel dataset bisogna utilizzare un transformer"
   ]
  },
  {
   "cell_type": "code",
   "execution_count": 19,
   "id": "statistical-latino",
   "metadata": {},
   "outputs": [
    {
     "data": {
      "text/plain": [
       "array([[ 0.,  1.,  0.,  1., 10.],\n",
       "       [ 0.,  0.,  1.,  2., 13.],\n",
       "       [ 1.,  0.,  0.,  3., 15.]])"
      ]
     },
     "execution_count": 19,
     "metadata": {},
     "output_type": "execute_result"
    }
   ],
   "source": [
    "from sklearn.compose import ColumnTransformer\n",
    "\n",
    "column = ColumnTransformer([\n",
    "    ('onehot',OneHotEncoder(),[0]),\n",
    "    ('nothing','passthrough',[1,2])\n",
    "])\n",
    "\n",
    "column.fit_transform(df)"
   ]
  },
  {
   "cell_type": "markdown",
   "id": "premium-earth",
   "metadata": {},
   "source": [
    "oppure si può utilizzare il comodo metodo di pandas ``get_dummies``"
   ]
  },
  {
   "cell_type": "code",
   "execution_count": 20,
   "id": "future-discrimination",
   "metadata": {},
   "outputs": [
    {
     "data": {
      "text/html": [
       "<div>\n",
       "<style scoped>\n",
       "    .dataframe tbody tr th:only-of-type {\n",
       "        vertical-align: middle;\n",
       "    }\n",
       "\n",
       "    .dataframe tbody tr th {\n",
       "        vertical-align: top;\n",
       "    }\n",
       "\n",
       "    .dataframe thead th {\n",
       "        text-align: right;\n",
       "    }\n",
       "</style>\n",
       "<table border=\"1\" class=\"dataframe\">\n",
       "  <thead>\n",
       "    <tr style=\"text-align: right;\">\n",
       "      <th></th>\n",
       "      <th>Size</th>\n",
       "      <th>Price</th>\n",
       "      <th>Color_Blue</th>\n",
       "      <th>Color_Green</th>\n",
       "      <th>Color_Red</th>\n",
       "    </tr>\n",
       "  </thead>\n",
       "  <tbody>\n",
       "    <tr>\n",
       "      <th>0</th>\n",
       "      <td>1</td>\n",
       "      <td>10</td>\n",
       "      <td>0</td>\n",
       "      <td>1</td>\n",
       "      <td>0</td>\n",
       "    </tr>\n",
       "    <tr>\n",
       "      <th>1</th>\n",
       "      <td>2</td>\n",
       "      <td>13</td>\n",
       "      <td>0</td>\n",
       "      <td>0</td>\n",
       "      <td>1</td>\n",
       "    </tr>\n",
       "    <tr>\n",
       "      <th>2</th>\n",
       "      <td>3</td>\n",
       "      <td>15</td>\n",
       "      <td>1</td>\n",
       "      <td>0</td>\n",
       "      <td>0</td>\n",
       "    </tr>\n",
       "  </tbody>\n",
       "</table>\n",
       "</div>"
      ],
      "text/plain": [
       "   Size  Price  Color_Blue  Color_Green  Color_Red\n",
       "0     1     10           0            1          0\n",
       "1     2     13           0            0          1\n",
       "2     3     15           1            0          0"
      ]
     },
     "execution_count": 20,
     "metadata": {},
     "output_type": "execute_result"
    }
   ],
   "source": [
    "Y = df.pop('Label')\n",
    "pd.get_dummies(df)"
   ]
  },
  {
   "cell_type": "markdown",
   "id": "sunset-cover",
   "metadata": {},
   "source": [
    "## Target encoding\n",
    "\n"
   ]
  },
  {
   "cell_type": "markdown",
   "id": "dirty-pearl",
   "metadata": {},
   "source": [
    "Come detto prima le categorie sono preziose per gli algoritmi di machine learning ma a volte le relazioni contenute all'interno della stessa sono difficili da catturare per la maggior parte dei modelli.\n",
    "Il target encoding è un processo di codifica che può essere definito come:\n",
    "\n",
    "La feature viene sostituita con una miscela della probabilità a priori a cui la categoria appartiene e quella a posteriori del target su tutti i dati di addestramento.\n",
    "\n",
    "Per semplificare la spiegazione creiamo un semplice dataset su cui andremo a fare i nostri ragionamenti."
   ]
  },
  {
   "cell_type": "code",
   "execution_count": 21,
   "id": "short-patrick",
   "metadata": {},
   "outputs": [
    {
     "data": {
      "text/html": [
       "<div>\n",
       "<style scoped>\n",
       "    .dataframe tbody tr th:only-of-type {\n",
       "        vertical-align: middle;\n",
       "    }\n",
       "\n",
       "    .dataframe tbody tr th {\n",
       "        vertical-align: top;\n",
       "    }\n",
       "\n",
       "    .dataframe thead th {\n",
       "        text-align: right;\n",
       "    }\n",
       "</style>\n",
       "<table border=\"1\" class=\"dataframe\">\n",
       "  <thead>\n",
       "    <tr style=\"text-align: right;\">\n",
       "      <th></th>\n",
       "      <th>x0</th>\n",
       "      <th>x1</th>\n",
       "      <th>y</th>\n",
       "    </tr>\n",
       "  </thead>\n",
       "  <tbody>\n",
       "    <tr>\n",
       "      <th>0</th>\n",
       "      <td>a</td>\n",
       "      <td>c</td>\n",
       "      <td>1</td>\n",
       "    </tr>\n",
       "    <tr>\n",
       "      <th>1</th>\n",
       "      <td>a</td>\n",
       "      <td>c</td>\n",
       "      <td>1</td>\n",
       "    </tr>\n",
       "    <tr>\n",
       "      <th>2</th>\n",
       "      <td>a</td>\n",
       "      <td>c</td>\n",
       "      <td>1</td>\n",
       "    </tr>\n",
       "    <tr>\n",
       "      <th>3</th>\n",
       "      <td>a</td>\n",
       "      <td>c</td>\n",
       "      <td>1</td>\n",
       "    </tr>\n",
       "    <tr>\n",
       "      <th>4</th>\n",
       "      <td>a</td>\n",
       "      <td>c</td>\n",
       "      <td>0</td>\n",
       "    </tr>\n",
       "    <tr>\n",
       "      <th>5</th>\n",
       "      <td>b</td>\n",
       "      <td>c</td>\n",
       "      <td>1</td>\n",
       "    </tr>\n",
       "    <tr>\n",
       "      <th>6</th>\n",
       "      <td>b</td>\n",
       "      <td>c</td>\n",
       "      <td>0</td>\n",
       "    </tr>\n",
       "    <tr>\n",
       "      <th>7</th>\n",
       "      <td>b</td>\n",
       "      <td>c</td>\n",
       "      <td>0</td>\n",
       "    </tr>\n",
       "    <tr>\n",
       "      <th>8</th>\n",
       "      <td>b</td>\n",
       "      <td>c</td>\n",
       "      <td>0</td>\n",
       "    </tr>\n",
       "    <tr>\n",
       "      <th>9</th>\n",
       "      <td>b</td>\n",
       "      <td>d</td>\n",
       "      <td>0</td>\n",
       "    </tr>\n",
       "  </tbody>\n",
       "</table>\n",
       "</div>"
      ],
      "text/plain": [
       "  x0 x1  y\n",
       "0  a  c  1\n",
       "1  a  c  1\n",
       "2  a  c  1\n",
       "3  a  c  1\n",
       "4  a  c  0\n",
       "5  b  c  1\n",
       "6  b  c  0\n",
       "7  b  c  0\n",
       "8  b  c  0\n",
       "9  b  d  0"
      ]
     },
     "execution_count": 21,
     "metadata": {},
     "output_type": "execute_result"
    }
   ],
   "source": [
    "import pandas as pd\n",
    "\n",
    "df = pd.DataFrame({\n",
    "    'x0': ['a'] * 5 + ['b'] * 5,\n",
    "    'x1': ['c'] * 9 + ['d'] * 1,\n",
    "    'y': [1, 1, 1, 1, 0, 1, 0, 0, 0, 0]\n",
    "})\n",
    "\n",
    "df"
   ]
  },
  {
   "cell_type": "markdown",
   "id": "funded-television",
   "metadata": {},
   "source": [
    "Calcoliamo le medie delle varie categorie e vediamo come rimpiazzarle sulla colonna originale"
   ]
  },
  {
   "cell_type": "code",
   "execution_count": 22,
   "id": "minus-momentum",
   "metadata": {},
   "outputs": [
    {
     "data": {
      "text/plain": [
       "x0\n",
       "a    0.8\n",
       "b    0.2\n",
       "Name: y, dtype: float64"
      ]
     },
     "execution_count": 22,
     "metadata": {},
     "output_type": "execute_result"
    }
   ],
   "source": [
    "means = df.groupby('x0')['y'].mean()\n",
    "means"
   ]
  },
  {
   "cell_type": "code",
   "execution_count": 23,
   "id": "breeding-terminology",
   "metadata": {},
   "outputs": [
    {
     "data": {
      "text/plain": [
       "0    0.8\n",
       "1    0.8\n",
       "2    0.8\n",
       "3    0.8\n",
       "4    0.8\n",
       "5    0.2\n",
       "6    0.2\n",
       "7    0.2\n",
       "8    0.2\n",
       "9    0.2\n",
       "Name: x0, dtype: float64"
      ]
     },
     "execution_count": 23,
     "metadata": {},
     "output_type": "execute_result"
    }
   ],
   "source": [
    "df['x0'].map(means)"
   ]
  },
  {
   "cell_type": "markdown",
   "id": "fabulous-protest",
   "metadata": {},
   "source": [
    "e facciamo lo stesso ragionamento con la colonna x1.\n",
    "La codifica target è buona perchè trasforma le categorie in un valore che può aiutare a spiegare il target, questa soluzione però ha un problema e si chiama overfitting. Fare affidamento alla media non sempre è una buona idea, specialmente se il numero dei valori in una categoria è basso. \n",
    "\n",
    "Bisogna sempre pensare che il dato su cui noi stiamo addestrando il modello è un campione dell'insieme dei dati e alcune relazioni che stiamo scovando non è detto che rappresentino la realtà, questo lo si può verificare con il dataset di test.\n",
    "\n",
    "Un esempio pratico del problema lo si vede qui sotto, la categoria d ha solo un record e viene rappresentata con lo 0.\n",
    "Ci sono vari modi per trattare questa problematica la prima è usare la cross validation che vedremo più avanti la seconda è la tecnica di *adaptive smoothing*."
   ]
  },
  {
   "cell_type": "code",
   "execution_count": 24,
   "id": "baking-blogger",
   "metadata": {},
   "outputs": [
    {
     "data": {
      "text/plain": [
       "0    0.555556\n",
       "1    0.555556\n",
       "2    0.555556\n",
       "3    0.555556\n",
       "4    0.555556\n",
       "5    0.555556\n",
       "6    0.555556\n",
       "7    0.555556\n",
       "8    0.555556\n",
       "9    0.000000\n",
       "Name: x1, dtype: float64"
      ]
     },
     "execution_count": 24,
     "metadata": {},
     "output_type": "execute_result"
    }
   ],
   "source": [
    "df['x1'].map(df.groupby('x1')['y'].mean())"
   ]
  },
  {
   "cell_type": "markdown",
   "id": "fossil-syria",
   "metadata": {},
   "source": [
    "L'intuizione che sta dietro a questa tecnica è la seguente, \"smussare\" la media includendo anche la media di tutti gli elementi. in altre parole se non ci sono molte valutazioni ci si baserebbe di più sulla media globale mentre se ci sono abbastanza valori si può far affidamento sulla media locale.\n",
    "\n",
    "La formula di trasformazione si può esprimere nel seguente modo:$$ \\mu = \\frac{n \\times \\bar{x} + m \\times w}{n + m} $$\n",
    "\n",
    "+ $\\mu$ è il valore che vogliamo ottenere\n",
    "+ $n$ è il numero di campioni che abbiamo della classe\n",
    "+ $\\bar{x}$ è la nostra stima della media\n",
    "+ $m$ è il peso che vogliamo dare alla media complessiva\n",
    "+ $w$ è la media complessiva\n",
    "\n",
    "$m$ è un parametro che va impostato, l'idea è che più lo stesso sarà grande più la media complessiva avrà importanza.\n",
    "Ad esempio con $m = 0$ avremo che:\n",
    "\n",
    "$$ \\mu = \\frac{n \\times \\bar{x} + 0 \\times w}{n + 0} =  \\frac{n \\times \\bar{x}}{n}$$\n",
    "\n",
    "la funzione è facilmente implementabile in pyhton"
   ]
  },
  {
   "cell_type": "code",
   "execution_count": 25,
   "id": "incorporate-concern",
   "metadata": {},
   "outputs": [],
   "source": [
    "def calc_smooth_mean(df, by, on, m):\n",
    "    #Calcolo la media globale\n",
    "    mean = df[on].mean()\n",
    "\n",
    "    #Calcolo il numero di valori e la media per ogni gruppo\n",
    "    agg = df.groupby(by)[on].agg(['count', 'mean'])\n",
    "    counts = agg['count']\n",
    "    means = agg['mean']\n",
    "\n",
    "    #Calcolo la media \"smussata\"\n",
    "    smooth = (counts * means + m * mean) / (counts + m)\n",
    "\n",
    "    #Rimpiazzo ogni classe con la media calcolata prima\n",
    "    return df[by].map(smooth)"
   ]
  },
  {
   "cell_type": "code",
   "execution_count": 26,
   "id": "junior-theater",
   "metadata": {},
   "outputs": [
    {
     "data": {
      "text/html": [
       "<div>\n",
       "<style scoped>\n",
       "    .dataframe tbody tr th:only-of-type {\n",
       "        vertical-align: middle;\n",
       "    }\n",
       "\n",
       "    .dataframe tbody tr th {\n",
       "        vertical-align: top;\n",
       "    }\n",
       "\n",
       "    .dataframe thead th {\n",
       "        text-align: right;\n",
       "    }\n",
       "</style>\n",
       "<table border=\"1\" class=\"dataframe\">\n",
       "  <thead>\n",
       "    <tr style=\"text-align: right;\">\n",
       "      <th></th>\n",
       "      <th>x0</th>\n",
       "      <th>x1</th>\n",
       "      <th>y</th>\n",
       "    </tr>\n",
       "  </thead>\n",
       "  <tbody>\n",
       "    <tr>\n",
       "      <th>0</th>\n",
       "      <td>0.6</td>\n",
       "      <td>0.526316</td>\n",
       "      <td>1</td>\n",
       "    </tr>\n",
       "    <tr>\n",
       "      <th>1</th>\n",
       "      <td>0.6</td>\n",
       "      <td>0.526316</td>\n",
       "      <td>1</td>\n",
       "    </tr>\n",
       "    <tr>\n",
       "      <th>2</th>\n",
       "      <td>0.6</td>\n",
       "      <td>0.526316</td>\n",
       "      <td>1</td>\n",
       "    </tr>\n",
       "    <tr>\n",
       "      <th>3</th>\n",
       "      <td>0.6</td>\n",
       "      <td>0.526316</td>\n",
       "      <td>1</td>\n",
       "    </tr>\n",
       "    <tr>\n",
       "      <th>4</th>\n",
       "      <td>0.6</td>\n",
       "      <td>0.526316</td>\n",
       "      <td>0</td>\n",
       "    </tr>\n",
       "    <tr>\n",
       "      <th>5</th>\n",
       "      <td>0.4</td>\n",
       "      <td>0.526316</td>\n",
       "      <td>1</td>\n",
       "    </tr>\n",
       "    <tr>\n",
       "      <th>6</th>\n",
       "      <td>0.4</td>\n",
       "      <td>0.526316</td>\n",
       "      <td>0</td>\n",
       "    </tr>\n",
       "    <tr>\n",
       "      <th>7</th>\n",
       "      <td>0.4</td>\n",
       "      <td>0.526316</td>\n",
       "      <td>0</td>\n",
       "    </tr>\n",
       "    <tr>\n",
       "      <th>8</th>\n",
       "      <td>0.4</td>\n",
       "      <td>0.526316</td>\n",
       "      <td>0</td>\n",
       "    </tr>\n",
       "    <tr>\n",
       "      <th>9</th>\n",
       "      <td>0.4</td>\n",
       "      <td>0.454545</td>\n",
       "      <td>0</td>\n",
       "    </tr>\n",
       "  </tbody>\n",
       "</table>\n",
       "</div>"
      ],
      "text/plain": [
       "    x0        x1  y\n",
       "0  0.6  0.526316  1\n",
       "1  0.6  0.526316  1\n",
       "2  0.6  0.526316  1\n",
       "3  0.6  0.526316  1\n",
       "4  0.6  0.526316  0\n",
       "5  0.4  0.526316  1\n",
       "6  0.4  0.526316  0\n",
       "7  0.4  0.526316  0\n",
       "8  0.4  0.526316  0\n",
       "9  0.4  0.454545  0"
      ]
     },
     "execution_count": 26,
     "metadata": {},
     "output_type": "execute_result"
    }
   ],
   "source": [
    "df['x0'] = calc_smooth_mean(df, by='x0', on='y', m=10)\n",
    "df['x1'] = calc_smooth_mean(df, by='x1', on='y', m=10)\n",
    "\n",
    "df"
   ]
  },
  {
   "cell_type": "markdown",
   "id": "light-african",
   "metadata": {},
   "source": [
    "## Partizionare il dataset in due insiemi separati train e test"
   ]
  },
  {
   "cell_type": "markdown",
   "id": "threatened-armstrong",
   "metadata": {},
   "source": [
    "Per valutare le performance di un algoritmo di ml è sempre bene utilizzare dei dati nuovi, per valutare le sue capacità previsionali. Stiamo per iniziare a creare le nostre prime soluzioni di ml come primo passo andremo ad utilizzare un dataset molto semplice che contiente le caratteristiche di 178 vini italiani con 13 caratteristiche che descrivono le sue proprietà.\n",
    "Come prima cosa carichiamo il dataset"
   ]
  },
  {
   "cell_type": "code",
   "execution_count": 27,
   "id": "compound-knife",
   "metadata": {},
   "outputs": [],
   "source": [
    "from sklearn.datasets import load_wine\n",
    "wine = load_wine()"
   ]
  },
  {
   "cell_type": "markdown",
   "id": "simple-reason",
   "metadata": {},
   "source": [
    "per comodità di visualizzazione trasformiamo l'array numpy in un dataframe pandas"
   ]
  },
  {
   "cell_type": "code",
   "execution_count": 28,
   "id": "secret-sherman",
   "metadata": {},
   "outputs": [],
   "source": [
    "df_wine = pd.DataFrame(wine.data, columns = wine.feature_names)"
   ]
  },
  {
   "cell_type": "code",
   "execution_count": 29,
   "id": "broke-explorer",
   "metadata": {},
   "outputs": [
    {
     "data": {
      "text/html": [
       "<div>\n",
       "<style scoped>\n",
       "    .dataframe tbody tr th:only-of-type {\n",
       "        vertical-align: middle;\n",
       "    }\n",
       "\n",
       "    .dataframe tbody tr th {\n",
       "        vertical-align: top;\n",
       "    }\n",
       "\n",
       "    .dataframe thead th {\n",
       "        text-align: right;\n",
       "    }\n",
       "</style>\n",
       "<table border=\"1\" class=\"dataframe\">\n",
       "  <thead>\n",
       "    <tr style=\"text-align: right;\">\n",
       "      <th></th>\n",
       "      <th>alcohol</th>\n",
       "      <th>malic_acid</th>\n",
       "      <th>ash</th>\n",
       "      <th>alcalinity_of_ash</th>\n",
       "      <th>magnesium</th>\n",
       "      <th>total_phenols</th>\n",
       "      <th>flavanoids</th>\n",
       "      <th>nonflavanoid_phenols</th>\n",
       "      <th>proanthocyanins</th>\n",
       "      <th>color_intensity</th>\n",
       "      <th>hue</th>\n",
       "      <th>od280/od315_of_diluted_wines</th>\n",
       "      <th>proline</th>\n",
       "    </tr>\n",
       "  </thead>\n",
       "  <tbody>\n",
       "    <tr>\n",
       "      <th>0</th>\n",
       "      <td>14.23</td>\n",
       "      <td>1.71</td>\n",
       "      <td>2.43</td>\n",
       "      <td>15.6</td>\n",
       "      <td>127.0</td>\n",
       "      <td>2.80</td>\n",
       "      <td>3.06</td>\n",
       "      <td>0.28</td>\n",
       "      <td>2.29</td>\n",
       "      <td>5.64</td>\n",
       "      <td>1.04</td>\n",
       "      <td>3.92</td>\n",
       "      <td>1065.0</td>\n",
       "    </tr>\n",
       "    <tr>\n",
       "      <th>1</th>\n",
       "      <td>13.20</td>\n",
       "      <td>1.78</td>\n",
       "      <td>2.14</td>\n",
       "      <td>11.2</td>\n",
       "      <td>100.0</td>\n",
       "      <td>2.65</td>\n",
       "      <td>2.76</td>\n",
       "      <td>0.26</td>\n",
       "      <td>1.28</td>\n",
       "      <td>4.38</td>\n",
       "      <td>1.05</td>\n",
       "      <td>3.40</td>\n",
       "      <td>1050.0</td>\n",
       "    </tr>\n",
       "    <tr>\n",
       "      <th>2</th>\n",
       "      <td>13.16</td>\n",
       "      <td>2.36</td>\n",
       "      <td>2.67</td>\n",
       "      <td>18.6</td>\n",
       "      <td>101.0</td>\n",
       "      <td>2.80</td>\n",
       "      <td>3.24</td>\n",
       "      <td>0.30</td>\n",
       "      <td>2.81</td>\n",
       "      <td>5.68</td>\n",
       "      <td>1.03</td>\n",
       "      <td>3.17</td>\n",
       "      <td>1185.0</td>\n",
       "    </tr>\n",
       "    <tr>\n",
       "      <th>3</th>\n",
       "      <td>14.37</td>\n",
       "      <td>1.95</td>\n",
       "      <td>2.50</td>\n",
       "      <td>16.8</td>\n",
       "      <td>113.0</td>\n",
       "      <td>3.85</td>\n",
       "      <td>3.49</td>\n",
       "      <td>0.24</td>\n",
       "      <td>2.18</td>\n",
       "      <td>7.80</td>\n",
       "      <td>0.86</td>\n",
       "      <td>3.45</td>\n",
       "      <td>1480.0</td>\n",
       "    </tr>\n",
       "    <tr>\n",
       "      <th>4</th>\n",
       "      <td>13.24</td>\n",
       "      <td>2.59</td>\n",
       "      <td>2.87</td>\n",
       "      <td>21.0</td>\n",
       "      <td>118.0</td>\n",
       "      <td>2.80</td>\n",
       "      <td>2.69</td>\n",
       "      <td>0.39</td>\n",
       "      <td>1.82</td>\n",
       "      <td>4.32</td>\n",
       "      <td>1.04</td>\n",
       "      <td>2.93</td>\n",
       "      <td>735.0</td>\n",
       "    </tr>\n",
       "  </tbody>\n",
       "</table>\n",
       "</div>"
      ],
      "text/plain": [
       "   alcohol  malic_acid   ash  alcalinity_of_ash  magnesium  total_phenols  \\\n",
       "0    14.23        1.71  2.43               15.6      127.0           2.80   \n",
       "1    13.20        1.78  2.14               11.2      100.0           2.65   \n",
       "2    13.16        2.36  2.67               18.6      101.0           2.80   \n",
       "3    14.37        1.95  2.50               16.8      113.0           3.85   \n",
       "4    13.24        2.59  2.87               21.0      118.0           2.80   \n",
       "\n",
       "   flavanoids  nonflavanoid_phenols  proanthocyanins  color_intensity   hue  \\\n",
       "0        3.06                  0.28             2.29             5.64  1.04   \n",
       "1        2.76                  0.26             1.28             4.38  1.05   \n",
       "2        3.24                  0.30             2.81             5.68  1.03   \n",
       "3        3.49                  0.24             2.18             7.80  0.86   \n",
       "4        2.69                  0.39             1.82             4.32  1.04   \n",
       "\n",
       "   od280/od315_of_diluted_wines  proline  \n",
       "0                          3.92   1065.0  \n",
       "1                          3.40   1050.0  \n",
       "2                          3.17   1185.0  \n",
       "3                          3.45   1480.0  \n",
       "4                          2.93    735.0  "
      ]
     },
     "execution_count": 29,
     "metadata": {},
     "output_type": "execute_result"
    }
   ],
   "source": [
    "df_wine.head()"
   ]
  },
  {
   "cell_type": "markdown",
   "id": "boxed-confusion",
   "metadata": {},
   "source": [
    "Visualizziamo anche le etichette che fanno rifermento a tre diversi tipi di vitigni che crescono in diverse zone d'italia"
   ]
  },
  {
   "cell_type": "code",
   "execution_count": 30,
   "id": "formed-color",
   "metadata": {},
   "outputs": [
    {
     "data": {
      "text/plain": [
       "array([0, 0, 0, 0, 0, 0, 0, 0, 0, 0, 0, 0, 0, 0, 0, 0, 0, 0, 0, 0, 0, 0,\n",
       "       0, 0, 0, 0, 0, 0, 0, 0, 0, 0, 0, 0, 0, 0, 0, 0, 0, 0, 0, 0, 0, 0,\n",
       "       0, 0, 0, 0, 0, 0, 0, 0, 0, 0, 0, 0, 0, 0, 0, 1, 1, 1, 1, 1, 1, 1,\n",
       "       1, 1, 1, 1, 1, 1, 1, 1, 1, 1, 1, 1, 1, 1, 1, 1, 1, 1, 1, 1, 1, 1,\n",
       "       1, 1, 1, 1, 1, 1, 1, 1, 1, 1, 1, 1, 1, 1, 1, 1, 1, 1, 1, 1, 1, 1,\n",
       "       1, 1, 1, 1, 1, 1, 1, 1, 1, 1, 1, 1, 1, 1, 1, 1, 1, 1, 1, 1, 2, 2,\n",
       "       2, 2, 2, 2, 2, 2, 2, 2, 2, 2, 2, 2, 2, 2, 2, 2, 2, 2, 2, 2, 2, 2,\n",
       "       2, 2, 2, 2, 2, 2, 2, 2, 2, 2, 2, 2, 2, 2, 2, 2, 2, 2, 2, 2, 2, 2,\n",
       "       2, 2])"
      ]
     },
     "execution_count": 30,
     "metadata": {},
     "output_type": "execute_result"
    }
   ],
   "source": [
    "wine.target"
   ]
  },
  {
   "cell_type": "markdown",
   "id": "deluxe-coaching",
   "metadata": {},
   "source": [
    "Ora come detto prima andiamo a dividere utilizzando la libreria sklearn il dataset in due parti quella di addestramento e quella di test.\n",
    "\n"
   ]
  },
  {
   "cell_type": "code",
   "execution_count": 31,
   "id": "referenced-tuning",
   "metadata": {},
   "outputs": [],
   "source": [
    "from sklearn.model_selection import train_test_split\n",
    "\n",
    "X_train,X_test,y_train,y_test = train_test_split(wine.data,wine.target,test_size = 0.3)"
   ]
  },
  {
   "cell_type": "markdown",
   "id": "julian-animal",
   "metadata": {},
   "source": [
    "con il metodo sopra abbiamo diviso il dataset in modo casuale in modo da avere il 70% dei dati nel dataset di train e il restante 30% in quello di test. La scelta della dimensione del dataset di test è molto importante in quanto più dati daremo al datest di test e più sotrarremo informazioni importanti alla fase di addestramento mentre se daremo troppi dati al dataset di train rederemo inutile il dataset stesso, le dimensioni di sono 60/40 oppure 70/30 o 80/20 per dataset particolarmente grandi si può anche arrivare ad un rapporto 99/1"
   ]
  },
  {
   "cell_type": "markdown",
   "id": "charitable-silicon",
   "metadata": {},
   "source": [
    "## Portare tutte le caratteristiche sulla stessa scala\n",
    "\n",
    "Portare tutte le carattertiche sulla stessa scala è un buon inizio in quanto molti algoritmi potrebbero avere dei problemi nella fase di training, per fare un esempio pratico supponiamo di avere due features con due scale diverse una con valori che vanno da 1 a 10 e una con valori da 1 e 100000 se ci ragioniamo un'attimo l'algoritmo sarà più occupato a minimizzare gli errori che porta la seconda caratteristica rispetto alla prima.\n",
    "\n",
    "Ora vi sono due approcci di riduzione di scala la *normalizzazione* e la *standardizzazione* e talvolta questi due termini sono usati come lo stesso, in realtà definiamo come:\n",
    "\n",
    "* La normalizzazione fa riferimento ad un cambio di scala che porta il risultato ad avere valori compresi tra [0,1]\n",
    "* La standardizzazione fa in modo che la caratteristica abbia la media con valore 0 e deviazione standard 1\n",
    "\n",
    "La normalizzazione può essere espressa con la seguente formula $$x^i_{norm} = \\frac{x^i - x_{min}}{x_{max} - x_{min}}$$\n",
    "\n",
    "La standardizzazione invece si può esprimere nel seguente modo $$x^i_{std} = \\frac{x^i - \\mu_x}{\\sigma_x}$$ \n",
    "\n",
    "dove $\\mu_x$ rappresenta la media di x mentre $\\sigma_x$ rappresenta la deviazione standard.\n",
    "Vediamo un esempio pratico qui sotto utilizzando le funzioni messe a disposizione da sklearn"
   ]
  },
  {
   "cell_type": "code",
   "execution_count": 32,
   "id": "unnecessary-wonder",
   "metadata": {},
   "outputs": [],
   "source": [
    "import numpy as np\n",
    "from sklearn.preprocessing import MinMaxScaler\n",
    "from sklearn.preprocessing import StandardScaler\n",
    "\n",
    "mms = MinMaxScaler()\n",
    "stds = StandardScaler()\n",
    "\n",
    "test_scaler = pd.DataFrame(np.arange(10),columns =[\"Input\"])\n",
    "test_scaler['Normalizzato'] = mms.fit_transform(test_scaler[\"Input\"].values.reshape(-1, 1))\n",
    "test_scaler['Standardizzato'] = stds.fit_transform(test_scaler[\"Input\"].values.reshape(-1, 1))"
   ]
  },
  {
   "cell_type": "code",
   "execution_count": 33,
   "id": "coastal-consistency",
   "metadata": {},
   "outputs": [
    {
     "data": {
      "text/html": [
       "<div>\n",
       "<style scoped>\n",
       "    .dataframe tbody tr th:only-of-type {\n",
       "        vertical-align: middle;\n",
       "    }\n",
       "\n",
       "    .dataframe tbody tr th {\n",
       "        vertical-align: top;\n",
       "    }\n",
       "\n",
       "    .dataframe thead th {\n",
       "        text-align: right;\n",
       "    }\n",
       "</style>\n",
       "<table border=\"1\" class=\"dataframe\">\n",
       "  <thead>\n",
       "    <tr style=\"text-align: right;\">\n",
       "      <th></th>\n",
       "      <th>Input</th>\n",
       "      <th>Normalizzato</th>\n",
       "      <th>Standardizzato</th>\n",
       "    </tr>\n",
       "  </thead>\n",
       "  <tbody>\n",
       "    <tr>\n",
       "      <th>0</th>\n",
       "      <td>0</td>\n",
       "      <td>0.000000</td>\n",
       "      <td>-1.566699</td>\n",
       "    </tr>\n",
       "    <tr>\n",
       "      <th>1</th>\n",
       "      <td>1</td>\n",
       "      <td>0.111111</td>\n",
       "      <td>-1.218544</td>\n",
       "    </tr>\n",
       "    <tr>\n",
       "      <th>2</th>\n",
       "      <td>2</td>\n",
       "      <td>0.222222</td>\n",
       "      <td>-0.870388</td>\n",
       "    </tr>\n",
       "    <tr>\n",
       "      <th>3</th>\n",
       "      <td>3</td>\n",
       "      <td>0.333333</td>\n",
       "      <td>-0.522233</td>\n",
       "    </tr>\n",
       "    <tr>\n",
       "      <th>4</th>\n",
       "      <td>4</td>\n",
       "      <td>0.444444</td>\n",
       "      <td>-0.174078</td>\n",
       "    </tr>\n",
       "    <tr>\n",
       "      <th>5</th>\n",
       "      <td>5</td>\n",
       "      <td>0.555556</td>\n",
       "      <td>0.174078</td>\n",
       "    </tr>\n",
       "    <tr>\n",
       "      <th>6</th>\n",
       "      <td>6</td>\n",
       "      <td>0.666667</td>\n",
       "      <td>0.522233</td>\n",
       "    </tr>\n",
       "    <tr>\n",
       "      <th>7</th>\n",
       "      <td>7</td>\n",
       "      <td>0.777778</td>\n",
       "      <td>0.870388</td>\n",
       "    </tr>\n",
       "    <tr>\n",
       "      <th>8</th>\n",
       "      <td>8</td>\n",
       "      <td>0.888889</td>\n",
       "      <td>1.218544</td>\n",
       "    </tr>\n",
       "    <tr>\n",
       "      <th>9</th>\n",
       "      <td>9</td>\n",
       "      <td>1.000000</td>\n",
       "      <td>1.566699</td>\n",
       "    </tr>\n",
       "  </tbody>\n",
       "</table>\n",
       "</div>"
      ],
      "text/plain": [
       "   Input  Normalizzato  Standardizzato\n",
       "0      0      0.000000       -1.566699\n",
       "1      1      0.111111       -1.218544\n",
       "2      2      0.222222       -0.870388\n",
       "3      3      0.333333       -0.522233\n",
       "4      4      0.444444       -0.174078\n",
       "5      5      0.555556        0.174078\n",
       "6      6      0.666667        0.522233\n",
       "7      7      0.777778        0.870388\n",
       "8      8      0.888889        1.218544\n",
       "9      9      1.000000        1.566699"
      ]
     },
     "execution_count": 33,
     "metadata": {},
     "output_type": "execute_result"
    }
   ],
   "source": [
    "test_scaler"
   ]
  },
  {
   "cell_type": "markdown",
   "id": "neither-pasta",
   "metadata": {},
   "source": [
    "Vediamo un esempio più dettagliato di come la distribuzione dei valori cambia con i due esempi di normalizzazione"
   ]
  },
  {
   "cell_type": "code",
   "execution_count": 34,
   "id": "linear-toddler",
   "metadata": {},
   "outputs": [
    {
     "data": {
      "text/plain": [
       "Text(0.5, 1.0, 'Standardized data')"
      ]
     },
     "execution_count": 34,
     "metadata": {},
     "output_type": "execute_result"
    },
    {
     "data": {
      "image/png": "[encoded data removed]",
      "text/plain": [
       "<Figure size 1080x432 with 3 Axes>"
      ]
     },
     "metadata": {
      "needs_background": "light"
     },
     "output_type": "display_data"
    }
   ],
   "source": [
    "import seaborn as sns\n",
    "import matplotlib.pyplot as plt\n",
    "from scipy import stats\n",
    "\n",
    "\n",
    "original_data = np.random.exponential(size=1000)\n",
    "scaled_data = mms.fit_transform(original_data.reshape(-1, 1))\n",
    "normalized_data = stds.fit_transform(original_data.reshape(-1, 1))\n",
    "#normalized_data = stats.boxcox(original_data)[0]\n",
    "\n",
    "fig, ax=plt.subplots(figsize=(15,6),nrows=1,ncols=3)\n",
    "sns.histplot(data=original_data, kde=True,ax=ax[0])\n",
    "ax[0].set_title(\"Original Data\")\n",
    "sns.histplot(data=scaled_data, kde=True,ax=ax[1])\n",
    "ax[1].set_title(\"Scaled data\")\n",
    "sns.histplot(data=normalized_data, kde=True,ax=ax[2])\n",
    "ax[2].set_title(\"Standardized data\")\n"
   ]
  },
  {
   "cell_type": "markdown",
   "id": "freelance-asbestos",
   "metadata": {},
   "source": [
    "### Normalizzare la distribuzione dei valori\n",
    "\n",
    "La scalatura dei dati cambia solo l'intervallo dei dati la normalizzazione della distribuzione cambia completamente la distribuzione dei valori in modo da farla arrivare ad una distribuzione normale, la famosa curva a campana.\n"
   ]
  },
  {
   "cell_type": "code",
   "execution_count": 35,
   "id": "bright-policy",
   "metadata": {},
   "outputs": [
    {
     "data": {
      "text/plain": [
       "Text(0.5, 1.0, 'Normalized data')"
      ]
     },
     "execution_count": 35,
     "metadata": {},
     "output_type": "execute_result"
    },
    {
     "data": {
      "image/png": "[encoded data removed]",
      "text/plain": [
       "<Figure size 1080x432 with 2 Axes>"
      ]
     },
     "metadata": {
      "needs_background": "light"
     },
     "output_type": "display_data"
    }
   ],
   "source": [
    "from sklearn.preprocessing import PowerTransformer\n",
    "pt = PowerTransformer(method='box-cox')\n",
    "\n",
    "normalized_data = pt.fit_transform(original_data.reshape(-1, 1))\n",
    "\n",
    "fig, ax=plt.subplots(figsize=(15,6),nrows=1,ncols=2)\n",
    "sns.histplot(data=original_data, kde=True,ax=ax[0])\n",
    "ax[0].set_title(\"Original Data\")\n",
    "sns.histplot(data=normalized_data, kde=True,ax=ax[1])\n",
    "ax[1].set_title(\"Normalized data\")"
   ]
  },
  {
   "cell_type": "markdown",
   "id": "phantom-error",
   "metadata": {},
   "source": [
    "## Selezione delle caratteristiche appropiate\n",
    "\n",
    "Quando notiamo che un modello si comporta meglio nel dataset di training rispetto la test, molto probabilmente siamo di fronte ad un problema di *overfitting* per ovviare a questo problema le strategie per risolvere il problema possono essere :\n",
    "\n",
    "* raccogliere più dati di addestramento\n",
    "* introdurre una penalità sulla complessità mediante la regolarizzazione\n",
    "* scegliere un modello più semplice\n",
    "* ridurre la dimensionalità dei dati\n",
    "\n",
    "La prima soluzione non è sempre possibile, nella prossima parte affronteremo la regolarizzazione nel dettaglio.\n",
    "\n",
    "### Soluzioni sparse, la regolarizzazione L1\n",
    "\n",
    "Nella lezione scorsa abbiamo introdotto il concetto di regolarizzazione *L2* che introduce una penalità sulla complessità del modello penalizzando i pesi con valori elevati. La formula di penalizzazione L2 si può esprimere come:\n",
    "$$\\lVert w \\rVert^2 = \\sum_{j=1}^{m} w_j^2$$\n",
    "Un'altro approccio per la riduzione della complessità è la regolarizzazione *L1* che si può scrivere in questo modo:\n",
    "$$\\lVert w \\rVert = \\sum_{j=1}^{m} \\left|w_j\\right|$$\n",
    "Abbiamo semplicemente sostituito la somma del quadrato dei pesi con con il valore assoluto.\n",
    "La soluzione L1 rispetto alla L2 restituisce soluzioni sparse andiamo visualizzare il perchè.\n",
    "Andiamo innanzitutto ad analizzare l'andamento delle due funzioni di costo."
   ]
  },
  {
   "cell_type": "code",
   "execution_count": 17,
   "id": "complicated-cincinnati",
   "metadata": {},
   "outputs": [
    {
     "data": {
      "text/plain": [
       "<a list of 17 text.Text objects>"
      ]
     },
     "execution_count": 17,
     "metadata": {},
     "output_type": "execute_result"
    },
    {
     "data": {
      "image/png": "[encoded data removed]",
      "text/plain": [
       "<Figure size 432x288 with 1 Axes>"
      ]
     },
     "metadata": {
      "needs_background": "light"
     },
     "output_type": "display_data"
    }
   ],
   "source": [
    "import numpy as np\n",
    "import matplotlib.pyplot as plt\n",
    "\n",
    "x_min = -2\n",
    "x_max = 2\n",
    "resolution=0.02\n",
    "xx1, xx2 = np.meshgrid(np.arange(x_min, x_max, resolution), np.arange(x_min, x_max, resolution))\n",
    "\n",
    "Z1 = np.abs(xx1) + np.abs(xx2)\n",
    "CS = plt.contour(xx1, xx2, Z1)\n",
    "plt.clabel(CS, inline=1, fontsize=10)\n"
   ]
  },
  {
   "cell_type": "code",
   "execution_count": 18,
   "id": "earlier-tonight",
   "metadata": {},
   "outputs": [
    {
     "data": {
      "text/plain": [
       "<a list of 15 text.Text objects>"
      ]
     },
     "execution_count": 18,
     "metadata": {},
     "output_type": "execute_result"
    },
    {
     "data": {
      "image/png": "[encoded data removed]",
      "text/plain": [
       "<Figure size 432x288 with 1 Axes>"
      ]
     },
     "metadata": {
      "needs_background": "light"
     },
     "output_type": "display_data"
    }
   ],
   "source": [
    "Z2 = xx1 ** 2 + xx2 ** 2\n",
    "CS = plt.contour(xx1, xx2, Z2)\n",
    "plt.clabel(CS, inline=1, fontsize=10)"
   ]
  },
  {
   "cell_type": "code",
   "execution_count": null,
   "id": "finished-wholesale",
   "metadata": {},
   "outputs": [],
   "source": []
  }
 ],
 "metadata": {
  "kernelspec": {
   "display_name": "Python 3",
   "language": "python",
   "name": "python3"
  },
  "language_info": {
   "codemirror_mode": {
    "name": "ipython",
    "version": 3
   },
   "file_extension": ".py",
   "mimetype": "text/x-python",
   "name": "python",
   "nbconvert_exporter": "python",
   "pygments_lexer": "ipython3",
   "version": "3.7.10"
  }
 },
 "nbformat": 4,
 "nbformat_minor": 5
}
