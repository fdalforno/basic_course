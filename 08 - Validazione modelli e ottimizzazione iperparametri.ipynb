{
 "cells": [
  {
   "cell_type": "markdown",
   "id": "contemporary-decision",
   "metadata": {},
   "source": [
    "# Validazione e ottimizzazione iperparametri\n",
    "\n",
    "In questo capitolo cercheremo di migliorare i risultati ottenuti con i passi precedenti, ottimizzando gli algoritmi e valutando bene i risultati.\n",
    "\n",
    "## Caricamento del dataset e utilizzo delle pipeline\n",
    "In questo capitolo utilizzeremo il dataset *Breast Cancer Wisconsin* le prime due colonne sono un identificativo del caso e la diagnosi corrispondente le caratterstiche dalla 3 alla 32 sono valori oggettivi ottenuti dalle immagini digitalizzare del nucleo della cellula."
   ]
  },
  {
   "cell_type": "code",
   "execution_count": 2,
   "id": "light-basin",
   "metadata": {},
   "outputs": [
    {
     "data": {
      "text/html": [
       "<div>\n",
       "<style scoped>\n",
       "    .dataframe tbody tr th:only-of-type {\n",
       "        vertical-align: middle;\n",
       "    }\n",
       "\n",
       "    .dataframe tbody tr th {\n",
       "        vertical-align: top;\n",
       "    }\n",
       "\n",
       "    .dataframe thead th {\n",
       "        text-align: right;\n",
       "    }\n",
       "</style>\n",
       "<table border=\"1\" class=\"dataframe\">\n",
       "  <thead>\n",
       "    <tr style=\"text-align: right;\">\n",
       "      <th></th>\n",
       "      <th>id</th>\n",
       "      <th>diagnosis</th>\n",
       "      <th>radius_mean</th>\n",
       "      <th>texture_mean</th>\n",
       "      <th>perimeter_mean</th>\n",
       "      <th>area_mean</th>\n",
       "      <th>smoothness_mean</th>\n",
       "      <th>compactness_mean</th>\n",
       "      <th>concavity_mean</th>\n",
       "      <th>concave points_mean</th>\n",
       "      <th>...</th>\n",
       "      <th>texture_worst</th>\n",
       "      <th>perimeter_worst</th>\n",
       "      <th>area_worst</th>\n",
       "      <th>smoothness_worst</th>\n",
       "      <th>compactness_worst</th>\n",
       "      <th>concavity_worst</th>\n",
       "      <th>concave points_worst</th>\n",
       "      <th>symmetry_worst</th>\n",
       "      <th>fractal_dimension_worst</th>\n",
       "      <th>Unnamed: 32</th>\n",
       "    </tr>\n",
       "  </thead>\n",
       "  <tbody>\n",
       "    <tr>\n",
       "      <th>0</th>\n",
       "      <td>842302</td>\n",
       "      <td>M</td>\n",
       "      <td>17.99</td>\n",
       "      <td>10.38</td>\n",
       "      <td>122.80</td>\n",
       "      <td>1001.0</td>\n",
       "      <td>0.11840</td>\n",
       "      <td>0.27760</td>\n",
       "      <td>0.3001</td>\n",
       "      <td>0.14710</td>\n",
       "      <td>...</td>\n",
       "      <td>17.33</td>\n",
       "      <td>184.60</td>\n",
       "      <td>2019.0</td>\n",
       "      <td>0.1622</td>\n",
       "      <td>0.6656</td>\n",
       "      <td>0.7119</td>\n",
       "      <td>0.2654</td>\n",
       "      <td>0.4601</td>\n",
       "      <td>0.11890</td>\n",
       "      <td>NaN</td>\n",
       "    </tr>\n",
       "    <tr>\n",
       "      <th>1</th>\n",
       "      <td>842517</td>\n",
       "      <td>M</td>\n",
       "      <td>20.57</td>\n",
       "      <td>17.77</td>\n",
       "      <td>132.90</td>\n",
       "      <td>1326.0</td>\n",
       "      <td>0.08474</td>\n",
       "      <td>0.07864</td>\n",
       "      <td>0.0869</td>\n",
       "      <td>0.07017</td>\n",
       "      <td>...</td>\n",
       "      <td>23.41</td>\n",
       "      <td>158.80</td>\n",
       "      <td>1956.0</td>\n",
       "      <td>0.1238</td>\n",
       "      <td>0.1866</td>\n",
       "      <td>0.2416</td>\n",
       "      <td>0.1860</td>\n",
       "      <td>0.2750</td>\n",
       "      <td>0.08902</td>\n",
       "      <td>NaN</td>\n",
       "    </tr>\n",
       "    <tr>\n",
       "      <th>2</th>\n",
       "      <td>84300903</td>\n",
       "      <td>M</td>\n",
       "      <td>19.69</td>\n",
       "      <td>21.25</td>\n",
       "      <td>130.00</td>\n",
       "      <td>1203.0</td>\n",
       "      <td>0.10960</td>\n",
       "      <td>0.15990</td>\n",
       "      <td>0.1974</td>\n",
       "      <td>0.12790</td>\n",
       "      <td>...</td>\n",
       "      <td>25.53</td>\n",
       "      <td>152.50</td>\n",
       "      <td>1709.0</td>\n",
       "      <td>0.1444</td>\n",
       "      <td>0.4245</td>\n",
       "      <td>0.4504</td>\n",
       "      <td>0.2430</td>\n",
       "      <td>0.3613</td>\n",
       "      <td>0.08758</td>\n",
       "      <td>NaN</td>\n",
       "    </tr>\n",
       "    <tr>\n",
       "      <th>3</th>\n",
       "      <td>84348301</td>\n",
       "      <td>M</td>\n",
       "      <td>11.42</td>\n",
       "      <td>20.38</td>\n",
       "      <td>77.58</td>\n",
       "      <td>386.1</td>\n",
       "      <td>0.14250</td>\n",
       "      <td>0.28390</td>\n",
       "      <td>0.2414</td>\n",
       "      <td>0.10520</td>\n",
       "      <td>...</td>\n",
       "      <td>26.50</td>\n",
       "      <td>98.87</td>\n",
       "      <td>567.7</td>\n",
       "      <td>0.2098</td>\n",
       "      <td>0.8663</td>\n",
       "      <td>0.6869</td>\n",
       "      <td>0.2575</td>\n",
       "      <td>0.6638</td>\n",
       "      <td>0.17300</td>\n",
       "      <td>NaN</td>\n",
       "    </tr>\n",
       "    <tr>\n",
       "      <th>4</th>\n",
       "      <td>84358402</td>\n",
       "      <td>M</td>\n",
       "      <td>20.29</td>\n",
       "      <td>14.34</td>\n",
       "      <td>135.10</td>\n",
       "      <td>1297.0</td>\n",
       "      <td>0.10030</td>\n",
       "      <td>0.13280</td>\n",
       "      <td>0.1980</td>\n",
       "      <td>0.10430</td>\n",
       "      <td>...</td>\n",
       "      <td>16.67</td>\n",
       "      <td>152.20</td>\n",
       "      <td>1575.0</td>\n",
       "      <td>0.1374</td>\n",
       "      <td>0.2050</td>\n",
       "      <td>0.4000</td>\n",
       "      <td>0.1625</td>\n",
       "      <td>0.2364</td>\n",
       "      <td>0.07678</td>\n",
       "      <td>NaN</td>\n",
       "    </tr>\n",
       "  </tbody>\n",
       "</table>\n",
       "<p>5 rows × 33 columns</p>\n",
       "</div>"
      ],
      "text/plain": [
       "         id diagnosis  radius_mean  texture_mean  perimeter_mean  area_mean  \\\n",
       "0    842302         M        17.99         10.38          122.80     1001.0   \n",
       "1    842517         M        20.57         17.77          132.90     1326.0   \n",
       "2  84300903         M        19.69         21.25          130.00     1203.0   \n",
       "3  84348301         M        11.42         20.38           77.58      386.1   \n",
       "4  84358402         M        20.29         14.34          135.10     1297.0   \n",
       "\n",
       "   smoothness_mean  compactness_mean  concavity_mean  concave points_mean  \\\n",
       "0          0.11840           0.27760          0.3001              0.14710   \n",
       "1          0.08474           0.07864          0.0869              0.07017   \n",
       "2          0.10960           0.15990          0.1974              0.12790   \n",
       "3          0.14250           0.28390          0.2414              0.10520   \n",
       "4          0.10030           0.13280          0.1980              0.10430   \n",
       "\n",
       "   ...  texture_worst  perimeter_worst  area_worst  smoothness_worst  \\\n",
       "0  ...          17.33           184.60      2019.0            0.1622   \n",
       "1  ...          23.41           158.80      1956.0            0.1238   \n",
       "2  ...          25.53           152.50      1709.0            0.1444   \n",
       "3  ...          26.50            98.87       567.7            0.2098   \n",
       "4  ...          16.67           152.20      1575.0            0.1374   \n",
       "\n",
       "   compactness_worst  concavity_worst  concave points_worst  symmetry_worst  \\\n",
       "0             0.6656           0.7119                0.2654          0.4601   \n",
       "1             0.1866           0.2416                0.1860          0.2750   \n",
       "2             0.4245           0.4504                0.2430          0.3613   \n",
       "3             0.8663           0.6869                0.2575          0.6638   \n",
       "4             0.2050           0.4000                0.1625          0.2364   \n",
       "\n",
       "   fractal_dimension_worst  Unnamed: 32  \n",
       "0                  0.11890          NaN  \n",
       "1                  0.08902          NaN  \n",
       "2                  0.08758          NaN  \n",
       "3                  0.17300          NaN  \n",
       "4                  0.07678          NaN  \n",
       "\n",
       "[5 rows x 33 columns]"
      ]
     },
     "execution_count": 2,
     "metadata": {},
     "output_type": "execute_result"
    }
   ],
   "source": [
    "import pandas as pd\n",
    "df = pd.read_csv('./data/data.csv')\n",
    "\n",
    "df.head()"
   ]
  },
  {
   "cell_type": "code",
   "execution_count": 3,
   "id": "comic-insider",
   "metadata": {},
   "outputs": [],
   "source": [
    "X = df.loc[:,'radius_mean':'fractal_dimension_worst']\n",
    "y = df.loc[:,'diagnosis']"
   ]
  },
  {
   "cell_type": "code",
   "execution_count": 4,
   "id": "elegant-steps",
   "metadata": {},
   "outputs": [],
   "source": [
    "label_map = {'M': 1, 'B': 0}\n",
    "y = y.map(label_map)"
   ]
  },
  {
   "cell_type": "markdown",
   "id": "unlike-effectiveness",
   "metadata": {},
   "source": [
    "Ora che abbiamo creato il dataset nel formato desiderato andiamo a dividere i dati in due parti, l'80% verranno utilizzati per l'addestramento (train) mentre il 20% per testare la correttezza del nostro sistema (test)."
   ]
  },
  {
   "cell_type": "code",
   "execution_count": 5,
   "id": "representative-tiffany",
   "metadata": {},
   "outputs": [],
   "source": [
    "from sklearn.model_selection import train_test_split\n",
    "\n",
    "X_train,X_test,y_train,y_test = train_test_split(X,y,test_size = 0.20)"
   ]
  },
  {
   "cell_type": "markdown",
   "id": "precise-karma",
   "metadata": {},
   "source": [
    "### Combinare estimatori e trasformatori in una pipeline\n",
    "\n",
    "Creiamo ora un sistema che esegua in un solo passo la trasformazione PCA vista nella lezione precedente e la regressione logistica.\n",
    "Per svolgere questo lavoro usiamo l'oggetto `Pipeline`"
   ]
  },
  {
   "cell_type": "code",
   "execution_count": 6,
   "id": "refined-trace",
   "metadata": {},
   "outputs": [
    {
     "data": {
      "text/plain": [
       "Pipeline(steps=[('standardscaler', StandardScaler()),\n",
       "                ('pca', PCA(n_components=2)),\n",
       "                ('logisticregression', LogisticRegression())])"
      ]
     },
     "execution_count": 6,
     "metadata": {},
     "output_type": "execute_result"
    }
   ],
   "source": [
    "from sklearn.pipeline import make_pipeline\n",
    "from sklearn.preprocessing import StandardScaler\n",
    "from sklearn.decomposition import PCA\n",
    "from sklearn.linear_model import LogisticRegression\n",
    "\n",
    "pipeline = make_pipeline(StandardScaler(),PCA(n_components=2),LogisticRegression(solver='lbfgs'))\n",
    "pipeline.fit(X_train,y_train)"
   ]
  },
  {
   "cell_type": "code",
   "execution_count": 7,
   "id": "graduate-residence",
   "metadata": {},
   "outputs": [
    {
     "name": "stdout",
     "output_type": "stream",
     "text": [
      "Test accuracy: 0.947\n"
     ]
    }
   ],
   "source": [
    "score = pipeline.score(X_test,y_test)\n",
    "print(\"Test accuracy: {0:.3f}\".format(score))"
   ]
  },
  {
   "cell_type": "markdown",
   "id": "southwest-curve",
   "metadata": {},
   "source": [
    "La funzione `make_pipeline` accetta in ingresso un numero arbitrario di transformer (che supportano sia il metodo `fit` che il metodo `transform`) seguito da un oggetto estimatore che implementa i metodi `fit` e `predict`.\n",
    "\n",
    "Possiamo pensare che l'oggetto `Pipeline` sia una box in cui quando chiamiamo il metodo `fit` i dati passano attraverso tutti i trasformatori (viene chiamato il metodo `fit`) fino ad arrivare al trasformatore finale.\n",
    "\n",
    "Quando invece viene chiamato il metodo `predict` i dati passano attravesrso i trasformatori utilizzando il metodo `tranform` fino ad arrivare alla fine dove incontrano l'estimatore in cui viene richiamato il metodo `predict`.\n",
    "\n",
    "## Utilizzo della convalida incrociata k-fold per valutare le prestazioni del modello\n",
    "\n",
    "Per impostare bene il nostro modello dobbiamo trovare un buon compromesso tra underfitting e overfitting nei prossimi passi affronteremo le varie strategie per per stimare l'errore di generalizzazione.\n",
    "\n",
    "### Il modello holdout\n",
    "L'approccio classico per la stima delle prestazioni è il modello holdout, con esso si divide il dataset in due parti train e test. Il primo viene ovviamente utilizzato per il train ed il secondo per il test finale tuttavia siamo interessati anche ad ottimizziare i parametri che lo stesso mette a disposizione *(iperparametri)*. Tuttavia se utilizzassimo i dati di test per l'ottimizzazione essi finirebbero a far parte dei nostri dati di train ed il modello andrebbe certamente in contro ad un problema di overfitting.\n",
    "Per ovviare a questo problema si divide il dataset di train in due pessi la parte di train e la parte di convalida che verrà utilizzata per calcorare la migliore combinazione di iperparametri.\n",
    "Una volta eseguito questi passaggi potremmo finalmente utilizzare il dataset di test per controllare il comportamento del modello.\n",
    "Lo svantaggio di questo sistema sta nel fatto che è fortemente legato al modo in cui i dati vengono divisi.\n",
    "\n",
    "Nel prossimo paragrafo andremo ad analizzare la convalida incrociata che essenzialmente ripete il modello holdout sul dataset n volte, con una stima più precisa.\n",
    "\n",
    "### Convalida incrociata K-fold\n",
    "Nella convalida incrociata K-fold, suddividiamo in modo casuale il dataset di addestramento in k parti senza reinserimento, k-1 parti verranno utilizzate per l'addestramento del modello e l'ultima verrà utilizzata per verificare le caratteristiche del modello. Questa procedura viene ripetuta k volte con k stime di prestazioni.\n",
    "\n",
    "Per calcolare i parametri migliori da utilizzare sul modello di utilizza il metodo k-fold, una volta eseguito questo passo si riesegue l'addestramento sull'intero dataset di train e si ottiene la stima finale utilizzando il dataset di test.\n",
    "Il valore standard di k è pari a 10, di solito questo valore è sufficiente per la maggior parte dei casi.\n",
    "Se stiamo lavorando con dataset piccoli potremo scegliere un valore di k più grande per avere un dataset di addestramento il piu grande possibile. Tuttavia avremo anche dei risultati intermedi con varianzia più elevata.\n",
    "\n",
    "Per dataset molto grandi invece conviene usare valori più piccoli ad esempio k = 5, per ridurre anche il costo computazionale.\n",
    "\n",
    "Un leggero miglioramento del sistema k-fold è la convalida incrociata k-fold stratificata, con questo tipo di convalida le proporzioni tra le classi vengono preservate in ciascuna parte, per garantire che ciascuna parte abbia una rappresentazione delle classi uguale.\n",
    "Qui sotto mostriamo un esempio di come funziona tale iteratore `StratifiedKFold`"
   ]
  },
  {
   "cell_type": "code",
   "execution_count": 8,
   "id": "finite-gregory",
   "metadata": {},
   "outputs": [
    {
     "name": "stdout",
     "output_type": "stream",
     "text": [
      "Class dist [252 157] accuracy 0.98\n",
      "Class dist [252 157] accuracy 0.89\n",
      "Class dist [252 157] accuracy 0.98\n",
      "Class dist [252 157] accuracy 0.96\n",
      "Class dist [252 157] accuracy 0.93\n",
      "Class dist [252 158] accuracy 0.98\n",
      "Class dist [252 158] accuracy 0.89\n",
      "Class dist [252 158] accuracy 0.93\n",
      "Class dist [252 158] accuracy 0.96\n",
      "Class dist [252 158] accuracy 0.93\n",
      "CV accuracy 0.94 +/- 0.03\n"
     ]
    }
   ],
   "source": [
    "import numpy as np\n",
    "from sklearn.model_selection import StratifiedKFold\n",
    "\n",
    "skf = StratifiedKFold(n_splits=10)\n",
    "\n",
    "scores = []\n",
    "for train_index, test_index in skf.split(X_train,y_train):\n",
    "    pipeline.fit(X_train.iloc[train_index],y_train.iloc[train_index])\n",
    "    score = pipeline.score(X_train.iloc[test_index],y_train.iloc[test_index])\n",
    "    \n",
    "    print(\"Class dist {0} accuracy {1:.2f}\".format(np.bincount(y_train.iloc[train_index]),score))\n",
    "    \n",
    "    scores.append(score)\n",
    "    \n",
    "print(\"CV accuracy {0:.2f} +/- {1:.2f}\".format(np.mean(scores),np.std(scores)))"
   ]
  },
  {
   "cell_type": "markdown",
   "id": "cordless-guarantee",
   "metadata": {},
   "source": [
    "Sebbene il precedente codice fosse utile per comprendere il funzionamento del metodo sklean implementa già tutti i passaggi attraverso la funzione `cross_val_score`"
   ]
  },
  {
   "cell_type": "code",
   "execution_count": 9,
   "id": "sixth-highway",
   "metadata": {},
   "outputs": [
    {
     "name": "stdout",
     "output_type": "stream",
     "text": [
      "CV scores [0.97826087 0.89130435 0.97826087 0.95652174 0.93478261 0.97777778\n",
      " 0.88888889 0.93333333 0.95555556 0.93333333]\n",
      "CV accuracy 0.94 +/- 0.03\n"
     ]
    }
   ],
   "source": [
    "from sklearn.model_selection import cross_val_score\n",
    "\n",
    "scores = cross_val_score(pipeline,X_train,y_train,cv=10,n_jobs=-1)\n",
    "\n",
    "print(\"CV scores {0}\".format(scores))\n",
    "print(\"CV accuracy {0:.2f} +/- {1:.2f}\".format(np.mean(scores),np.std(scores)))"
   ]
  },
  {
   "cell_type": "markdown",
   "id": "retained-mapping",
   "metadata": {},
   "source": [
    "una cosa interessante di questo ultimo metodo è che possiamo distribuire la valutazione delle varie parti su più cpu, se impostiamo il parametro `n_jobs=-1` potremmo utilizzare tutte le cpu disponibili.\n",
    "\n",
    "## Debugging degli algoritmi con le curve di apprendimento e convalida\n",
    "\n",
    "Ora esamineremo due semplici quanto potenti stumenti per analizzare le perfomance dell'algoritmo \n",
    "\n",
    "### Diagnosi dei problemi di bias e varianza con le curve di apprendimento\n",
    "Se il modello è troppo complesso per un determinato dataset di addestramento il modello tende a non convergere bene sui dati di test e dunque non generalizzare bene su dati mai visti.\n",
    "Tuttavia basterebbe ottenere più dati per mitigare il problema, questo però può risultare difficile se non impossibile.\n",
    "Tracciando il comportamento del modello in funzione dell'aumentare dei dataset possiamo individuare se il modello soffre di elevata varianza o bias.\n"
   ]
  },
  {
   "cell_type": "code",
   "execution_count": 10,
   "id": "emerging-student",
   "metadata": {},
   "outputs": [
    {
     "data": {
      "text/plain": [
       "<matplotlib.legend.Legend at 0x234c4198108>"
      ]
     },
     "execution_count": 10,
     "metadata": {},
     "output_type": "execute_result"
    },
    {
     "data": {
      "image/png": "[encoded data removed]",
      "text/plain": [
       "<Figure size 432x288 with 1 Axes>"
      ]
     },
     "metadata": {
      "needs_background": "light"
     },
     "output_type": "display_data"
    }
   ],
   "source": [
    "from sklearn.model_selection import learning_curve\n",
    "import matplotlib.pyplot as plt\n",
    "\n",
    "train_sizes, train_scores, test_scores = learning_curve(pipeline, X, y, cv=10, n_jobs=-1,train_sizes=np.linspace(0.4,1,10))\n",
    "\n",
    "train_mean = np.mean(train_scores,axis=1)\n",
    "train_std = np.std(train_scores,axis=1)\n",
    "\n",
    "test_mean = np.mean(test_scores,axis=1)\n",
    "test_std = np.std(test_scores,axis=1)\n",
    "\n",
    "plt.plot(train_sizes,train_mean,color='blue',marker='o',markersize=5,label='training accuracy')\n",
    "plt.fill_between(train_sizes,train_mean + train_std,train_mean - train_std,alpha=0.15,color='blue')\n",
    "\n",
    "plt.plot(train_sizes,test_mean,color='green',marker='s',linestyle=\"--\",markersize=3,label='validation accuracy')\n",
    "plt.fill_between(train_sizes,test_mean + test_std,test_mean - test_std,alpha=0.15,color='green')\n",
    "\n",
    "plt.grid()\n",
    "\n",
    "plt.xlabel(\"Number of elements\")\n",
    "plt.ylabel(\"Accuracy\")\n",
    "plt.legend(loc = 'lower right')"
   ]
  },
  {
   "cell_type": "markdown",
   "id": "excessive-charlotte",
   "metadata": {},
   "source": [
    "### Soluzione di problemi di overfitting e underfitting con le curve di convalida\n",
    "\n",
    "Le curve di convalida sono un ottimo strumento per migliorare le prestazioni di un modello risolvendo i problemi di overfitting. Qui invece di tracciare le curve in funzione della dimensione del campione qui si interviene sui parametri del modello.\n",
    "\n",
    "Vediamo qui sotto un esempio di curva al variare di C"
   ]
  },
  {
   "cell_type": "code",
   "execution_count": 11,
   "id": "saved-commerce",
   "metadata": {},
   "outputs": [
    {
     "data": {
      "text/plain": [
       "<matplotlib.legend.Legend at 0x234c545a908>"
      ]
     },
     "execution_count": 11,
     "metadata": {},
     "output_type": "execute_result"
    },
    {
     "data": {
      "image/png": "[encoded data removed]",
      "text/plain": [
       "<Figure size 432x288 with 1 Axes>"
      ]
     },
     "metadata": {
      "needs_background": "light"
     },
     "output_type": "display_data"
    }
   ],
   "source": [
    "from sklearn.model_selection import validation_curve\n",
    "param_range = [0.001,0.01,0.1,1.0,10.0,100.0]\n",
    "\n",
    "train_scores,test_scores =  validation_curve(pipeline, X, y,param_name='logisticregression__C',param_range=param_range,cv=10)\n",
    "\n",
    "train_mean = np.mean(train_scores,axis=1)\n",
    "train_std = np.std(train_scores,axis=1)\n",
    "\n",
    "test_mean = np.mean(test_scores,axis=1)\n",
    "test_std = np.std(test_scores,axis=1)\n",
    "\n",
    "\n",
    "plt.plot(param_range,train_mean,color='blue',marker='o',markersize=5,label='training accuracy')\n",
    "plt.fill_between(param_range,train_mean + train_std,train_mean - train_std,alpha=0.15,color='blue')\n",
    "\n",
    "plt.plot(param_range,test_mean,color='green',marker='s',linestyle=\"--\",markersize=3,label='validation accuracy')\n",
    "plt.fill_between(param_range,test_mean + test_std,test_mean - test_std,alpha=0.15,color='green')\n",
    "\n",
    "plt.grid()\n",
    "plt.xscale('log')\n",
    "plt.xlabel(\"Parameter C\")\n",
    "plt.ylabel(\"Accuracy\")\n",
    "plt.legend(loc = 'lower right')\n"
   ]
  },
  {
   "cell_type": "markdown",
   "id": "super-secondary",
   "metadata": {},
   "source": [
    "notiamo che con c > 1 l'accuratezza non aumenta e si ha inoltre un leggero overfit\n",
    "\n",
    "## Ottimizzazione dei modelli di machine learning tramite ricerca a griglia\n",
    "Come abbiamo sempre visto fino ad ora negli algoritmi di machine learning abbiamo due tipi di parametri che vengono appresi, quelli in fase di addestramento e gli iperparametri per esempio la regolarizzazione che devono essere ottimizzati separamatente.\n",
    "\n",
    "Nel codice precedente abbiamo visto come le curve di convalida ci possano aiutare nel cercare il parametro migliore, ma ora vedremo una tecnica che ci aiuterà nel cercare in automatico i parametri da ottimizzare nel miglior modo possibile.\n",
    "\n",
    "### Ottimizzazione dei parametri tramite ricerca a griglia\n",
    "Questo tipo di ricerca è piuttosto semplice si tratta di una ricerca tramite forza bruta, il computer valuta tutte le combinazioni per cercare la combinazione vediamo un esempio pratico"
   ]
  },
  {
   "cell_type": "code",
   "execution_count": 12,
   "id": "private-slovak",
   "metadata": {},
   "outputs": [
    {
     "name": "stdout",
     "output_type": "stream",
     "text": [
      "Best score 0.98\n",
      "{'svc__C': 1.0, 'svc__kernel': 'linear'}\n"
     ]
    }
   ],
   "source": [
    "from sklearn.model_selection import GridSearchCV\n",
    "from sklearn.svm import SVC\n",
    "\n",
    "pipe_svc = make_pipeline(StandardScaler(),SVC())\n",
    "\n",
    "param_range = [0.0001,0.001,0.01,0.1,1.0,10.0,100.0,1000.0]\n",
    "param_grid = [\n",
    "    {\n",
    "    'svc__C':param_range,\n",
    "    'svc__kernel':['linear']\n",
    "    },\n",
    "     {\n",
    "    'svc__C':param_range,\n",
    "    'svc__gamma':param_range,\n",
    "    'svc__kernel':['rbf']\n",
    "    }\n",
    "]\n",
    "\n",
    "\n",
    "gs = GridSearchCV(estimator = pipe_svc,param_grid = param_grid, scoring = 'accuracy', cv = 10, n_jobs = -1)\n",
    "gs = gs.fit(X_train,y_train)\n",
    "\n",
    "print(\"Best score {0:.2f}\".format(gs.best_score_))\n",
    "\n",
    "print(gs.best_params_)"
   ]
  },
  {
   "cell_type": "markdown",
   "id": "superb-technology",
   "metadata": {},
   "source": [
    "Una volta ottimizzato il modello andiamo a controllare come si comporta nel dataset di test"
   ]
  },
  {
   "cell_type": "code",
   "execution_count": 13,
   "id": "floppy-exploration",
   "metadata": {},
   "outputs": [
    {
     "name": "stdout",
     "output_type": "stream",
     "text": [
      "Test accuracy 0.98\n"
     ]
    }
   ],
   "source": [
    "clf = gs.best_estimator_\n",
    "clf.fit(X_train,y_train)\n",
    "\n",
    "score = clf.score(X_test,y_test)\n",
    "print(\"Test accuracy {0:.2f}\".format(score))"
   ]
  },
  {
   "cell_type": "markdown",
   "id": "tamil-vietnam",
   "metadata": {},
   "source": [
    "sebbene la ricerca a griglia sia uno strumento molto potente, su dataset molto grandi e con molti parametri potremmo avere dei problemi prestazionali.\n",
    "\n",
    "Un buon approccio potrebbe essere quello di utilizzare la ricerca casuale con la classe `RandomizedSearchCV`"
   ]
  },
  {
   "cell_type": "code",
   "execution_count": 14,
   "id": "overhead-cartoon",
   "metadata": {},
   "outputs": [
    {
     "name": "stdout",
     "output_type": "stream",
     "text": [
      "Best score 0.97\n",
      "{'svc__kernel': 'rbf', 'svc__gamma': 0.001, 'svc__C': 10.0}\n"
     ]
    }
   ],
   "source": [
    "from sklearn.model_selection import RandomizedSearchCV\n",
    "\n",
    "param_range = [0.0001,0.001,0.01,0.1,1.0,10.0,100.0,1000.0]\n",
    "param_grid = [\n",
    "    {\n",
    "    'svc__C':param_range,\n",
    "    'svc__kernel':['linear']\n",
    "    },\n",
    "     {\n",
    "    'svc__C':param_range,\n",
    "    'svc__gamma':param_range,\n",
    "    'svc__kernel':['rbf']\n",
    "    }\n",
    "]\n",
    "\n",
    "\n",
    "rs = RandomizedSearchCV(estimator = pipe_svc,param_distributions = param_grid, scoring = 'accuracy', cv = 10, n_jobs = -1)\n",
    "rs = rs.fit(X_train,y_train)\n",
    "\n",
    "print(\"Best score {0:.2f}\".format(rs.best_score_))\n",
    "\n",
    "print(rs.best_params_)\n",
    "\n"
   ]
  },
  {
   "cell_type": "code",
   "execution_count": 15,
   "id": "handmade-washington",
   "metadata": {},
   "outputs": [
    {
     "name": "stdout",
     "output_type": "stream",
     "text": [
      "Test accuracy 0.96\n"
     ]
    }
   ],
   "source": [
    "clf = rs.best_estimator_\n",
    "clf.fit(X_train,y_train)\n",
    "\n",
    "score = clf.score(X_test,y_test)\n",
    "print(\"Test accuracy {0:.2f}\".format(score))"
   ]
  },
  {
   "cell_type": "markdown",
   "id": "humanitarian-blogger",
   "metadata": {},
   "source": [
    "## Selezione dell'algoritmo con convalida incrociata nidificata\n",
    "\n",
    "L'utilizzo della convalida incrociata *k-fold* in combinazione con la ricerca a griglia/randomica è un ottimo strumento per l'ottimizzazione degli iperparametri. Ma se volgiamo selezionare fra vari algoritmi una buona soluzione potrebbe essere quella di utilizzare la convalida incrociata nidificata. \n",
    "\n",
    "Si parte da un ciclo esterno dove si usa la cross validation per validare i dati e fornire ad un ciclo più interno gli stessi per ottimizzare i parametri del modello.\n",
    "\n",
    "La figura qui sotto introduce il concetto di una convalida incrociata 5x2\n",
    "\n",
    "![convalida incrociata nidificata](./images/crossValidation.png)\n",
    "\n",
    "Per eseguire questo tipo di convalida con sklearn basta utilizzare le seguenti linee di codice\n"
   ]
  },
  {
   "cell_type": "code",
   "execution_count": 16,
   "id": "endless-overall",
   "metadata": {},
   "outputs": [
    {
     "name": "stdout",
     "output_type": "stream",
     "text": [
      "CV accuracy 0.97 +/- 0.02\n"
     ]
    }
   ],
   "source": [
    "rs = RandomizedSearchCV(estimator = pipe_svc,param_distributions = param_grid, scoring = 'accuracy', cv = 2, n_jobs = -1)\n",
    "scores = cross_val_score(rs,X_train,y_train,cv=5,n_jobs=-1)\n",
    "\n",
    "print(\"CV accuracy {0:.2f} +/- {1:.2f}\".format(np.mean(scores),np.std(scores)))\n"
   ]
  },
  {
   "cell_type": "markdown",
   "id": "occasional-cream",
   "metadata": {},
   "source": [
    "## Metrice di valutazione delle prestazioni\n",
    "\n",
    "Fino ad ora abbiamo sempre utilizzato come metro per la prestazione di un algoritmo l'accuratezza, come vedremo nei prossimi capitoli esistono anche altre metriche prestazionali tra cui: precisione, recall e F1-score\n",
    "\n",
    "### Lettura di una matrice di confusione\n",
    "\n",
    "Prima di entrare nel dettaglio di una classe di metriche dobbiamo trattare la cosidetta matrice di confusione.\n",
    "Questa è una matrice quadrata che contiene il conteggio dei veri positivi, dei veri negativi, dei falsi positivi e dei falsi negativi.\n",
    "\n",
    "Sebbene questa metrica possa essere calcolata con facilità abbiamo una funzione di sklearn che ci viene in aiuto.\n"
   ]
  },
  {
   "cell_type": "code",
   "execution_count": 17,
   "id": "removable-tiffany",
   "metadata": {},
   "outputs": [
    {
     "data": {
      "text/plain": [
       "array([[76,  1],\n",
       "       [ 2, 35]], dtype=int64)"
      ]
     },
     "execution_count": 17,
     "metadata": {},
     "output_type": "execute_result"
    }
   ],
   "source": [
    "from sklearn.metrics import confusion_matrix\n",
    "\n",
    "pipe_svc.fit(X_train,y_train)\n",
    "y_pred = pipe_svc.predict(X_test)\n",
    "\n",
    "matrix = confusion_matrix(y_test,y_pred)\n",
    "matrix"
   ]
  },
  {
   "cell_type": "code",
   "execution_count": 18,
   "id": "sized-stanford",
   "metadata": {},
   "outputs": [
    {
     "data": {
      "text/plain": [
       "Text(0.5, 15.0, 'Predicted label')"
      ]
     },
     "execution_count": 18,
     "metadata": {},
     "output_type": "execute_result"
    },
    {
     "data": {
      "image/png": "[encoded data removed]",
      "text/plain": [
       "<Figure size 432x288 with 2 Axes>"
      ]
     },
     "metadata": {
      "needs_background": "light"
     },
     "output_type": "display_data"
    }
   ],
   "source": [
    "import seaborn as sns\n",
    "\n",
    "categories = ['B', 'M']\n",
    "sns.heatmap(matrix, annot=True,cmap='Blues',xticklabels=categories,yticklabels=categories)\n",
    "plt.ylabel('True label')\n",
    "plt.xlabel('Predicted label')"
   ]
  },
  {
   "cell_type": "markdown",
   "id": "suffering-plaintiff",
   "metadata": {},
   "source": [
    "### Ottimizzazione della precision e della recall di un modello di classificazione\n",
    "\n",
    "L'accuratezza del modello ovvero il rapporto tra le previsioni corrette ed il numero totale di previsioni, utilizzando le 4 celle della matrice di confusione potremmo scrivere utilizzando le seguenti sigle:\n",
    "\n",
    "+ TP veri positivi\n",
    "+ TN veri negativi\n",
    "+ FP falsi positivi\n",
    "+ FN falsi negativi\n",
    "\n",
    "$$ACC = \\frac{TN + TP}{TN + TP + FN + FP}$$\n",
    "\n",
    "Però esitono anche altre metriche che potrebbero venirci in aiuto nel caso il dataset sia sbilanciato, ad esempio prendendo questo schemino di matrice \n",
    "\n",
    "![matrice confusione](./images/confusionMatrix.png)\n",
    "\n",
    "Definiamo il tasso dei veri positivi come il rapporto del valore TP (veri positivi) e P (i valori positivi nel nostro dataset), ma come vediamo nella immagine $P = TP + FN $ perciò il valore TPR sarà\n",
    "\n",
    "$$TPR = \\frac{TP}{P}  =\\frac{TP}{FN + TP}$$\n",
    "\n",
    "Con lo stesso sitema definiamo anche la metrica FPR che si può definire come il rapporto tra i falsi positivi e la classe del dataset negativa\n",
    "\n",
    "$$FPR = \\frac{FP}{N} = \\frac{TP}{FP + TN}$$\n",
    "\n",
    "### Precision e Recall\n",
    "\n",
    "Parliamo ora di precisione e recall, per precisione intendiamo il rapporto i veri positivi (TP) e le previsioni positive totali (TP + FP):\n",
    "\n",
    "$$PRE = \\frac{TP}{TP + FP}$$\n",
    "\n",
    "La recall invece è il rapporto tra i veri positivi (TP) e i valori positivi nel nostro dataset (P) se notate è la definizione di TPR\n",
    "\n",
    "Per capire un pochino meglio il funzionamento della precision e della recall facciamo un esperimento mentale, potrei affermare di aver costruito un modello che riesce ad identificare il 99% dei terroristi che cercano di imbarcarsi su un volo.\n",
    "\n",
    "Voi potreste essere stupiti ma aspettate di vedere il ragionamento ....\n",
    "\n",
    "Su una media dei viaggiatori americani di 800 milioni di passeggeri annui (stima del 2017) il numero di terroristi confermati dal 2000 al 2017 è stato di 17 persone. Per avere una accuratezza del 99% basterebbe semplicemente segnare tutti i passeggeri come non terroristi ...\n",
    "\n",
    "Convenite con me che questo ragionamento non è corretto, il problema sta nel fatto che siamo di fronte ad un dataset fortemente sbilanciato e la metrica dell'accuratezza non funziona in questo tipo di problema.\n",
    "\n",
    "Utilizziamo ora la recall sul nostro dataset dei terroristi questa si concentrerà nello scovare tutti i casi rilevanti (i terroristi) nel nostro dataset usando le formule di prima avremo che \n",
    "\n",
    "$$RECALL = \\frac{TP}{FN + TP} =  \\frac{\\textrm{terroristi correttamente identificati}}{\\textrm{terroristi non idenficati} + \\textrm{terroristi correttamente identificati}}$$\n",
    "\n",
    "Ora se il nostro modello fosse in grado di identificare tutti i terroristi non avremmo falsi negativi e la recall avrebbe valore 1. Il nostro però sarebbe un modello perfetto ?\n",
    "\n",
    "Non esattamente, vediamo il perchè. Se marchiamo tutti i viaggiatori come terroristi per assurdo non avremo nessun falso positivo, e la recall avrebbe come valore 1.\n",
    "\n",
    "In questo caso il nostro modello si dice che non è molto *preciso*, ragioniamo con la formula adattata al nostro caso:\n",
    "\n",
    "$$PRECISION = \\frac{TP}{TP + FP} = \\frac{\\textrm{terroristi correttamente identificati}}{\\textrm{terroristi correttamente identificati} + \\textrm{viaggiatori identificati come terroristi}}$$\n",
    "\n",
    "Dunque ricapitolando se la recall misura la capacità di scovare i terroristi nel nostro dataset, la precisione (lo dice la parola stessa) misura la capacità di scovare i dati in modo preciso nel nostro dataset.\n",
    "\n",
    "Ma anche la recall da sola non funzionerebbe perfettamente in quanto ad esempio pensiamo ad un modello che idenfichi correttamente un solo terrorista dei 17, avremmo una precisione pari a 1 ma ancora questo modello non sarebbe quello che vogliamo.\n",
    "\n",
    "\n",
    "Ma facciamo un passo indietro e proviamo a misuare la precision e recall del primo modello (nessun terrorista) sebbene l'accuratezza sia quasi del 99.9% le due misure avrebbero come 0 in quanto non avremmo nessun terrorista scovato.\n",
    "\n",
    "Passiamo ora al modello che identifica un solo terrorista nel modo corretto, come detto prima la nostra precisione sarà pari ad 1 perchè non abbiamo nessun falso positivo, in questo caso però la recall avrebbe un valore molto basso in quanto avremmo molti falsi negativi.\n",
    "\n",
    "Scegliamo ora il modello più crudele, che identifica tutti i viaggiatori come terroristi, abbiamo già detto che la nostra recall avrebbe come valore 1 con un valore della precisione molto basso.\n",
    "\n",
    "Si intuisce dunque che per avere un buon modello bisognerebbe avere un valore di precisione di recall il più possibile alti e che all'aumentare di una misura molto spesso si va a diminuire la seconda.\n",
    "\n",
    "\n",
    "### Combinare precision e recall\n",
    "\n",
    "Sebbene ci siano situazioni in cui si voglia aumentare il più possibile una misura a descapito dell'altra. Ad esempio se volessimo creare un modello per lo screening di una malattia forse la recall sarebbe più importante della precisione, in quanto un secondo esame, più preciso e di solito più costoso potrebbe dare il risultato voluto.\n",
    "\n",
    "Comunque negli altri casi un buon compromesso potrebbe essere la metrica F1.\n",
    "L'F1 score è la media armonica della precisione e della recall, viene misurata nel seguente modo:\n",
    "\n",
    "$$F_{1} = 2 * \\frac{PRECISION * RECALL}{PRECISION + RECALL}$$\n",
    "\n",
    "\n",
    "Si è scelta la media armonica in quanto punisce i valori estremi (Ad esempio precisione 1 e recall 0) e crea un buon bilanciamento tra recall e precision\n",
    "\n",
    "andiamo ora a visualizzare queste metriche sul nostro modello precedentemente addestrato"
   ]
  },
  {
   "cell_type": "code",
   "execution_count": 19,
   "id": "double-twenty",
   "metadata": {},
   "outputs": [
    {
     "name": "stdout",
     "output_type": "stream",
     "text": [
      "Precision\t0.972\n",
      "Recall\t\t0.946\n",
      "F1\t\t0.959\n"
     ]
    }
   ],
   "source": [
    "from sklearn.metrics import precision_score, recall_score, f1_score\n",
    "\n",
    "print(\"Precision\\t{0:.3f}\".format(precision_score(y_test,y_pred)))\n",
    "print(\"Recall\\t\\t{0:.3f}\".format(recall_score(y_test,y_pred)))\n",
    "print(\"F1\\t\\t{0:.3f}\".format(f1_score(y_test,y_pred)))"
   ]
  },
  {
   "cell_type": "markdown",
   "id": "employed-migration",
   "metadata": {},
   "source": [
    "per addestrare il modello con una metrica diversa dall'accuratezza bisgona dare il valore voluto al parametro `scoring` inoltre per sklearn la classe positiva per default ha valore 1 per cambiare il comportamento di default va costruiro uno scorer ad hoc attraverso la funzione `make_scorer`. vediamo un esempio pratico sempre sul dataset breast cancer."
   ]
  },
  {
   "cell_type": "code",
   "execution_count": 20,
   "id": "outstanding-tuition",
   "metadata": {},
   "outputs": [
    {
     "name": "stdout",
     "output_type": "stream",
     "text": [
      "Best score 0.96\n",
      "{'svc__kernel': 'rbf', 'svc__gamma': 0.0001, 'svc__C': 1000.0}\n",
      "Test f1 score 0.94\n"
     ]
    }
   ],
   "source": [
    "from sklearn.metrics import make_scorer\n",
    "\n",
    "scorer = make_scorer(f1_score,pos_label=1)\n",
    "\n",
    "rs = RandomizedSearchCV(estimator = pipe_svc,param_distributions = param_grid, scoring = scorer, cv = 10, n_jobs = -1)\n",
    "rs = rs.fit(X_train,y_train)\n",
    "\n",
    "print(\"Best score {0:.2f}\".format(rs.best_score_))\n",
    "\n",
    "print(rs.best_params_)\n",
    "\n",
    "clf = rs.best_estimator_\n",
    "clf.fit(X_train,y_train)\n",
    "\n",
    "y_pred = clf.predict(X_test)\n",
    "\n",
    "score = f1_score(y_test,y_pred)\n",
    "print(\"Test f1 score {0:.2f}\".format(score))\n"
   ]
  },
  {
   "cell_type": "markdown",
   "id": "extended-allergy",
   "metadata": {},
   "source": [
    "## Tracciamento delle curve ROC\n",
    "\n",
    "La curva roc è un grafico che mostra le performanca del nostro modello binario a tutte le se soglie di classificazione.\n",
    "Questa curva traccia due parametri.\n",
    "\n",
    "* il parametro TPR\n",
    "* il parametro FPR definito anche come tasso dei falsi allarmi\n",
    "\n",
    "Tale curva traccia questo rapporto tra i due parametri alle differenti soglie di classificazione.\n",
    "Come detto prima abbassando il valore della soglia aumenteremo si il numero dei campioni classificati come positivi andando ad incrementare la RECALL ma aumenteremo anche il tasso dei falsi allarmi. \n",
    "\n",
    "Vediamo un esempio di curva su sui effettuare i nostri ragionamenti:\n",
    "\n",
    "![curva roc](./images/roc.png)\n",
    "\n",
    "Per tracciare questa curva la prima soluzione potrebbe essere quella di eseguire il classificatore per ogni valore della soglia ma questo sarebbe oneroso in termini computazionali.\n",
    "Vediamo un esempio di tracciatura su un dataset giocattolo.\n",
    "\n"
   ]
  },
  {
   "cell_type": "code",
   "execution_count": 21,
   "id": "violent-delaware",
   "metadata": {},
   "outputs": [
    {
     "data": {
      "text/html": [
       "<div>\n",
       "<style scoped>\n",
       "    .dataframe tbody tr th:only-of-type {\n",
       "        vertical-align: middle;\n",
       "    }\n",
       "\n",
       "    .dataframe tbody tr th {\n",
       "        vertical-align: top;\n",
       "    }\n",
       "\n",
       "    .dataframe thead th {\n",
       "        text-align: right;\n",
       "    }\n",
       "</style>\n",
       "<table border=\"1\" class=\"dataframe\">\n",
       "  <thead>\n",
       "    <tr style=\"text-align: right;\">\n",
       "      <th></th>\n",
       "      <th>0</th>\n",
       "      <th>1</th>\n",
       "      <th>2</th>\n",
       "      <th>3</th>\n",
       "      <th>4</th>\n",
       "      <th>5</th>\n",
       "      <th>6</th>\n",
       "      <th>7</th>\n",
       "      <th>8</th>\n",
       "      <th>9</th>\n",
       "      <th>10</th>\n",
       "      <th>11</th>\n",
       "      <th>12</th>\n",
       "      <th>13</th>\n",
       "      <th>14</th>\n",
       "    </tr>\n",
       "  </thead>\n",
       "  <tbody>\n",
       "    <tr>\n",
       "      <th>y_hat</th>\n",
       "      <td>0.1</td>\n",
       "      <td>0.15</td>\n",
       "      <td>0.2</td>\n",
       "      <td>0.22</td>\n",
       "      <td>0.3</td>\n",
       "      <td>0.4</td>\n",
       "      <td>0.5</td>\n",
       "      <td>0.55</td>\n",
       "      <td>0.57</td>\n",
       "      <td>0.6</td>\n",
       "      <td>0.66</td>\n",
       "      <td>0.7</td>\n",
       "      <td>0.88</td>\n",
       "      <td>0.9</td>\n",
       "      <td>0.98</td>\n",
       "    </tr>\n",
       "    <tr>\n",
       "      <th>y</th>\n",
       "      <td>0.0</td>\n",
       "      <td>0.00</td>\n",
       "      <td>0.0</td>\n",
       "      <td>0.00</td>\n",
       "      <td>0.0</td>\n",
       "      <td>0.0</td>\n",
       "      <td>1.0</td>\n",
       "      <td>0.00</td>\n",
       "      <td>0.00</td>\n",
       "      <td>1.0</td>\n",
       "      <td>0.00</td>\n",
       "      <td>1.0</td>\n",
       "      <td>1.00</td>\n",
       "      <td>1.0</td>\n",
       "      <td>1.00</td>\n",
       "    </tr>\n",
       "  </tbody>\n",
       "</table>\n",
       "</div>"
      ],
      "text/plain": [
       "        0     1    2     3    4    5    6     7     8    9     10   11    12  \\\n",
       "y_hat  0.1  0.15  0.2  0.22  0.3  0.4  0.5  0.55  0.57  0.6  0.66  0.7  0.88   \n",
       "y      0.0  0.00  0.0  0.00  0.0  0.0  1.0  0.00  0.00  1.0  0.00  1.0  1.00   \n",
       "\n",
       "        13    14  \n",
       "y_hat  0.9  0.98  \n",
       "y      1.0  1.00  "
      ]
     },
     "execution_count": 21,
     "metadata": {},
     "output_type": "execute_result"
    }
   ],
   "source": [
    "import pandas as pd\n",
    "\n",
    "examples_data = {\n",
    "    \"y_hat\": [0.1,0.15,0.2,0.22,0.3,0.4,0.5,0.55,0.57,0.6,0.66,0.7,0.88,0.9,0.98],\n",
    "    \"y\": [0,0,0,0,0,0,1,0,0,1,0,1,1,1,1]\n",
    "}\n",
    " \n",
    "examples = pd.DataFrame(examples_data)\n",
    "\n",
    "examples.transpose()"
   ]
  },
  {
   "cell_type": "markdown",
   "id": "desirable-banner",
   "metadata": {},
   "source": [
    "la colonna Predict contiene il valore della probabilità delle previsioni nel nostro modello mentre la True contiene il valore desiderato. \n",
    "\n",
    "Cominciamo con l'impostare la soglia con qualche valore e calcoliamo il punto del grafico"
   ]
  },
  {
   "cell_type": "code",
   "execution_count": 22,
   "id": "rising-switch",
   "metadata": {},
   "outputs": [
    {
     "data": {
      "text/plain": [
       "[<matplotlib.lines.Line2D at 0x234c5e03288>]"
      ]
     },
     "execution_count": 22,
     "metadata": {},
     "output_type": "execute_result"
    },
    {
     "data": {
      "image/png": "[encoded data removed]",
      "text/plain": [
       "<Figure size 432x288 with 1 Axes>"
      ]
     },
     "metadata": {
      "needs_background": "light"
     },
     "output_type": "display_data"
    }
   ],
   "source": [
    "import matplotlib\n",
    "import matplotlib.pyplot as plt\n",
    "\n",
    "\n",
    "treshold = 0.6\n",
    "\n",
    "\n",
    "def confusion_matrix(data,treshold):\n",
    "    y_hat = data.y_hat > treshold\n",
    "    y = data.y\n",
    "    match = y_hat == y\n",
    "    \n",
    "    TP = match & y\n",
    "    TN = match & ~y\n",
    "    FP = ~match & ~y\n",
    "    FN = ~match & y\n",
    "    \n",
    "    return TP.sum(),TN.sum(),FP.sum(),FN.sum()\n",
    "\n",
    "\n",
    "TP,TN,FP,FN = confusion_matrix(examples,treshold)\n",
    "TPR = TP / (FN + TP)\n",
    "FPR = FP / (FP + TN)\n",
    "\n",
    "\n",
    "plt.xlabel(\"TPR\")\n",
    "plt.ylabel(\"FPR\")\n",
    "plt.xlim([0,1])\n",
    "plt.ylim([0,1])\n",
    "\n",
    "\n",
    "plt.plot(FPR,TPR,color=\"navy\",alpha=0.75,lw = 3,ls=\"-.\",marker=\"o\",markersize=7)\n"
   ]
  },
  {
   "cell_type": "code",
   "execution_count": 23,
   "id": "acknowledged-scale",
   "metadata": {},
   "outputs": [
    {
     "data": {
      "image/png": "[encoded data removed]",
      "text/plain": [
       "<Figure size 432x288 with 1 Axes>"
      ]
     },
     "metadata": {
      "needs_background": "light"
     },
     "output_type": "display_data"
    }
   ],
   "source": [
    "tresholds = [x * 0.1 for x in range(0, 11)]\n",
    "\n",
    "TPR = []\n",
    "FPR = []\n",
    "for treshold in tresholds:\n",
    "    TP,TN,FP,FN = confusion_matrix(examples,treshold)\n",
    "    TPR.append(TP / (FN + TP))\n",
    "    FPR.append(FP / (FP + TN))\n",
    "    \n",
    "    \n",
    "plt.xlabel(\"FPR\")\n",
    "plt.ylabel(\"TPR\")\n",
    "plt.xlim([-0.05,1.05])\n",
    "plt.ylim([-0.05,1.05])\n",
    "\n",
    "\n",
    "plt.plot(FPR,TPR,'bo-')\n",
    "plt.plot([0,1],[0,1],linestyle=\"--\")\n",
    "\n",
    "\n",
    "for x,y,treshold in zip(FPR,TPR,tresholds):\n",
    "    label = \"{:.2f}\".format(treshold)\n",
    "    plt.annotate(label, \n",
    "                 (x,y),\n",
    "                 textcoords=\"offset points\", \n",
    "                 xytext=(0,10),\n",
    "                 ha='center')\n",
    "    \n"
   ]
  },
  {
   "cell_type": "markdown",
   "id": "appointed-wells",
   "metadata": {},
   "source": [
    "Ora che abbiamo visto come viene tracciata la curva facciamo un ulteriore passo in avanti e proviamo a ragionare sul seguente schema che contiene due corve roc-\n",
    "\n",
    "![auc](./images/auc.jpg)\n",
    "\n",
    "secondo voi quale sarà il classificatore che si comporta meglio, il blu o il rosso ? \n",
    "Senza tanti sforzi possiamo dire che il classificatore associato alla linea rossa si comporta meglio di quello associato alla linea blu.\n",
    "\n",
    "Ma come possiamo ottenere un numero che rappresenti questo comportamento? Ecco che ci viene in aiuto la metrica AUC che sta per Area Under Curve, che non rappresenta niente altro che l'intergrale calcolato sulla curva.\n",
    "\n",
    "Applichiamo dunque quanto abbiamo appreso sul classificatore addestrato in questo capitolo e analizziamo il risultato."
   ]
  },
  {
   "cell_type": "code",
   "execution_count": 24,
   "id": "beginning-doubt",
   "metadata": {},
   "outputs": [],
   "source": [
    "from sklearn.metrics import roc_curve, auc\n",
    "\n",
    "\n",
    "y_test_pred = clf.decision_function(X_test)\n",
    "test_fpr, test_tpr, te_thresholds = roc_curve(y_test, y_test_pred)"
   ]
  },
  {
   "cell_type": "code",
   "execution_count": 25,
   "id": "behavioral-index",
   "metadata": {},
   "outputs": [
    {
     "data": {
      "image/png": "[encoded data removed]",
      "text/plain": [
       "<Figure size 432x288 with 1 Axes>"
      ]
     },
     "metadata": {
      "needs_background": "light"
     },
     "output_type": "display_data"
    }
   ],
   "source": [
    "plt.grid()\n",
    "plt.plot(test_fpr, test_tpr, label=\"Svm Auc = {0:.3f}\".format(auc(test_fpr, test_tpr)))\n",
    "\n",
    "plt.plot([0,1],[0,1],'g--')\n",
    "plt.legend()\n",
    "plt.xlabel(\"False Positive Rate\")\n",
    "plt.ylabel(\"True Positive Rate\")\n",
    "plt.title(\"AUC(ROC curve)\")\n",
    "plt.grid(color='black', linestyle='-', linewidth=0.5)\n",
    "plt.show()"
   ]
  },
  {
   "cell_type": "markdown",
   "id": "angry-wilderness",
   "metadata": {},
   "source": [
    "## Curva Precision Recall\n",
    "\n",
    "La ROC non è l'unica curva che possiamo tracciare ad esempio anche la curva che mostra il rapporto tra il valore della precision e della recall sempre al variare della soglia.\n",
    "\n",
    "Facciamo un esempio sempre con il dataset giocattolo usato prima"
   ]
  },
  {
   "cell_type": "code",
   "execution_count": 26,
   "id": "alpha-proof",
   "metadata": {},
   "outputs": [
    {
     "name": "stderr",
     "output_type": "stream",
     "text": [
      "C:\\Anaconda3\\lib\\site-packages\\ipykernel_launcher.py:8: RuntimeWarning: invalid value encountered in longlong_scalars\n",
      "  \n"
     ]
    },
    {
     "data": {
      "image/png": "[encoded data removed]",
      "text/plain": [
       "<Figure size 432x288 with 1 Axes>"
      ]
     },
     "metadata": {
      "needs_background": "light"
     },
     "output_type": "display_data"
    }
   ],
   "source": [
    "tresholds = [x * 0.1 for x in range(0, 11)]\n",
    "\n",
    "PRECISION = []\n",
    "RECALL = []\n",
    "for treshold in tresholds:\n",
    "    TP,TN,FP,FN = confusion_matrix(examples,treshold)\n",
    "    PRECISION.append(TP/(TP+FN))\n",
    "    RECALL.append(TP/(TP+FP))\n",
    "\n",
    "\n",
    "    \n",
    "    \n",
    "plt.xlabel(\"Recall\")\n",
    "plt.ylabel(\"Precision\")\n",
    "plt.xlim([-0.05,1.05])\n",
    "plt.ylim([-0.05,1.05])\n",
    "\n",
    "\n",
    "plt.plot(RECALL,PRECISION,'bo-')\n",
    "#plt.plot([0, 1],linestyle=\"--\")\n",
    "\n",
    "\n",
    "for x,y,treshold in zip(RECALL,PRECISION,tresholds):\n",
    "    label = \"{:.2f}\".format(treshold)\n",
    "    plt.annotate(label, \n",
    "                 (x,y),\n",
    "                 textcoords=\"offset points\", \n",
    "                 xytext=(0,10),\n",
    "                 ha='center')\n"
   ]
  },
  {
   "cell_type": "markdown",
   "id": "confirmed-attention",
   "metadata": {},
   "source": [
    "Calcoliamo questa curva anche per il modello della pipeline vista prima"
   ]
  },
  {
   "cell_type": "code",
   "execution_count": 27,
   "id": "massive-trick",
   "metadata": {},
   "outputs": [
    {
     "data": {
      "image/png": "[encoded data removed]",
      "text/plain": [
       "<Figure size 432x288 with 1 Axes>"
      ]
     },
     "metadata": {
      "needs_background": "light"
     },
     "output_type": "display_data"
    }
   ],
   "source": [
    "from sklearn.metrics import precision_recall_curve\n",
    "\n",
    "y_test_pred = clf.decision_function(X_test)\n",
    "y_hat = clf.predict(X_test)\n",
    "test_precision, test_recall, te_thresholds = precision_recall_curve(y_test, y_test_pred)\n",
    "\n",
    "plt.grid()\n",
    "plt.plot(test_precision, test_recall,marker='.' ,label=\"Svm F1 score = {0:.3f}\".format(f1_score(y_test, y_hat)))\n",
    "\n",
    "no_skill = len(y_test[y_test==1]) / len(y_test)\n",
    "plt.plot([0, 1], [no_skill, no_skill], linestyle='--', label='No Skill')\n",
    "\n",
    "plt.xlim([-0.05,1.05])\n",
    "plt.ylim([-0.05,1.05])\n",
    "plt.legend()\n",
    "plt.xlabel(\"Recall\")\n",
    "plt.ylabel(\"Precision\")\n",
    "plt.title(\"precision-recall curve\")\n",
    "plt.grid(color='black', linestyle='-',linewidth=0.5)\n",
    "plt.show()"
   ]
  },
  {
   "cell_type": "markdown",
   "id": "stupid-cambodia",
   "metadata": {},
   "source": [
    "Quando sarebbe meglio usare una o l'altra curva ? \n",
    "Questo dipende dal contesto, se il dataset è bilanciato andrebbe utilizzata la curva curva roc, mentre se il dataset è fortemente sbilanciato la precision-recall da un risultato migliore in quanto la precision riesce a lavorare meglio su un dataset sbilanciato. \n",
    "\n",
    "\n",
    "Per una trattazione migliore si consiglia la lettura di questo articolo \n",
    "\n",
    "[How to Use ROC Curves and Precision-Recall Curves for Classification in Python](https://machinelearningmastery.com/roc-curves-and-precision-recall-curves-for-classification-in-python/)\n",
    "\n",
    "## Lavorare con classi molto sbilanciate\n",
    "Abbiamo parlato di classi sbilanciate, ma fino ad ora non abbiamo discusso su come trattare il problema.\n",
    "I dataset fortemente sbilanciati non sono un evento raro nella vita reale, prendiamo ad esempio i seguenti problemi, lo spam filtering i controlli antifrode e la diagnosi di malattie rare.\n",
    "\n",
    "Tenendo a memoria i ragionamenti fatti sul modello analisi dei viaggiatori/terroristi costruiamo un dataset fortemente sbilanciato."
   ]
  },
  {
   "cell_type": "code",
   "execution_count": 28,
   "id": "statewide-sunset",
   "metadata": {},
   "outputs": [
    {
     "name": "stdout",
     "output_type": "stream",
     "text": [
      "La classse con valore 0 ha 985 elementi percentuale 0.98\n",
      "La classse con valore 1 ha 15 elementi percentuale 0.01\n"
     ]
    }
   ],
   "source": [
    "from sklearn.datasets import make_classification\n",
    "X, y = make_classification(n_samples=1000, n_classes=2, weights=[0.99,0.01], random_state=1)\n",
    "\n",
    "unique, counts = np.unique(y, return_counts=True)\n",
    "total = y.shape[0]\n",
    "\n",
    "for number,values in zip(unique, counts):\n",
    "    print(\"La classe con valore {0} ha {1} elementi percentuale {2:.2f}\".format(number,values,values/total))"
   ]
  },
  {
   "cell_type": "markdown",
   "id": "standard-import",
   "metadata": {},
   "source": [
    "Lo sbilanciamento della classe influenza il comportamento del modello nella fase di training, nello specifico tali sistemi come spiegato nella prima parte del corso ottimizzeranno la funzione di costo su tutti i campioni del dataset.\n",
    "\n",
    "E' ovvio che se il dataset andrà condizionare il modello in base alla classe più numerosa.\n",
    "Un modo per andare a mitigare il problema è assegnare una penalità maggiore sugli errori della classe meno numerosa, Sklearn implementa questo meccanismo attraverso il parametro `class_weight` assegnando il valore `class_weight=\"balanced\"` \n",
    "\n",
    "Un altro modo per trattare il problema è tramite l'upsumpling della classe minoritaria o downsampling della classe con più elementi oppure ancora tramite la generazione di dati sintetici.\n",
    "\n",
    "Per eseguire l'upsumpling/downsampling sklearn mette a disposizione il metodo resample qui sotto un esempio"
   ]
  },
  {
   "cell_type": "code",
   "execution_count": 36,
   "id": "amateur-quilt",
   "metadata": {},
   "outputs": [
    {
     "name": "stdout",
     "output_type": "stream",
     "text": [
      "Numero di elementi con classe 1 prima del resample 15\n",
      "Numero di elementi con classe 1 dopo del resample 985\n",
      "La classe con valore 0 ha 985 elementi percentuale 0.50\n",
      "La classe con valore 1 ha 985 elementi percentuale 0.50\n"
     ]
    }
   ],
   "source": [
    "from sklearn.utils import resample\n",
    "\n",
    "print(\"Numero di elementi con classe 1 prima del resample {0}\".format(y[y==1].shape[0]))\n",
    "\n",
    "X_up,y_up = resample(X[y==1],y[y==1],replace=True,n_samples=X[y==0].shape[0])\n",
    "\n",
    "print(\"Numero di elementi con classe 1 dopo del resample {0}\".format(y_up[y_up==1].shape[0]))\n",
    "\n",
    "X_bal = np.vstack((X[y==0],X_up))\n",
    "y_bal = np.hstack((y[y==0],y_up))\n",
    "\n",
    "unique, counts = np.unique(y_bal, return_counts=True)\n",
    "total = y_bal.shape[0]\n",
    "\n",
    "for number,values in zip(unique, counts):\n",
    "    print(\"La classe con valore {0} ha {1} elementi percentuale {2:.2f}\".format(number,values,values/total))"
   ]
  },
  {
   "cell_type": "code",
   "execution_count": 47,
   "id": "protective-madison",
   "metadata": {},
   "outputs": [
    {
     "name": "stderr",
     "output_type": "stream",
     "text": [
      "C:\\Anaconda3\\lib\\site-packages\\sklearn\\model_selection\\_search.py:289: UserWarning: The total space of parameters 8 is smaller than n_iter=10. Running 8 iterations. For exhaustive searches, use GridSearchCV.\n",
      "  % (grid_size, self.n_iter, grid_size), UserWarning)\n"
     ]
    },
    {
     "name": "stdout",
     "output_type": "stream",
     "text": [
      "Best score 0.82\n",
      "{'logisticregression__C': 1.0}\n"
     ]
    },
    {
     "data": {
      "text/plain": [
       "Pipeline(steps=[('standardscaler', StandardScaler()),\n",
       "                ('logisticregression', LogisticRegression())])"
      ]
     },
     "execution_count": 47,
     "metadata": {},
     "output_type": "execute_result"
    }
   ],
   "source": [
    "trainX, testX, trainy, testy = train_test_split(X_bal, y_bal, test_size=0.3)\n",
    "\n",
    "\n",
    "\n",
    "pipe_regression = make_pipeline(StandardScaler(),LogisticRegression(solver='lbfgs'))\n",
    "param_range = [0.0001,0.001,0.01,0.1,1.0,10.0,100.0,1000.0]\n",
    "param_grid = [\n",
    "     {\n",
    "    'logisticregression__C':param_range\n",
    "    }\n",
    "]\n",
    "\n",
    "\n",
    "rs = RandomizedSearchCV(estimator = pipe_regression,param_distributions = param_grid, scoring = 'precision', cv = 5, n_jobs = -1)\n",
    "rs = rs.fit(trainX,trainy)\n",
    "\n",
    "print(\"Best score {0:.2f}\".format(rs.best_score_))\n",
    "\n",
    "print(rs.best_params_)\n",
    "\n",
    "\n",
    "clf = rs.best_estimator_\n",
    "clf.fit(trainX,trainy)"
   ]
  },
  {
   "cell_type": "code",
   "execution_count": 48,
   "id": "pretty-inside",
   "metadata": {},
   "outputs": [
    {
     "name": "stdout",
     "output_type": "stream",
     "text": [
      "Logistic: f1=0.832 auc=0.811\n"
     ]
    },
    {
     "data": {
      "image/png": "[encoded data removed]",
      "text/plain": [
       "<Figure size 432x288 with 1 Axes>"
      ]
     },
     "metadata": {
      "needs_background": "light"
     },
     "output_type": "display_data"
    }
   ],
   "source": [
    "lr_probs = clf.predict_proba(testX)\n",
    "# keep probabilities for the positive outcome only\n",
    "lr_probs = lr_probs[:, 1]\n",
    "# predict class values\n",
    "yhat = clf.predict(testX)\n",
    "lr_precision, lr_recall, _ = precision_recall_curve(testy, lr_probs)\n",
    "lr_f1, lr_auc = f1_score(testy, yhat), auc(lr_recall, lr_precision)\n",
    "# summarize scores\n",
    "print('Logistic: f1=%.3f auc=%.3f' % (lr_f1, lr_auc))\n",
    "# plot the precision-recall curves\n",
    "no_skill = len(testy[testy==1]) / len(testy)\n",
    "plt.plot([0, 1], [no_skill, no_skill], linestyle='--', label='No Skill')\n",
    "plt.plot(lr_recall, lr_precision, marker='.', label='Logistic')\n",
    "# axis labels\n",
    "plt.xlabel('Recall')\n",
    "plt.ylabel('Precision')\n",
    "# show the legend\n",
    "plt.legend()\n",
    "# show the plot\n",
    "plt.show()"
   ]
  },
  {
   "cell_type": "code",
   "execution_count": 49,
   "id": "attached-intake",
   "metadata": {},
   "outputs": [
    {
     "data": {
      "text/plain": [
       "array([[240,  36],\n",
       "       [ 65, 250]], dtype=int64)"
      ]
     },
     "execution_count": 49,
     "metadata": {},
     "output_type": "execute_result"
    }
   ],
   "source": [
    "from sklearn.metrics import confusion_matrix\n",
    "matrix = confusion_matrix(yhat,testy)\n",
    "matrix"
   ]
  },
  {
   "cell_type": "markdown",
   "id": "surprising-canal",
   "metadata": {},
   "source": [
    "## Metriche di valutazione per i sistemi multiclasse\n",
    "\n",
    "Le metriche di valutazione che abbiamo visto sino ad ora sono specifiche per i sistemi binari. Con qualche aggiustamento tali metriche possono essere adattate anche per i sistemi multiclasse vediamo nello specifico cosa possiamo fare.\n",
    "\n",
    "Adottando il metodo di classificazione *OvA* (One Versus All) possiamo calcolare le medie *macro* e *micro* dei parametri che vogliamo avere (ad esempio la PRECISION) nel seguente modo, supponendo di avere $k$ classi:\n",
    "\n",
    "$$PRE_{micro} = \\frac{TP_{1} + .... + TP_{k}}{TP_{1} + .... + TP_{k} + FP_{1} + .... + FP_{k}}$$\n",
    "\n",
    "La macro media invece viene semplicemente calcola la media dei punteggi:\n",
    "\n",
    "$$PRE_{macro} = \\frac{PRE_{1} + .... + PRE_{k}}{k}$$\n",
    "\n",
    "La micro media è utile se vogliamo misurare ogni classe in modo differente la macro invece da una visione globale concentrandosi sulle classi più frequenti.\n",
    "\n",
    "Di default sklearn utilizza la macro-media "
   ]
  },
  {
   "cell_type": "code",
   "execution_count": null,
   "id": "offensive-motivation",
   "metadata": {},
   "outputs": [],
   "source": []
  }
 ],
 "metadata": {
  "kernelspec": {
   "display_name": "Python 3",
   "language": "python",
   "name": "python3"
  },
  "language_info": {
   "codemirror_mode": {
    "name": "ipython",
    "version": 3
   },
   "file_extension": ".py",
   "mimetype": "text/x-python",
   "name": "python",
   "nbconvert_exporter": "python",
   "pygments_lexer": "ipython3",
   "version": "3.8.8"
  }
 },
 "nbformat": 4,
 "nbformat_minor": 5
}
