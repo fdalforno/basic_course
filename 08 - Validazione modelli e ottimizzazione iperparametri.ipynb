{
 "cells": [
  {
   "cell_type": "markdown",
   "id": "contemporary-decision",
   "metadata": {},
   "source": [
    "# Validazione e ottimizzazione iperparametri\n",
    "\n",
    "In questo capitolo cercheremo di migliorare i risultati ottenuti con i passi precedenti, ottimizzando gli algoritmi e valutando bene i risultati.\n",
    "\n",
    "## Caricamento del dataset e utilizzo delle pipeline\n",
    "In questo capitolo utilizzeremo il dataset *Breast Cancer Wisconsin* le prime due colonne sono un identificativo del caso e la diagnosi corrispondente le caratterstiche dalla 3 alla 32 sono valori oggettivi ottenuti dalle immagini digitalizzare del nucleo della cellula."
   ]
  },
  {
   "cell_type": "code",
   "execution_count": 1,
   "id": "light-basin",
   "metadata": {},
   "outputs": [
    {
     "data": {
      "text/html": [
       "<div>\n",
       "<style scoped>\n",
       "    .dataframe tbody tr th:only-of-type {\n",
       "        vertical-align: middle;\n",
       "    }\n",
       "\n",
       "    .dataframe tbody tr th {\n",
       "        vertical-align: top;\n",
       "    }\n",
       "\n",
       "    .dataframe thead th {\n",
       "        text-align: right;\n",
       "    }\n",
       "</style>\n",
       "<table border=\"1\" class=\"dataframe\">\n",
       "  <thead>\n",
       "    <tr style=\"text-align: right;\">\n",
       "      <th></th>\n",
       "      <th>id</th>\n",
       "      <th>diagnosis</th>\n",
       "      <th>radius_mean</th>\n",
       "      <th>texture_mean</th>\n",
       "      <th>perimeter_mean</th>\n",
       "      <th>area_mean</th>\n",
       "      <th>smoothness_mean</th>\n",
       "      <th>compactness_mean</th>\n",
       "      <th>concavity_mean</th>\n",
       "      <th>concave points_mean</th>\n",
       "      <th>...</th>\n",
       "      <th>texture_worst</th>\n",
       "      <th>perimeter_worst</th>\n",
       "      <th>area_worst</th>\n",
       "      <th>smoothness_worst</th>\n",
       "      <th>compactness_worst</th>\n",
       "      <th>concavity_worst</th>\n",
       "      <th>concave points_worst</th>\n",
       "      <th>symmetry_worst</th>\n",
       "      <th>fractal_dimension_worst</th>\n",
       "      <th>Unnamed: 32</th>\n",
       "    </tr>\n",
       "  </thead>\n",
       "  <tbody>\n",
       "    <tr>\n",
       "      <th>0</th>\n",
       "      <td>842302</td>\n",
       "      <td>M</td>\n",
       "      <td>17.99</td>\n",
       "      <td>10.38</td>\n",
       "      <td>122.80</td>\n",
       "      <td>1001.0</td>\n",
       "      <td>0.11840</td>\n",
       "      <td>0.27760</td>\n",
       "      <td>0.3001</td>\n",
       "      <td>0.14710</td>\n",
       "      <td>...</td>\n",
       "      <td>17.33</td>\n",
       "      <td>184.60</td>\n",
       "      <td>2019.0</td>\n",
       "      <td>0.1622</td>\n",
       "      <td>0.6656</td>\n",
       "      <td>0.7119</td>\n",
       "      <td>0.2654</td>\n",
       "      <td>0.4601</td>\n",
       "      <td>0.11890</td>\n",
       "      <td>NaN</td>\n",
       "    </tr>\n",
       "    <tr>\n",
       "      <th>1</th>\n",
       "      <td>842517</td>\n",
       "      <td>M</td>\n",
       "      <td>20.57</td>\n",
       "      <td>17.77</td>\n",
       "      <td>132.90</td>\n",
       "      <td>1326.0</td>\n",
       "      <td>0.08474</td>\n",
       "      <td>0.07864</td>\n",
       "      <td>0.0869</td>\n",
       "      <td>0.07017</td>\n",
       "      <td>...</td>\n",
       "      <td>23.41</td>\n",
       "      <td>158.80</td>\n",
       "      <td>1956.0</td>\n",
       "      <td>0.1238</td>\n",
       "      <td>0.1866</td>\n",
       "      <td>0.2416</td>\n",
       "      <td>0.1860</td>\n",
       "      <td>0.2750</td>\n",
       "      <td>0.08902</td>\n",
       "      <td>NaN</td>\n",
       "    </tr>\n",
       "    <tr>\n",
       "      <th>2</th>\n",
       "      <td>84300903</td>\n",
       "      <td>M</td>\n",
       "      <td>19.69</td>\n",
       "      <td>21.25</td>\n",
       "      <td>130.00</td>\n",
       "      <td>1203.0</td>\n",
       "      <td>0.10960</td>\n",
       "      <td>0.15990</td>\n",
       "      <td>0.1974</td>\n",
       "      <td>0.12790</td>\n",
       "      <td>...</td>\n",
       "      <td>25.53</td>\n",
       "      <td>152.50</td>\n",
       "      <td>1709.0</td>\n",
       "      <td>0.1444</td>\n",
       "      <td>0.4245</td>\n",
       "      <td>0.4504</td>\n",
       "      <td>0.2430</td>\n",
       "      <td>0.3613</td>\n",
       "      <td>0.08758</td>\n",
       "      <td>NaN</td>\n",
       "    </tr>\n",
       "    <tr>\n",
       "      <th>3</th>\n",
       "      <td>84348301</td>\n",
       "      <td>M</td>\n",
       "      <td>11.42</td>\n",
       "      <td>20.38</td>\n",
       "      <td>77.58</td>\n",
       "      <td>386.1</td>\n",
       "      <td>0.14250</td>\n",
       "      <td>0.28390</td>\n",
       "      <td>0.2414</td>\n",
       "      <td>0.10520</td>\n",
       "      <td>...</td>\n",
       "      <td>26.50</td>\n",
       "      <td>98.87</td>\n",
       "      <td>567.7</td>\n",
       "      <td>0.2098</td>\n",
       "      <td>0.8663</td>\n",
       "      <td>0.6869</td>\n",
       "      <td>0.2575</td>\n",
       "      <td>0.6638</td>\n",
       "      <td>0.17300</td>\n",
       "      <td>NaN</td>\n",
       "    </tr>\n",
       "    <tr>\n",
       "      <th>4</th>\n",
       "      <td>84358402</td>\n",
       "      <td>M</td>\n",
       "      <td>20.29</td>\n",
       "      <td>14.34</td>\n",
       "      <td>135.10</td>\n",
       "      <td>1297.0</td>\n",
       "      <td>0.10030</td>\n",
       "      <td>0.13280</td>\n",
       "      <td>0.1980</td>\n",
       "      <td>0.10430</td>\n",
       "      <td>...</td>\n",
       "      <td>16.67</td>\n",
       "      <td>152.20</td>\n",
       "      <td>1575.0</td>\n",
       "      <td>0.1374</td>\n",
       "      <td>0.2050</td>\n",
       "      <td>0.4000</td>\n",
       "      <td>0.1625</td>\n",
       "      <td>0.2364</td>\n",
       "      <td>0.07678</td>\n",
       "      <td>NaN</td>\n",
       "    </tr>\n",
       "  </tbody>\n",
       "</table>\n",
       "<p>5 rows × 33 columns</p>\n",
       "</div>"
      ],
      "text/plain": [
       "         id diagnosis  radius_mean  texture_mean  perimeter_mean  area_mean  \\\n",
       "0    842302         M        17.99         10.38          122.80     1001.0   \n",
       "1    842517         M        20.57         17.77          132.90     1326.0   \n",
       "2  84300903         M        19.69         21.25          130.00     1203.0   \n",
       "3  84348301         M        11.42         20.38           77.58      386.1   \n",
       "4  84358402         M        20.29         14.34          135.10     1297.0   \n",
       "\n",
       "   smoothness_mean  compactness_mean  concavity_mean  concave points_mean  \\\n",
       "0          0.11840           0.27760          0.3001              0.14710   \n",
       "1          0.08474           0.07864          0.0869              0.07017   \n",
       "2          0.10960           0.15990          0.1974              0.12790   \n",
       "3          0.14250           0.28390          0.2414              0.10520   \n",
       "4          0.10030           0.13280          0.1980              0.10430   \n",
       "\n",
       "   ...  texture_worst  perimeter_worst  area_worst  smoothness_worst  \\\n",
       "0  ...          17.33           184.60      2019.0            0.1622   \n",
       "1  ...          23.41           158.80      1956.0            0.1238   \n",
       "2  ...          25.53           152.50      1709.0            0.1444   \n",
       "3  ...          26.50            98.87       567.7            0.2098   \n",
       "4  ...          16.67           152.20      1575.0            0.1374   \n",
       "\n",
       "   compactness_worst  concavity_worst  concave points_worst  symmetry_worst  \\\n",
       "0             0.6656           0.7119                0.2654          0.4601   \n",
       "1             0.1866           0.2416                0.1860          0.2750   \n",
       "2             0.4245           0.4504                0.2430          0.3613   \n",
       "3             0.8663           0.6869                0.2575          0.6638   \n",
       "4             0.2050           0.4000                0.1625          0.2364   \n",
       "\n",
       "   fractal_dimension_worst  Unnamed: 32  \n",
       "0                  0.11890          NaN  \n",
       "1                  0.08902          NaN  \n",
       "2                  0.08758          NaN  \n",
       "3                  0.17300          NaN  \n",
       "4                  0.07678          NaN  \n",
       "\n",
       "[5 rows x 33 columns]"
      ]
     },
     "execution_count": 1,
     "metadata": {},
     "output_type": "execute_result"
    }
   ],
   "source": [
    "import pandas as pd\n",
    "df = pd.read_csv('./data/data.csv')\n",
    "\n",
    "df.head()"
   ]
  },
  {
   "cell_type": "code",
   "execution_count": 2,
   "id": "comic-insider",
   "metadata": {},
   "outputs": [],
   "source": [
    "X = df.loc[:,'radius_mean':'fractal_dimension_worst']\n",
    "y = df.loc[:,'diagnosis']"
   ]
  },
  {
   "cell_type": "code",
   "execution_count": 3,
   "id": "elegant-steps",
   "metadata": {},
   "outputs": [],
   "source": [
    "label_map = {'M': 1, 'B': 0}\n",
    "y = y.map(label_map)"
   ]
  },
  {
   "cell_type": "markdown",
   "id": "unlike-effectiveness",
   "metadata": {},
   "source": [
    "Ora che abbiamo creato il dataset nel formato desiderato andiamo a dividere i dati in due parti, l'80% verranno utilizzati per l'addestramento (train) mentre il 20% per testare la correttezza del nostro sistema (test)."
   ]
  },
  {
   "cell_type": "code",
   "execution_count": 4,
   "id": "representative-tiffany",
   "metadata": {},
   "outputs": [],
   "source": [
    "from sklearn.model_selection import train_test_split\n",
    "\n",
    "X_train,X_test,y_train,y_test = train_test_split(X,y,test_size = 0.20)"
   ]
  },
  {
   "cell_type": "markdown",
   "id": "precise-karma",
   "metadata": {},
   "source": [
    "### Combinare estimatori e trasformatori in una pipeline\n",
    "\n",
    "Creiamo ora un sistema che esegua in un solo passo la trasformazione PCA vista nella lezione precedente e la regressione logistica.\n",
    "Per svolgere questo lavoro usiamo l'oggetto `Pipeline`"
   ]
  },
  {
   "cell_type": "code",
   "execution_count": 5,
   "id": "refined-trace",
   "metadata": {},
   "outputs": [
    {
     "data": {
      "text/plain": [
       "Pipeline(steps=[('standardscaler', StandardScaler()),\n",
       "                ('pca', PCA(n_components=2)),\n",
       "                ('logisticregression', LogisticRegression())])"
      ]
     },
     "execution_count": 5,
     "metadata": {},
     "output_type": "execute_result"
    }
   ],
   "source": [
    "from sklearn.pipeline import make_pipeline\n",
    "from sklearn.preprocessing import StandardScaler\n",
    "from sklearn.decomposition import PCA\n",
    "from sklearn.linear_model import LogisticRegression\n",
    "\n",
    "pipeline = make_pipeline(StandardScaler(),PCA(n_components=2),LogisticRegression(solver='lbfgs'))\n",
    "pipeline.fit(X_train,y_train)"
   ]
  },
  {
   "cell_type": "code",
   "execution_count": 6,
   "id": "graduate-residence",
   "metadata": {},
   "outputs": [
    {
     "name": "stdout",
     "output_type": "stream",
     "text": [
      "Test accuracy: 0.930\n"
     ]
    }
   ],
   "source": [
    "score = pipeline.score(X_test,y_test)\n",
    "print(\"Test accuracy: {0:.3f}\".format(score))"
   ]
  },
  {
   "cell_type": "markdown",
   "id": "southwest-curve",
   "metadata": {},
   "source": [
    "La funzione `make_pipeline` accetta in ingresso un numero arbitrario di transformer (che supportano sia il metodo `fit` che il metodo `transform`) seguito da un oggetto estimatore che implementa i metodi `fit` e `predict`.\n",
    "\n",
    "Possiamo pensare che l'oggetto `Pipeline` sia una box in cui quando chiamiamo il metodo `fit` i dati passano attraverso tutti i trasformatori (viene chiamato il metodo `fit`) fino ad arrivare al trasformatore finale.\n",
    "\n",
    "Quando invece viene chiamato il metodo `predict` i dati passano attravesrso i trasformatori utilizzando il metodo `tranform` fino ad arrivare alla fine dove incontrano l'estimatore in cui viene richiamato il metodo `predict`.\n",
    "\n",
    "## Utilizzo della convalida incrociata k-fold per valutare le prestazioni del modello\n",
    "\n",
    "Per impostare bene il nostro modello dobbiamo trovare un buon compromesso tra underfitting e overfitting nei prossimi passi affronteremo le varie strategie per per stimare l'errore di generalizzazione.\n",
    "\n",
    "### Il modello holdout\n",
    "L'approccio classico per la stima delle prestazioni è il modello holdout, con esso si divide il dataset in due parti train e test. Il primo viene ovviamente utilizzato per il train ed il secondo per il test finale tuttavia siamo interessati anche ad ottimizziare i parametri che lo stesso mette a disposizione *(iperparametri)*. Tuttavia se utilizzassimo i dati di test per l'ottimizzazione essi finirebbero a far parte dei nostri dati di train ed il modello andrebbe certamente in contro ad un problema di overfitting.\n",
    "Per ovviare a questo problema si divide il dataset di train in due pessi la parte di train e la parte di convalida che verrà utilizzata per calcorare la migliore combinazione di iperparametri.\n",
    "Una volta eseguito questi passaggi potremmo finalmente utilizzare il dataset di test per controllare il comportamento del modello.\n",
    "Lo svantaggio di questo sistema sta nel fatto che è fortemente legato al modo in cui i dati vengono divisi.\n",
    "\n",
    "Nel prossimo paragrafo andremo ad analizzare la convalida incrociata che essenzialmente ripete il modello holdout sul dataset n volte, con una stima più precisa.\n",
    "\n",
    "### Convalida incrociata K-fold\n",
    "Nella convalida incrociata K-fold, suddividiamo in modo casuale il dataset di addestramento in k parti senza reinserimento, k-1 parti verranno utilizzate per l'addestramento del modello e l'ultima verrà utilizzata per verificare le caratteristiche del modello. Questa procedura viene ripetuta k volte con k stime di prestazioni.\n",
    "\n",
    "Per calcolare i parametri migliori da utilizzare sul modello di utilizza il metodo k-fold, una volta eseguito questo passo si riesegue l'addestramento sull'intero dataset di train e si ottiene la stima finale utilizzando il dataset di test.\n",
    "Il valore standard di k è pari a 10, di solito questo valore è sufficiente per la maggior parte dei casi.\n",
    "Se stiamo lavorando con dataset piccoli potremo scegliere un valore di k più grande per avere un dataset di addestramento il piu grande possibile. Tuttavia avremo anche dei risultati intermedi con varianzia più elevata.\n",
    "\n",
    "Per dataset molto grandi invece conviene usare valori più piccoli ad esempio k = 5, per ridurre anche il costo computazionale.\n",
    "\n",
    "Un leggero miglioramento del sistema k-fold è la convalida incrociata k-fold stratificata, con questo tipo di convalida le proporzioni tra le classi vengono preservate in ciascuna parte, per garantire che ciascuna parte abbia una rappresentazione delle classi uguale.\n",
    "Qui sotto mostriamo un esempio di come funziona tale iteratore `StratifiedKFold`"
   ]
  },
  {
   "cell_type": "code",
   "execution_count": 7,
   "id": "finite-gregory",
   "metadata": {},
   "outputs": [
    {
     "name": "stdout",
     "output_type": "stream",
     "text": [
      "Class dist [256 153] accuracy 0.96\n",
      "Class dist [256 153] accuracy 0.96\n",
      "Class dist [256 153] accuracy 0.96\n",
      "Class dist [256 153] accuracy 0.93\n",
      "Class dist [256 153] accuracy 0.91\n",
      "Class dist [257 153] accuracy 0.93\n",
      "Class dist [257 153] accuracy 0.96\n",
      "Class dist [257 153] accuracy 0.93\n",
      "Class dist [257 153] accuracy 1.00\n",
      "Class dist [257 153] accuracy 0.91\n",
      "CV accuracy 0.95 +/- 0.02\n"
     ]
    }
   ],
   "source": [
    "import numpy as np\n",
    "from sklearn.model_selection import StratifiedKFold\n",
    "\n",
    "skf = StratifiedKFold(n_splits=10)\n",
    "\n",
    "scores = []\n",
    "for train_index, test_index in skf.split(X_train,y_train):\n",
    "    pipeline.fit(X_train.iloc[train_index],y_train.iloc[train_index])\n",
    "    score = pipeline.score(X_train.iloc[test_index],y_train.iloc[test_index])\n",
    "    \n",
    "    print(\"Class dist {0} accuracy {1:.2f}\".format(np.bincount(y_train.iloc[train_index]),score))\n",
    "    \n",
    "    scores.append(score)\n",
    "    \n",
    "print(\"CV accuracy {0:.2f} +/- {1:.2f}\".format(np.mean(scores),np.std(scores)))"
   ]
  },
  {
   "cell_type": "markdown",
   "id": "cordless-guarantee",
   "metadata": {},
   "source": [
    "Sebbene il precedente codice fosse utile per comprendere il funzionamento del metodo sklean implementa già tutti i passaggi attraverso la funzione `cross_val_score`"
   ]
  },
  {
   "cell_type": "code",
   "execution_count": 8,
   "id": "sixth-highway",
   "metadata": {},
   "outputs": [
    {
     "name": "stdout",
     "output_type": "stream",
     "text": [
      "CV scores [0.95652174 0.95652174 0.95652174 0.93478261 0.91304348 0.93333333\n",
      " 0.95555556 0.93333333 1.         0.91111111]\n",
      "CV accuracy 0.95 +/- 0.02\n"
     ]
    }
   ],
   "source": [
    "from sklearn.model_selection import cross_val_score\n",
    "\n",
    "scores = cross_val_score(pipeline,X_train,y_train,cv=10,n_jobs=-1)\n",
    "\n",
    "print(\"CV scores {0}\".format(scores))\n",
    "print(\"CV accuracy {0:.2f} +/- {1:.2f}\".format(np.mean(scores),np.std(scores)))"
   ]
  },
  {
   "cell_type": "markdown",
   "id": "retained-mapping",
   "metadata": {},
   "source": [
    "una cosa interessante di questo ultimo metodo è che possiamo distribuire la valutazione delle varie parti su più cpu, se impostiamo il parametro `n_jobs=-1` potremmo utilizzare tutte le cpu disponibili.\n",
    "\n",
    "## Debugging degli algoritmi con le curve di apprendimento e convalida\n",
    "\n",
    "Ora esamineremo due semplici quanto potenti stumenti per analizzare le perfomance dell'algoritmo \n",
    "\n",
    "### Diagnosi dei problemi di bias e varianza con le curve di apprendimento\n",
    "Se il modello è troppo complesso per un determinato dataset di addestramento il modello tende a non convergere bene sui dati di test e dunque non generalizzare bene su dati mai visti.\n",
    "Tuttavia basterebbe ottenere più dati per mitigare il problema, questo però può risultare difficile se non impossibile.\n",
    "Tracciando il comportamento del modello in funzione dell'aumentare dei dataset possiamo individuare se il modello soffre di elevata varianza o bias.\n"
   ]
  },
  {
   "cell_type": "code",
   "execution_count": 9,
   "id": "emerging-student",
   "metadata": {},
   "outputs": [
    {
     "data": {
      "text/plain": [
       "<matplotlib.legend.Legend at 0x1b98465f708>"
      ]
     },
     "execution_count": 9,
     "metadata": {},
     "output_type": "execute_result"
    },
    {
     "data": {
      "image/png": "[encoded data removed]",
      "text/plain": [
       "<Figure size 432x288 with 1 Axes>"
      ]
     },
     "metadata": {
      "needs_background": "light"
     },
     "output_type": "display_data"
    }
   ],
   "source": [
    "from sklearn.model_selection import learning_curve\n",
    "import matplotlib.pyplot as plt\n",
    "\n",
    "train_sizes, train_scores, test_scores = learning_curve(pipeline, X, y, cv=10, n_jobs=-1,train_sizes=np.linspace(0.4,1,10))\n",
    "\n",
    "train_mean = np.mean(train_scores,axis=1)\n",
    "train_std = np.std(train_scores,axis=1)\n",
    "\n",
    "test_mean = np.mean(test_scores,axis=1)\n",
    "test_std = np.std(test_scores,axis=1)\n",
    "\n",
    "plt.plot(train_sizes,train_mean,color='blue',marker='o',markersize=5,label='training accuracy')\n",
    "plt.fill_between(train_sizes,train_mean + train_std,train_mean - train_std,alpha=0.15,color='blue')\n",
    "\n",
    "plt.plot(train_sizes,test_mean,color='green',marker='s',linestyle=\"--\",markersize=3,label='validation accuracy')\n",
    "plt.fill_between(train_sizes,test_mean + test_std,test_mean - test_std,alpha=0.15,color='green')\n",
    "\n",
    "plt.grid()\n",
    "\n",
    "plt.xlabel(\"Number of elements\")\n",
    "plt.ylabel(\"Accuracy\")\n",
    "plt.legend(loc = 'lower right')"
   ]
  },
  {
   "cell_type": "markdown",
   "id": "excessive-charlotte",
   "metadata": {},
   "source": [
    "### Soluzione di problemi di overfitting e underfitting con le curve di convalida\n",
    "\n",
    "Le curve di convalida sono un ottimo strumento per migliorare le prestazioni di un modello risolvendo i problemi di overfitting. Qui invece di tracciare le curve in funzione della dimensione del campione qui si interviene sui parametri del modello.\n",
    "\n",
    "Vediamo qui sotto un esempio di curva al variare di C"
   ]
  },
  {
   "cell_type": "code",
   "execution_count": 10,
   "id": "saved-commerce",
   "metadata": {},
   "outputs": [
    {
     "data": {
      "text/plain": [
       "<matplotlib.legend.Legend at 0x1b985971e88>"
      ]
     },
     "execution_count": 10,
     "metadata": {},
     "output_type": "execute_result"
    },
    {
     "data": {
      "image/png": "[encoded data removed]",
      "text/plain": [
       "<Figure size 432x288 with 1 Axes>"
      ]
     },
     "metadata": {
      "needs_background": "light"
     },
     "output_type": "display_data"
    }
   ],
   "source": [
    "from sklearn.model_selection import validation_curve\n",
    "param_range = [0.001,0.01,0.1,1.0,10.0,100.0]\n",
    "\n",
    "train_scores,test_scores =  validation_curve(pipeline, X, y,param_name='logisticregression__C',param_range=param_range,cv=10)\n",
    "\n",
    "train_mean = np.mean(train_scores,axis=1)\n",
    "train_std = np.std(train_scores,axis=1)\n",
    "\n",
    "test_mean = np.mean(test_scores,axis=1)\n",
    "test_std = np.std(test_scores,axis=1)\n",
    "\n",
    "\n",
    "plt.plot(param_range,train_mean,color='blue',marker='o',markersize=5,label='training accuracy')\n",
    "plt.fill_between(param_range,train_mean + train_std,train_mean - train_std,alpha=0.15,color='blue')\n",
    "\n",
    "plt.plot(param_range,test_mean,color='green',marker='s',linestyle=\"--\",markersize=3,label='validation accuracy')\n",
    "plt.fill_between(param_range,test_mean + test_std,test_mean - test_std,alpha=0.15,color='green')\n",
    "\n",
    "plt.grid()\n",
    "plt.xscale('log')\n",
    "plt.xlabel(\"Parameter C\")\n",
    "plt.ylabel(\"Accuracy\")\n",
    "plt.legend(loc = 'lower right')\n"
   ]
  },
  {
   "cell_type": "markdown",
   "id": "super-secondary",
   "metadata": {},
   "source": [
    "notiamo che con c > 1 l'accuratezza non aumenta e si ha inoltre un leggero overfit\n",
    "\n",
    "## Ottimizzazione dei modelli di machine learning tramite ricerca a griglia\n",
    "Come abbiamo sempre visto fino ad ora negli algoritmi di machine learning abbiamo due tipi di parametri che vengono appresi, quelli in fase di addestramento e gli iperparametri per esempio la regolarizzazione che devono essere ottimizzati separamatente.\n",
    "\n",
    "Nel codice precedente abbiamo visto come le curve di convalida ci possano aiutare nel cercare il parametro migliore, ma ora vedremo una tecnica che ci aiuterà nel cercare in automatico i parametri da ottimizzare nel miglior modo possibile.\n",
    "\n",
    "### Ottimizzazione dei parametri tramite ricerca a griglia\n",
    "Questo tipo di ricerca è piuttosto semplice si tratta di una ricerca tramite forza bruta, il computer valuta tutte le combinazioni per cercare la combinazione vediamo un esempio pratico"
   ]
  },
  {
   "cell_type": "code",
   "execution_count": 11,
   "id": "private-slovak",
   "metadata": {},
   "outputs": [
    {
     "name": "stdout",
     "output_type": "stream",
     "text": [
      "Best score 0.98\n",
      "{'svc__C': 0.01, 'svc__kernel': 'linear'}\n"
     ]
    }
   ],
   "source": [
    "from sklearn.model_selection import GridSearchCV\n",
    "from sklearn.svm import SVC\n",
    "\n",
    "pipe_svc = make_pipeline(StandardScaler(),SVC())\n",
    "\n",
    "param_range = [0.0001,0.001,0.01,0.1,1.0,10.0,100.0,1000.0]\n",
    "param_grid = [\n",
    "    {\n",
    "    'svc__C':param_range,\n",
    "    'svc__kernel':['linear']\n",
    "    },\n",
    "     {\n",
    "    'svc__C':param_range,\n",
    "    'svc__gamma':param_range,\n",
    "    'svc__kernel':['rbf']\n",
    "    }\n",
    "]\n",
    "\n",
    "\n",
    "gs = GridSearchCV(estimator = pipe_svc,param_grid = param_grid, scoring = 'accuracy', cv = 10, n_jobs = -1)\n",
    "gs = gs.fit(X_train,y_train)\n",
    "\n",
    "print(\"Best score {0:.2f}\".format(gs.best_score_))\n",
    "\n",
    "print(gs.best_params_)"
   ]
  },
  {
   "cell_type": "markdown",
   "id": "superb-technology",
   "metadata": {},
   "source": [
    "Una volta ottimizzato il modello andiamo a controllare come si comporta nel dataset di test"
   ]
  },
  {
   "cell_type": "code",
   "execution_count": 12,
   "id": "floppy-exploration",
   "metadata": {},
   "outputs": [
    {
     "name": "stdout",
     "output_type": "stream",
     "text": [
      "Test accuracy 0.94\n"
     ]
    }
   ],
   "source": [
    "clf = gs.best_estimator_\n",
    "clf.fit(X_train,y_train)\n",
    "\n",
    "score = clf.score(X_test,y_test)\n",
    "print(\"Test accuracy {0:.2f}\".format(score))"
   ]
  },
  {
   "cell_type": "markdown",
   "id": "tamil-vietnam",
   "metadata": {},
   "source": [
    "sebbene la ricerca a griglia sia uno strumento molto potente, su dataset molto grandi e con molti parametri potremmo avere dei problemi prestazionali.\n",
    "\n",
    "Un buon approccio potrebbe essere quello di utilizzare la ricerca casuale con la classe `RandomizedSearchCV`"
   ]
  },
  {
   "cell_type": "code",
   "execution_count": 13,
   "id": "overhead-cartoon",
   "metadata": {},
   "outputs": [
    {
     "name": "stdout",
     "output_type": "stream",
     "text": [
      "Best score 0.96\n",
      "{'svc__kernel': 'linear', 'svc__C': 1000.0}\n"
     ]
    }
   ],
   "source": [
    "from sklearn.model_selection import RandomizedSearchCV\n",
    "\n",
    "param_range = [0.0001,0.001,0.01,0.1,1.0,10.0,100.0,1000.0]\n",
    "param_grid = [\n",
    "    {\n",
    "    'svc__C':param_range,\n",
    "    'svc__kernel':['linear']\n",
    "    },\n",
    "     {\n",
    "    'svc__C':param_range,\n",
    "    'svc__gamma':param_range,\n",
    "    'svc__kernel':['rbf']\n",
    "    }\n",
    "]\n",
    "\n",
    "\n",
    "rs = RandomizedSearchCV(estimator = pipe_svc,param_distributions = param_grid, scoring = 'accuracy', cv = 10, n_jobs = -1)\n",
    "rs = rs.fit(X_train,y_train)\n",
    "\n",
    "print(\"Best score {0:.2f}\".format(rs.best_score_))\n",
    "\n",
    "print(rs.best_params_)\n",
    "\n"
   ]
  },
  {
   "cell_type": "code",
   "execution_count": 14,
   "id": "handmade-washington",
   "metadata": {},
   "outputs": [
    {
     "name": "stdout",
     "output_type": "stream",
     "text": [
      "Test accuracy 0.96\n"
     ]
    }
   ],
   "source": [
    "clf = rs.best_estimator_\n",
    "clf.fit(X_train,y_train)\n",
    "\n",
    "score = clf.score(X_test,y_test)\n",
    "print(\"Test accuracy {0:.2f}\".format(score))"
   ]
  },
  {
   "cell_type": "markdown",
   "id": "humanitarian-blogger",
   "metadata": {},
   "source": [
    "## Selezione dell'algoritmo con convalida incrociata nidificata\n",
    "\n",
    "L'utilizzo della convalida incrociata *k-fold* in combinazione con la ricerca a griglia/randomica è un ottimo strumento per l'ottimizzazione degli iperparametri. Ma se volgiamo selezionare fra vari algoritmi una buona soluzione potrebbe essere quella di utilizzare la convalida incrociata nidificata. \n",
    "\n",
    "Si parte da un ciclo esterno dove si usa la cross validation per validare i dati e fornire ad un ciclo più interno gli stessi per ottimizzare i parametri del modello.\n",
    "\n",
    "La figura qui sotto introduce il concetto di una convalida incrociata 5x2\n",
    "\n",
    "![convalida incrociata nidificata](./images/crossValidation.png)\n",
    "\n",
    "Per eseguire questo tipo di convalida con sklearn basta utilizzare le seguenti linee di codice\n"
   ]
  },
  {
   "cell_type": "code",
   "execution_count": 15,
   "id": "endless-overall",
   "metadata": {},
   "outputs": [
    {
     "name": "stdout",
     "output_type": "stream",
     "text": [
      "CV accuracy 0.98 +/- 0.02\n"
     ]
    }
   ],
   "source": [
    "rs = RandomizedSearchCV(estimator = pipe_svc,param_distributions = param_grid, scoring = 'accuracy', cv = 2, n_jobs = -1)\n",
    "scores = cross_val_score(rs,X_train,y_train,cv=5,n_jobs=-1)\n",
    "\n",
    "print(\"CV accuracy {0:.2f} +/- {1:.2f}\".format(np.mean(scores),np.std(scores)))\n"
   ]
  },
  {
   "cell_type": "markdown",
   "id": "occasional-cream",
   "metadata": {},
   "source": [
    "## Metrice di valutazione delle prestazioni\n",
    "\n",
    "Fino ad ora abbiamo sempre utilizzato come metro per la prestazione di un algoritmo l'accuratezza, come vedremo nei prossimi capitoli esistono anche altre metriche prestazionali tra cui: precisione, recall e F1-score\n",
    "\n",
    "### Lettura di una matrice di confusione\n",
    "\n",
    "Prima di entrare nel dettaglio di una classe di metriche dobbiamo trattare la cosidetta matrice di confusione.\n",
    "Questa è una matrice quadrata che contiene il conteggio dei veri positivi, dei veri negativi, dei falsi positivi e dei falsi negativi.\n",
    "\n",
    "Sebbene questa metrica possa essere calcolata con facilità abbiamo una funzione di sklearn che ci viene in aiuto.\n"
   ]
  },
  {
   "cell_type": "code",
   "execution_count": 17,
   "id": "removable-tiffany",
   "metadata": {},
   "outputs": [
    {
     "data": {
      "text/plain": [
       "array([[71,  1],\n",
       "       [ 2, 40]], dtype=int64)"
      ]
     },
     "execution_count": 17,
     "metadata": {},
     "output_type": "execute_result"
    }
   ],
   "source": [
    "from sklearn.metrics import confusion_matrix\n",
    "\n",
    "pipe_svc.fit(X_train,y_train)\n",
    "y_pred = pipe_svc.predict(X_test)\n",
    "\n",
    "matrix = confusion_matrix(y_test,y_pred)\n",
    "matrix"
   ]
  },
  {
   "cell_type": "code",
   "execution_count": 21,
   "id": "sized-stanford",
   "metadata": {},
   "outputs": [
    {
     "data": {
      "text/plain": [
       "Text(0.5, 15.0, 'Predicted label')"
      ]
     },
     "execution_count": 21,
     "metadata": {},
     "output_type": "execute_result"
    },
    {
     "data": {
      "image/png": "[encoded data removed]",
      "text/plain": [
       "<Figure size 432x288 with 2 Axes>"
      ]
     },
     "metadata": {
      "needs_background": "light"
     },
     "output_type": "display_data"
    }
   ],
   "source": [
    "import seaborn as sns\n",
    "\n",
    "categories = ['B', 'M']\n",
    "sns.heatmap(matrix, annot=True,cmap='Blues',xticklabels=categories,yticklabels=categories)\n",
    "plt.ylabel('True label')\n",
    "plt.xlabel('Predicted label')"
   ]
  },
  {
   "cell_type": "code",
   "execution_count": null,
   "id": "contemporary-salvation",
   "metadata": {},
   "outputs": [],
   "source": []
  }
 ],
 "metadata": {
  "kernelspec": {
   "display_name": "Python 3",
   "language": "python",
   "name": "python3"
  },
  "language_info": {
   "codemirror_mode": {
    "name": "ipython",
    "version": 3
   },
   "file_extension": ".py",
   "mimetype": "text/x-python",
   "name": "python",
   "nbconvert_exporter": "python",
   "pygments_lexer": "ipython3",
   "version": "3.7.10"
  }
 },
 "nbformat": 4,
 "nbformat_minor": 5
}
