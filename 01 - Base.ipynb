{
 "cells": [
  {
   "cell_type": "markdown",
   "metadata": {},
   "source": [
    "# Introduzione\n",
    "\n",
    "Il *machine learning* è ramo dell'informatica che studia algoritmi che hanno la capacità di estrarre informazioni utili da una massa informe di dati. Dobbiamo pensare che viviamo in una epoca dove si produce una quantità di dati digitali impressionanti perchè non possiamo sfruttare questa massa per ottenere informazioni a noi utili?\n",
    "\n",
    "Altra cosa molto interessante è la quantità di strumenti **open source** che sono stati sviluppati per eseguire le nostre previsioni. \n",
    "\n",
    "Quando parliamo di previsione intendiamo dire che vegliamo sfruttare tutta una serie di eventi passati di cui conosciamo la storia per prendere delle decisioni su un prossimo evento a noi sconosciuto, il machine learning non fa altro che estrapolare degli schemi dai dati passati e li va applicare su eventi futuri.\n",
    "\n",
    "\n",
    "## Le tre classi degli algoritmi di apprendimento automatico\n",
    "\n",
    "Nel machine learning esistono tre grando classi di algoritmi:\n",
    "\n",
    "* l'apprendimento supervisionato **supervised learning**\n",
    "* l'apprendimento non supervisionato **unsupervised learning**\n",
    "* l'apprendimento per rinforzo **reinforcement learning** (Non affrontato in questo corso)\n",
    "\n",
    "![famiglie algoritmi](./images/famiglie.png)\n",
    "\n",
    "Analizziamo questi domini uno per volta\n",
    "\n",
    "### Apprendimento supervisionato ovvero effettuare previsioni future grazie ai dati del passato\n",
    "\n",
    "Lo scopo principale dell'apprendimento supervisionato consite nel partire da dei dati di *addestramento* etichettati ed estrarre un modello per effettuare previsioni future. \n",
    "Il termine supervisionato fa riferimento al fatto che abbiamo le nostre etichette vengono considerate come output del sistema e sono già note in partenza.\n",
    "Facciamo un esempio consideriamo un sistema per il filtraggio dei messaggi di spam, potremmo farlo con un sistema supervisionato utilizzando due insiemi di messaggi etichettati come **spam** e **no spam**.\n",
    "Una volta eseguita la fase di addestramento **train** potremo determina se un nuovo messaggio e spam o meno, questo compito lo possiamo chiamare **classificazione**.\n",
    "Un'altro compito può essere quello di determinare il prezzo di una casa in base ad alcune sue caratteristiche ad esempio metri quadri calpestabili, lontananza dal centro abitato ecc ecc è ovvio che ora l'uscita del nostro sistema non sarà più un valore discreto ma sarà rappresentato da una uscita di tipo continuo, questo compito si chiama **regressione**.\n",
    "\n",
    "![supervised](./images/supervised.png)\n",
    "\n",
    "#### Classificazione\n",
    "\n",
    "La classificazione è una sottocategoria dell'apprendimento supervisionato, l'obiettivo è quello di prevedere le etichette da applicare ad un determinato insieme partendo da delle osservazioni avvenute in passato.\n",
    "L'esempio fatto prima delle email di spam rappresenta un tipico esempio di *classificazione binaria*, tuttavia l'insieme delle etichette non deve per forza avere una natura binaria, un esempio di *classificazione multiclasse* è il riconoscimento del testo scritto a mano basterà fornire al nostro algoritmo un insieme di lettere classficate, fatto notare una cosa se ad esempio noi non usassimo nella fase di addestramento le cifre tra 0 e 9 il sitema non sarebbe in grado di riconoscerle.\n",
    "\n",
    "La figura qui sotto illustra come lavora un classificatore binario sulla basi dei campioni di apprendimento, abbiamo un insieme di esempi appartenente alla classe negativa $(-)$ e un insieme di esempi appartenente alla classe positiva $(+)$. \n",
    "Il nostro dataset è bidimensionale infatti ad ogni esempio saranno associati 2 valori $X1$ e $X2$   \n",
    "![classificazione](./images/classificazione_binaria.png)\n",
    "\n",
    "Il nostro algoritmo decisionale non farà altro che estrapolare una regola, la nostra linea tratteggiata, che sia in grado di dividere i nostri due insiemi nel miglior modo possibile. \n"
   ]
  },
  {
   "cell_type": "markdown",
   "metadata": {},
   "source": [
    "#### Regressione\n",
    "\n",
    "Un secondo tipo di apprendimento con supervisione  riguarda la previsione di risultati continui chiamata anche *regressione*.\n",
    "Nella regressione abbiamo un certo numero di variabili predittive e una variabile *target* continua, il nostro scopo è quello di cercare di trovare una relazione tra i dati in input e il target.\n",
    "Ad esempio supponiamo di essere interessati nel prevedere lo spazio di frenata in base alla nostra velocità se vi è una relazione il nostro algoritmo sarà in grado di effettuare delle previsioni accurate.\n",
    "Qui sotto un esempio di come funziona un sistema di *regressione lineare*, il nostro sistema cercherà di trovare un relazione tra $X1$ e $X2$ in modo da minimizzare la distaza tra la retta e i punti del campione (*).\n",
    "\n",
    "![regressione](./images/regressione.png)"
   ]
  },
  {
   "cell_type": "markdown",
   "metadata": {},
   "source": [
    "### Scoprire strutture nascoste con l'apprendimento senza supervisione\n",
    "\n",
    "Nell'apprendimento supervisionato conosciamo in anticipo la risposta che il nostro sistema dovrà dare.\n",
    "Viceversa nell'apprendimento non supervisionato non conosciamo a priori questo dato, avremo perciò a che fare con dati non etichettati o dati la cui struttura è ignota.\n",
    "\n",
    "#### Ricerca dei sottogruppi tramite clustering\n",
    "\n",
    "Il *clustering* è una tecnica esplorativa che ci permette di organizzare le informazioni in gruppi significativi *(cluster)* senza avere nessuna conoscenza a priori del dato. Tutte le misure del cluster condividono un certo grado di similitudine ma sono anche dissimili dagli elementi degli altri cluster. Il clustering è un'ottima tecnica per la strutturazione delle informazioni e per individuare relazioni significative nei dati, per esempio consente agli operatori di marketing si individuare dei gruppi di clienti sulla base dei loro interessi, in modo da sviluppare le loro campagne di vendita. \n",
    "\n",
    "Qui sotto un esempio di come il clustering può essere applicato ad un insieme di dati non categorizzato, suddidividendo i dati in tre insiemi ben distinti in base alla similarità delle caratteristiche $X1$ e $X2$\n",
    "![clustering](./images/clustering.png)\n",
    "\n",
    "#### Riduzione della dimensionale per la compressione dei dati\n",
    "\n",
    "Un altro sottocampo dell'apprendimento non supervisionato è la *riduzione di dimensionalità*. Spesso di troviamo a operare con dati a elevata dimensionalità (ogni osservazione fornisce un elevato numero dati) il che rappresenta una sfida per la visualizzazione del dato e per l'algoritmo di apprendimento (Maledizione della dimensionalità).\n",
    "\n"
   ]
  },
  {
   "cell_type": "markdown",
   "metadata": {},
   "source": [
    "### Apprendimento per rinforzo\n",
    "\n",
    "Un'altro tipo di apprendimento automatico è l'apprendimento per rinforzo. Il nostro obiettivo è quello di sviluppare un sistema *agente* che migliori le prestazioni sulle base delle interazioni con l'*ambiente*. Ad ogni interazione viene elargita una ricompensa o una punizione (ricompensa negativa) perciò possiamo dire che l'apprendimento per rinforzo è una sorta di apprendimento con supervisione. \n",
    "\n",
    "Un esempio classico si apprendimento per rinforzo è il motore di gioco degli scacchi. Qui l'agente decide di svolgere una serie di mosse a seconda dello stato della scacchiera *(ambiente)* e la ricompesa può essere decisa in base alla posizione di vantaggio o svantaggio.\n",
    "\n",
    "![clustering](./images/reinforcement.png)\n"
   ]
  },
  {
   "cell_type": "markdown",
   "metadata": {},
   "source": [
    "## Terminologia e notazioni di base\n",
    "\n",
    "Abbiamo fatto una introduzione alle famiglie di algoritmi di apprendimento automatico, ora iniziamo a dare una occhiata alle terminolgie che ci trovaremo ad utilizzare nel corso dei nostri studi.\n",
    "La prima parola che ci troveremo ad utilizzare è **dataset** che rappresenta il nostro insieme dei dati.\n",
    "Cominciamo con il caricare il nostro dataset *Iris* che contiene la misurazione delle caratterische di 150 fiori di Iris, divisi in tre specie: *Setosa*, *Versiculor* e *Virginica*\n",
    "\n",
    "![iris](./images/iris-machinelearning.png)\n",
    "\n",
    "Ogni campione rappresenta una riga del dataset e le misure dei parametri del fiore in centimetri viene indicata nelle varie colonne del dataset e rappresentano le caratteristiche **features** mentre la classe rapprenta il risultato che vogliamo ottenere **label**\n",
    "\n",
    "\n",
    "![iris](./images/iris.png)"
   ]
  },
  {
   "cell_type": "code",
   "execution_count": 1,
   "metadata": {},
   "outputs": [
    {
     "name": "stdout",
     "output_type": "stream",
     "text": [
      "The scikit-learn version is 0.23.2.\n",
      "\n",
      "The dataset has 150 rows and 4 features\n",
      "The dataset has 150 labels\n"
     ]
    }
   ],
   "source": [
    "import sklearn\n",
    "from sklearn import datasets\n",
    "\n",
    "\n",
    "print('The scikit-learn version is {}.\\n'.format(sklearn.__version__))\n",
    "\n",
    "iris = datasets.load_iris()\n",
    "\n",
    "X = iris.data \n",
    "\n",
    "num_row,num_features = X.shape\n",
    "print('The dataset has {0} rows and {1} features'.format(num_row,num_features))\n",
    "\n",
    "y = iris.target\n",
    "print('The dataset has {0} labels'.format(y.shape[0]))\n"
   ]
  },
  {
   "cell_type": "code",
   "execution_count": 2,
   "metadata": {},
   "outputs": [
    {
     "data": {
      "text/plain": [
       "array([[5.1, 3.5, 1.4, 0.2],\n",
       "       [4.9, 3. , 1.4, 0.2],\n",
       "       [4.7, 3.2, 1.3, 0.2],\n",
       "       [4.6, 3.1, 1.5, 0.2],\n",
       "       [5. , 3.6, 1.4, 0.2],\n",
       "       [5.4, 3.9, 1.7, 0.4],\n",
       "       [4.6, 3.4, 1.4, 0.3],\n",
       "       [5. , 3.4, 1.5, 0.2],\n",
       "       [4.4, 2.9, 1.4, 0.2],\n",
       "       [4.9, 3.1, 1.5, 0.1]])"
      ]
     },
     "execution_count": 2,
     "metadata": {},
     "output_type": "execute_result"
    }
   ],
   "source": [
    "X[:10]"
   ]
  },
  {
   "cell_type": "code",
   "execution_count": 3,
   "metadata": {},
   "outputs": [
    {
     "data": {
      "text/plain": [
       "array([0, 0, 0, 0, 0, 0, 0, 0, 0, 0])"
      ]
     },
     "execution_count": 3,
     "metadata": {},
     "output_type": "execute_result"
    }
   ],
   "source": [
    "y[:10]"
   ]
  }
 ],
 "metadata": {
  "kernelspec": {
   "display_name": "Python 3",
   "language": "python",
   "name": "python3"
  },
  "language_info": {
   "codemirror_mode": {
    "name": "ipython",
    "version": 3
   },
   "file_extension": ".py",
   "mimetype": "text/x-python",
   "name": "python",
   "nbconvert_exporter": "python",
   "pygments_lexer": "ipython3",
   "version": "3.7.9"
  }
 },
 "nbformat": 4,
 "nbformat_minor": 4
}
