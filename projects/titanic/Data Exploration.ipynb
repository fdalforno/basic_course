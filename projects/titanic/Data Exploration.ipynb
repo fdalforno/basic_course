{
 "cells": [
  {
   "cell_type": "code",
   "execution_count": 2,
   "metadata": {},
   "outputs": [
    {
     "name": "stdout",
     "output_type": "stream",
     "text": [
      "./data\\gender_submission.csv\n",
      "./data\\test.csv\n",
      "./data\\train.csv\n"
     ]
    }
   ],
   "source": [
    "import numpy as np\n",
    "import pandas as pd\n",
    "\n",
    "import os\n",
    "for dirname, _, filenames in os.walk('./data'):\n",
    "    for filename in filenames:\n",
    "        print(os.path.join(dirname, filename))"
   ]
  },
  {
   "cell_type": "code",
   "execution_count": 3,
   "metadata": {},
   "outputs": [],
   "source": [
    "train_data = pd.read_csv(\".\\\\data\\\\train.csv\",index_col = \"PassengerId\")\n",
    "test_data = pd.read_csv(\".\\\\data\\\\test.csv\",index_col = \"PassengerId\")"
   ]
  },
  {
   "cell_type": "code",
   "execution_count": 4,
   "metadata": {},
   "outputs": [
    {
     "data": {
      "image/png": "[encoded data removed]",
      "text/plain": [
       "<Figure size 432x288 with 3 Axes>"
      ]
     },
     "metadata": {
      "needs_background": "light"
     },
     "output_type": "display_data"
    }
   ],
   "source": [
    "%matplotlib inline\n",
    "import matplotlib.pyplot as plt\n",
    "import seaborn as sns\n",
    "from statsmodels.graphics.mosaicplot import mosaic\n",
    "\n",
    "survived_mapping = {0:'died',1:'survived'}\n",
    "train_data['SurvivedText'] = train_data['Survived'].map(survived_mapping)\n",
    "\n",
    "mosaic(train_data, ['Sex', 'SurvivedText'])\n",
    "plt.show()"
   ]
  },
  {
   "cell_type": "code",
   "execution_count": 5,
   "metadata": {},
   "outputs": [
    {
     "data": {
      "image/png": "[encoded data removed]",
      "text/plain": [
       "<Figure size 432x288 with 3 Axes>"
      ]
     },
     "metadata": {
      "needs_background": "light"
     },
     "output_type": "display_data"
    }
   ],
   "source": [
    "mosaic(train_data, ['Pclass', 'SurvivedText'])\n",
    "plt.show()"
   ]
  },
  {
   "cell_type": "code",
   "execution_count": 6,
   "metadata": {},
   "outputs": [
    {
     "data": {
      "image/png": "[encoded data removed]",
      "text/plain": [
       "<Figure size 360x360 with 1 Axes>"
      ]
     },
     "metadata": {
      "needs_background": "light"
     },
     "output_type": "display_data"
    }
   ],
   "source": [
    "sns.catplot(x=\"SurvivedText\", y=\"Age\", kind=\"box\", data=train_data);"
   ]
  },
  {
   "cell_type": "code",
   "execution_count": 7,
   "metadata": {},
   "outputs": [],
   "source": [
    "train_data = train_data.drop(columns=['SurvivedText'])"
   ]
  },
  {
   "cell_type": "code",
   "execution_count": 8,
   "metadata": {},
   "outputs": [
    {
     "name": "stdout",
     "output_type": "stream",
     "text": [
      "Pclass 891 0 100.00%\n",
      "Name 891 0 100.00%\n",
      "Sex 891 0 100.00%\n",
      "Age 714 177 80.13%\n",
      "SibSp 891 0 100.00%\n",
      "Parch 891 0 100.00%\n",
      "Ticket 891 0 100.00%\n",
      "Fare 891 0 100.00%\n",
      "Cabin 204 687 22.90%\n",
      "Embarked 889 2 99.78%\n"
     ]
    }
   ],
   "source": [
    "features = ['Pclass','Name','Sex','Age','SibSp','Parch','Ticket','Fare','Cabin','Embarked']\n",
    "\n",
    "def print_null_values(dataset,features):\n",
    "    row, column = dataset.shape \n",
    "    for feature in features:\n",
    "        values = dataset[feature].count()\n",
    "        missing_values = dataset[feature].isnull().sum()\n",
    "        nan_values = dataset[feature].isna().sum()\n",
    "        perc = (values / row) * 100\n",
    "        print(\"{0} {1} {2} {3:.2f}%\".format(feature,values,missing_values,perc))\n",
    "    \n",
    "print_null_values(train_data,features)"
   ]
  },
  {
   "cell_type": "code",
   "execution_count": 9,
   "metadata": {},
   "outputs": [
    {
     "name": "stdout",
     "output_type": "stream",
     "text": [
      "Pclass 418 0 100.00%\n",
      "Name 418 0 100.00%\n",
      "Sex 418 0 100.00%\n",
      "Age 332 86 79.43%\n",
      "SibSp 418 0 100.00%\n",
      "Parch 418 0 100.00%\n",
      "Ticket 418 0 100.00%\n",
      "Fare 417 1 99.76%\n",
      "Cabin 91 327 21.77%\n",
      "Embarked 418 0 100.00%\n"
     ]
    }
   ],
   "source": [
    "print_null_values(test_data,features)"
   ]
  },
  {
   "cell_type": "code",
   "execution_count": 10,
   "metadata": {},
   "outputs": [],
   "source": [
    "sex_mapping = {'female':1,'male':0}\n",
    "train_data['Sex'] = train_data['Sex'].map(sex_mapping)\n",
    "test_data['Sex'] = test_data['Sex'].map(sex_mapping)"
   ]
  },
  {
   "cell_type": "code",
   "execution_count": 11,
   "metadata": {},
   "outputs": [
    {
     "data": {
      "text/html": [
       "<div>\n",
       "<style scoped>\n",
       "    .dataframe tbody tr th:only-of-type {\n",
       "        vertical-align: middle;\n",
       "    }\n",
       "\n",
       "    .dataframe tbody tr th {\n",
       "        vertical-align: top;\n",
       "    }\n",
       "\n",
       "    .dataframe thead th {\n",
       "        text-align: right;\n",
       "    }\n",
       "</style>\n",
       "<table border=\"1\" class=\"dataframe\">\n",
       "  <thead>\n",
       "    <tr style=\"text-align: right;\">\n",
       "      <th></th>\n",
       "      <th></th>\n",
       "      <th>Survived</th>\n",
       "    </tr>\n",
       "    <tr>\n",
       "      <th>Sex</th>\n",
       "      <th>Pclass</th>\n",
       "      <th></th>\n",
       "    </tr>\n",
       "  </thead>\n",
       "  <tbody>\n",
       "    <tr>\n",
       "      <th rowspan=\"3\" valign=\"top\">0</th>\n",
       "      <th>3</th>\n",
       "      <td>0.135447</td>\n",
       "    </tr>\n",
       "    <tr>\n",
       "      <th>2</th>\n",
       "      <td>0.157407</td>\n",
       "    </tr>\n",
       "    <tr>\n",
       "      <th>1</th>\n",
       "      <td>0.368852</td>\n",
       "    </tr>\n",
       "    <tr>\n",
       "      <th rowspan=\"3\" valign=\"top\">1</th>\n",
       "      <th>3</th>\n",
       "      <td>0.500000</td>\n",
       "    </tr>\n",
       "    <tr>\n",
       "      <th>2</th>\n",
       "      <td>0.921053</td>\n",
       "    </tr>\n",
       "    <tr>\n",
       "      <th>1</th>\n",
       "      <td>0.968085</td>\n",
       "    </tr>\n",
       "  </tbody>\n",
       "</table>\n",
       "</div>"
      ],
      "text/plain": [
       "            Survived\n",
       "Sex Pclass          \n",
       "0   3       0.135447\n",
       "    2       0.157407\n",
       "    1       0.368852\n",
       "1   3       0.500000\n",
       "    2       0.921053\n",
       "    1       0.968085"
      ]
     },
     "execution_count": 11,
     "metadata": {},
     "output_type": "execute_result"
    }
   ],
   "source": [
    "train_data[['Sex','Pclass', 'Survived']].groupby(['Sex','Pclass']).mean().sort_values(\"Survived\", ascending = True)"
   ]
  },
  {
   "cell_type": "code",
   "execution_count": 12,
   "metadata": {},
   "outputs": [
    {
     "data": {
      "text/plain": [
       "Mr          517\n",
       "Miss        186\n",
       "Mrs         128\n",
       "Master       40\n",
       "Dr            7\n",
       "Rev           6\n",
       "Major         2\n",
       "Col           2\n",
       "Jonkheer      1\n",
       "Don           1\n",
       "Capt          1\n",
       "Name: Title, dtype: int64"
      ]
     },
     "execution_count": 12,
     "metadata": {},
     "output_type": "execute_result"
    }
   ],
   "source": [
    "def extract_title(dataset):\n",
    "    dataset[\"Title\"] = dataset.Name.str.extract(' ([A-Za-z]+)\\.', expand=False)\n",
    "    dataset['Title'] = dataset['Title'].replace('Mlle', 'Miss')\n",
    "    dataset['Title'] = dataset['Title'].replace('Ms', 'Miss')\n",
    "    dataset['Title'] = dataset['Title'].replace('Mme', 'Mrs')\n",
    "    dataset['Title'] = dataset['Title'].replace('Lady', 'Miss')\n",
    "    dataset['Title'] = dataset['Title'].replace('Countess', 'Mrs')\n",
    "    dataset['Title'] = dataset['Title'].replace('Sir', 'Mrs')\n",
    "    dataset['Title'] = dataset['Title'].fillna('None')\n",
    "\n",
    "\n",
    "extract_title(train_data)\n",
    "extract_title(test_data)\n",
    "\n",
    "train_data['Title'].value_counts()"
   ]
  },
  {
   "cell_type": "code",
   "execution_count": 13,
   "metadata": {},
   "outputs": [],
   "source": [
    "frequent_titles = train_data['Title'].value_counts()[:6].index.tolist()\n",
    "train_data['Title'] = train_data['Title'].apply(lambda x: x if x in frequent_titles else 'Rare')\n",
    "test_data['Title'] = test_data['Title'].apply(lambda x: x if x in frequent_titles else 'Rare')"
   ]
  },
  {
   "cell_type": "code",
   "execution_count": 14,
   "metadata": {},
   "outputs": [
    {
     "data": {
      "text/plain": [
       "Mr        517\n",
       "Miss      186\n",
       "Mrs       128\n",
       "Master     40\n",
       "Dr          7\n",
       "Rare        7\n",
       "Rev         6\n",
       "Name: Title, dtype: int64"
      ]
     },
     "execution_count": 14,
     "metadata": {},
     "output_type": "execute_result"
    }
   ],
   "source": [
    "train_data['Title'].value_counts()"
   ]
  },
  {
   "cell_type": "code",
   "execution_count": 15,
   "metadata": {},
   "outputs": [
    {
     "data": {
      "text/html": [
       "<div>\n",
       "<style scoped>\n",
       "    .dataframe tbody tr th:only-of-type {\n",
       "        vertical-align: middle;\n",
       "    }\n",
       "\n",
       "    .dataframe tbody tr th {\n",
       "        vertical-align: top;\n",
       "    }\n",
       "\n",
       "    .dataframe thead th {\n",
       "        text-align: right;\n",
       "    }\n",
       "</style>\n",
       "<table border=\"1\" class=\"dataframe\">\n",
       "  <thead>\n",
       "    <tr style=\"text-align: right;\">\n",
       "      <th></th>\n",
       "      <th>Title</th>\n",
       "      <th>Survived</th>\n",
       "    </tr>\n",
       "  </thead>\n",
       "  <tbody>\n",
       "    <tr>\n",
       "      <th>6</th>\n",
       "      <td>Rev</td>\n",
       "      <td>0.000000</td>\n",
       "    </tr>\n",
       "    <tr>\n",
       "      <th>3</th>\n",
       "      <td>Mr</td>\n",
       "      <td>0.156673</td>\n",
       "    </tr>\n",
       "    <tr>\n",
       "      <th>5</th>\n",
       "      <td>Rare</td>\n",
       "      <td>0.285714</td>\n",
       "    </tr>\n",
       "    <tr>\n",
       "      <th>0</th>\n",
       "      <td>Dr</td>\n",
       "      <td>0.428571</td>\n",
       "    </tr>\n",
       "    <tr>\n",
       "      <th>1</th>\n",
       "      <td>Master</td>\n",
       "      <td>0.575000</td>\n",
       "    </tr>\n",
       "    <tr>\n",
       "      <th>2</th>\n",
       "      <td>Miss</td>\n",
       "      <td>0.704301</td>\n",
       "    </tr>\n",
       "    <tr>\n",
       "      <th>4</th>\n",
       "      <td>Mrs</td>\n",
       "      <td>0.796875</td>\n",
       "    </tr>\n",
       "  </tbody>\n",
       "</table>\n",
       "</div>"
      ],
      "text/plain": [
       "    Title  Survived\n",
       "6     Rev  0.000000\n",
       "3      Mr  0.156673\n",
       "5    Rare  0.285714\n",
       "0      Dr  0.428571\n",
       "1  Master  0.575000\n",
       "2    Miss  0.704301\n",
       "4     Mrs  0.796875"
      ]
     },
     "execution_count": 15,
     "metadata": {},
     "output_type": "execute_result"
    }
   ],
   "source": [
    "train_data[['Title', 'Survived']].groupby(['Title'], as_index=False).mean().sort_values(\"Survived\", ascending = True)"
   ]
  },
  {
   "cell_type": "code",
   "execution_count": 16,
   "metadata": {},
   "outputs": [],
   "source": [
    "title_map = {'Rev':1,'Mr':2,'Rare':3,'Dr':4,'Master':5,'Miss':6,'Mrs':7}\n",
    "\n",
    "def map_title(dataset):\n",
    "    dataset['TitleMap'] = dataset['Title'].map(title_map)\n",
    "    dataset['TitleMap'] = dataset['TitleMap'].fillna(0).astype('int')\n",
    "\n",
    "\n",
    "map_title(train_data)\n",
    "map_title(test_data)"
   ]
  },
  {
   "cell_type": "code",
   "execution_count": 17,
   "metadata": {},
   "outputs": [],
   "source": [
    "def extract_surname(dataset):\n",
    "    dataset[\"Surname\"] = dataset.Name.str.extract('(\\w+),', expand=False)\n",
    "    dataset[\"Surname\"] = dataset.Surname.str.lower()\n",
    "    dataset['Surname'] = dataset['Surname'].replace(',', '')\n",
    "    \n",
    "extract_surname(train_data)\n",
    "extract_surname(test_data)   "
   ]
  },
  {
   "cell_type": "code",
   "execution_count": 18,
   "metadata": {},
   "outputs": [],
   "source": [
    "import re\n",
    "pattern = r'\\d+'\n",
    "\n",
    "def ticket_info(dataset):\n",
    "    for index, row in dataset.iterrows():\n",
    "        ticket = row['Ticket']\n",
    "        matches = re.findall(pattern, ticket)\n",
    "        filtered = []\n",
    "        for match in matches:\n",
    "            if match:\n",
    "                match = match.replace(\".\",\"\").replace(\"/\",\"\").strip()\n",
    "                filtered.append(match)\n",
    "            else:\n",
    "                filtered.append('X')\n",
    "                \n",
    "        if len(filtered) == 0:\n",
    "            filtered.append('X')\n",
    "    \n",
    "        dataset.at[index,'Ticket'] = filtered[0]\n",
    "\n",
    "ticket_info(train_data)\n",
    "ticket_info(test_data)"
   ]
  },
  {
   "cell_type": "code",
   "execution_count": 19,
   "metadata": {},
   "outputs": [
    {
     "data": {
      "text/plain": [
       "Surname    Ticket\n",
       "sage       2343      11\n",
       "goodwin    2144       8\n",
       "asplund    347077     7\n",
       "andersson  347082     7\n",
       "rice       382652     6\n",
       "                     ..\n",
       "hagardon   3          1\n",
       "hagland    65303      1\n",
       "           65304      1\n",
       "hale       250653     1\n",
       "zimmerman  315082     1\n",
       "Length: 1020, dtype: int64"
      ]
     },
     "execution_count": 19,
     "metadata": {},
     "output_type": "execute_result"
    }
   ],
   "source": [
    "family_cols = [\"Surname\",\"Ticket\"]\n",
    "\n",
    "train_family = train_data[family_cols]\n",
    "test_family = test_data[family_cols]\n",
    "\n",
    "total_family = pd.concat([train_family,test_family])\n",
    "\n",
    "families = total_family.value_counts()\n",
    "\n",
    "families\n",
    "\n",
    "\n"
   ]
  },
  {
   "cell_type": "code",
   "execution_count": 20,
   "metadata": {},
   "outputs": [
    {
     "data": {
      "text/html": [
       "<div>\n",
       "<style scoped>\n",
       "    .dataframe tbody tr th:only-of-type {\n",
       "        vertical-align: middle;\n",
       "    }\n",
       "\n",
       "    .dataframe tbody tr th {\n",
       "        vertical-align: top;\n",
       "    }\n",
       "\n",
       "    .dataframe thead th {\n",
       "        text-align: right;\n",
       "    }\n",
       "</style>\n",
       "<table border=\"1\" class=\"dataframe\">\n",
       "  <thead>\n",
       "    <tr style=\"text-align: right;\">\n",
       "      <th></th>\n",
       "      <th></th>\n",
       "      <th>count</th>\n",
       "      <th>mean</th>\n",
       "    </tr>\n",
       "    <tr>\n",
       "      <th>Surname</th>\n",
       "      <th>Ticket</th>\n",
       "      <th></th>\n",
       "      <th></th>\n",
       "    </tr>\n",
       "  </thead>\n",
       "  <tbody>\n",
       "    <tr>\n",
       "      <th>abbing</th>\n",
       "      <th>5547</th>\n",
       "      <td>1</td>\n",
       "      <td>0.0</td>\n",
       "    </tr>\n",
       "    <tr>\n",
       "      <th>abbott</th>\n",
       "      <th>2673</th>\n",
       "      <td>2</td>\n",
       "      <td>0.5</td>\n",
       "    </tr>\n",
       "    <tr>\n",
       "      <th>abelson</th>\n",
       "      <th>3381</th>\n",
       "      <td>2</td>\n",
       "      <td>0.5</td>\n",
       "    </tr>\n",
       "    <tr>\n",
       "      <th>adahl</th>\n",
       "      <th>7076</th>\n",
       "      <td>1</td>\n",
       "      <td>0.0</td>\n",
       "    </tr>\n",
       "    <tr>\n",
       "      <th>adams</th>\n",
       "      <th>341826</th>\n",
       "      <td>1</td>\n",
       "      <td>0.0</td>\n",
       "    </tr>\n",
       "    <tr>\n",
       "      <th>...</th>\n",
       "      <th>...</th>\n",
       "      <td>...</td>\n",
       "      <td>...</td>\n",
       "    </tr>\n",
       "    <tr>\n",
       "      <th>yousif</th>\n",
       "      <th>2647</th>\n",
       "      <td>1</td>\n",
       "      <td>0.0</td>\n",
       "    </tr>\n",
       "    <tr>\n",
       "      <th>yousseff</th>\n",
       "      <th>2627</th>\n",
       "      <td>1</td>\n",
       "      <td>0.0</td>\n",
       "    </tr>\n",
       "    <tr>\n",
       "      <th>yrois</th>\n",
       "      <th>248747</th>\n",
       "      <td>1</td>\n",
       "      <td>0.0</td>\n",
       "    </tr>\n",
       "    <tr>\n",
       "      <th>zabour</th>\n",
       "      <th>2665</th>\n",
       "      <td>2</td>\n",
       "      <td>0.0</td>\n",
       "    </tr>\n",
       "    <tr>\n",
       "      <th>zimmerman</th>\n",
       "      <th>315082</th>\n",
       "      <td>1</td>\n",
       "      <td>0.0</td>\n",
       "    </tr>\n",
       "  </tbody>\n",
       "</table>\n",
       "<p>739 rows × 2 columns</p>\n",
       "</div>"
      ],
      "text/plain": [
       "                  count  mean\n",
       "Surname   Ticket             \n",
       "abbing    5547        1   0.0\n",
       "abbott    2673        2   0.5\n",
       "abelson   3381        2   0.5\n",
       "adahl     7076        1   0.0\n",
       "adams     341826      1   0.0\n",
       "...                 ...   ...\n",
       "yousif    2647        1   0.0\n",
       "yousseff  2627        1   0.0\n",
       "yrois     248747      1   0.0\n",
       "zabour    2665        2   0.0\n",
       "zimmerman 315082      1   0.0\n",
       "\n",
       "[739 rows x 2 columns]"
      ]
     },
     "execution_count": 20,
     "metadata": {},
     "output_type": "execute_result"
    }
   ],
   "source": [
    "surname_map = train_data.groupby(['Surname','Ticket'])['Survived'].agg(['count', 'mean'])\n",
    "surname_map"
   ]
  },
  {
   "cell_type": "code",
   "execution_count": 21,
   "metadata": {},
   "outputs": [],
   "source": [
    "#smooth mean\n",
    "m=3\n",
    "\n",
    "mean_survived = train_data['Survived'].mean()\n",
    "counts = surname_map['count']\n",
    "means = surname_map['mean']\n",
    "\n",
    "smooth = (counts * means + m * mean_survived) / (counts + m)\n",
    "\n",
    "\n",
    "def family_info(dataset):\n",
    "    for index, row in dataset.iterrows():\n",
    "        surname = row['Surname']\n",
    "        ticket = row['Ticket']\n",
    "        \n",
    "        try:\n",
    "            survived = smooth[surname,ticket]\n",
    "        except:\n",
    "            survived = mean_survived\n",
    "        \n",
    "        dataset.at[index,'FamilySurvived'] = survived\n",
    "        \n",
    "\n",
    "family_info(train_data) \n",
    "family_info(test_data) "
   ]
  },
  {
   "cell_type": "code",
   "execution_count": 22,
   "metadata": {},
   "outputs": [],
   "source": [
    "train_data = train_data.drop(['Name'], axis=1)\n",
    "test_data = test_data.drop(['Name'], axis=1)"
   ]
  },
  {
   "cell_type": "code",
   "execution_count": 23,
   "metadata": {},
   "outputs": [
    {
     "data": {
      "image/png": "[encoded data removed]",
      "text/plain": [
       "<Figure size 360x360 with 1 Axes>"
      ]
     },
     "metadata": {
      "needs_background": "light"
     },
     "output_type": "display_data"
    }
   ],
   "source": [
    "age_train_data = train_data.dropna(subset = [\"Age\"])\n",
    "age_test_data = test_data.dropna(subset = [\"Age\"])\n",
    "\n",
    "age_all_data = pd.concat([age_train_data, age_test_data])\n",
    "\n",
    "sns.catplot(x=\"TitleMap\", y=\"Age\", kind=\"box\", data=age_all_data);"
   ]
  },
  {
   "cell_type": "code",
   "execution_count": 24,
   "metadata": {},
   "outputs": [],
   "source": [
    "grouped_ages = age_all_data[['TitleMap','Pclass','Age']].groupby(['TitleMap','Pclass']).median()\n",
    "median_ages = age_all_data['Age'].median()\n",
    "\n",
    "def impute_age(dataset):\n",
    "    for index, row in dataset.iterrows():\n",
    "        title = row['TitleMap']\n",
    "        pclass = row['Pclass']\n",
    "        age = row['Age']\n",
    "        if pd.isna(age):\n",
    "            try:\n",
    "                age = grouped_ages[title,pclass]\n",
    "            except:\n",
    "                age = median_ages\n",
    "            \n",
    "            dataset.at[index,'Age'] = age\n",
    "\n",
    "\n",
    "train_data['AgeImputed'] = train_data['Age'].isnull().astype('int')\n",
    "test_data['AgeImputed'] = test_data['Age'].isnull().astype('int')\n",
    "\n",
    "impute_age(train_data)\n",
    "impute_age(test_data)\n"
   ]
  },
  {
   "cell_type": "code",
   "execution_count": 25,
   "metadata": {},
   "outputs": [],
   "source": [
    "def age_band(dataset,bins = 5):\n",
    "    labels = range(bins)\n",
    "    return pd.cut(dataset['Age'], bins=bins,labels=labels)"
   ]
  },
  {
   "cell_type": "code",
   "execution_count": 26,
   "metadata": {},
   "outputs": [],
   "source": [
    "train_data['AgeBand'] = age_band(train_data,6).astype('int')\n",
    "test_data['AgeBand'] = age_band(test_data,6).astype('int')"
   ]
  },
  {
   "cell_type": "code",
   "execution_count": 27,
   "metadata": {},
   "outputs": [],
   "source": [
    "train_data['FamilySize'] = train_data['SibSp'] + train_data['Parch'] + 1\n",
    "test_data['FamilySize'] = test_data['SibSp'] + test_data['Parch'] + 1"
   ]
  },
  {
   "cell_type": "code",
   "execution_count": 28,
   "metadata": {},
   "outputs": [],
   "source": [
    "train_data['IsAlone'] = (train_data['FamilySize'] == 1).astype('int')\n",
    "test_data['IsAlone'] = (test_data['FamilySize'] == 1).astype('int')"
   ]
  },
  {
   "cell_type": "code",
   "execution_count": 29,
   "metadata": {},
   "outputs": [
    {
     "data": {
      "text/html": [
       "<div>\n",
       "<style scoped>\n",
       "    .dataframe tbody tr th:only-of-type {\n",
       "        vertical-align: middle;\n",
       "    }\n",
       "\n",
       "    .dataframe tbody tr th {\n",
       "        vertical-align: top;\n",
       "    }\n",
       "\n",
       "    .dataframe thead th {\n",
       "        text-align: right;\n",
       "    }\n",
       "</style>\n",
       "<table border=\"1\" class=\"dataframe\">\n",
       "  <thead>\n",
       "    <tr style=\"text-align: right;\">\n",
       "      <th></th>\n",
       "      <th>Embarked</th>\n",
       "      <th>Survived</th>\n",
       "    </tr>\n",
       "  </thead>\n",
       "  <tbody>\n",
       "    <tr>\n",
       "      <th>0</th>\n",
       "      <td>C</td>\n",
       "      <td>0.553571</td>\n",
       "    </tr>\n",
       "    <tr>\n",
       "      <th>1</th>\n",
       "      <td>Q</td>\n",
       "      <td>0.389610</td>\n",
       "    </tr>\n",
       "    <tr>\n",
       "      <th>2</th>\n",
       "      <td>S</td>\n",
       "      <td>0.336957</td>\n",
       "    </tr>\n",
       "  </tbody>\n",
       "</table>\n",
       "</div>"
      ],
      "text/plain": [
       "  Embarked  Survived\n",
       "0        C  0.553571\n",
       "1        Q  0.389610\n",
       "2        S  0.336957"
      ]
     },
     "execution_count": 29,
     "metadata": {},
     "output_type": "execute_result"
    }
   ],
   "source": [
    "train_data[['Embarked', 'Survived']].groupby(['Embarked'], as_index=False).mean().sort_values(by='Survived', ascending=False)"
   ]
  },
  {
   "cell_type": "code",
   "execution_count": 30,
   "metadata": {},
   "outputs": [],
   "source": [
    "freq_port = train_data.Embarked.dropna().mode()[0]\n",
    "train_data['Embarked'] = train_data['Embarked'].fillna(freq_port)"
   ]
  },
  {
   "cell_type": "code",
   "execution_count": 31,
   "metadata": {},
   "outputs": [
    {
     "data": {
      "text/html": [
       "<div>\n",
       "<style scoped>\n",
       "    .dataframe tbody tr th:only-of-type {\n",
       "        vertical-align: middle;\n",
       "    }\n",
       "\n",
       "    .dataframe tbody tr th {\n",
       "        vertical-align: top;\n",
       "    }\n",
       "\n",
       "    .dataframe thead th {\n",
       "        text-align: right;\n",
       "    }\n",
       "</style>\n",
       "<table border=\"1\" class=\"dataframe\">\n",
       "  <thead>\n",
       "    <tr style=\"text-align: right;\">\n",
       "      <th></th>\n",
       "      <th>Pclass</th>\n",
       "      <th>Fare</th>\n",
       "    </tr>\n",
       "  </thead>\n",
       "  <tbody>\n",
       "    <tr>\n",
       "      <th>2</th>\n",
       "      <td>3</td>\n",
       "      <td>8.0500</td>\n",
       "    </tr>\n",
       "    <tr>\n",
       "      <th>1</th>\n",
       "      <td>2</td>\n",
       "      <td>14.2500</td>\n",
       "    </tr>\n",
       "    <tr>\n",
       "      <th>0</th>\n",
       "      <td>1</td>\n",
       "      <td>60.2875</td>\n",
       "    </tr>\n",
       "  </tbody>\n",
       "</table>\n",
       "</div>"
      ],
      "text/plain": [
       "   Pclass     Fare\n",
       "2       3   8.0500\n",
       "1       2  14.2500\n",
       "0       1  60.2875"
      ]
     },
     "execution_count": 31,
     "metadata": {},
     "output_type": "execute_result"
    }
   ],
   "source": [
    "train_data[['Pclass', 'Fare']].groupby(['Pclass'], as_index=False).median().sort_values(by='Pclass', ascending=False)"
   ]
  },
  {
   "cell_type": "code",
   "execution_count": 32,
   "metadata": {},
   "outputs": [],
   "source": [
    "fares = [60.2875,14.2500,8.0500]"
   ]
  },
  {
   "cell_type": "code",
   "execution_count": 33,
   "metadata": {},
   "outputs": [],
   "source": [
    "def impute_fares(dataset,fares):\n",
    "    for clazz in range(1, 4):\n",
    "        dataset.loc[(dataset.Fare.isnull()) & (dataset.Pclass == clazz),'Fare'] = fares[clazz-1]"
   ]
  },
  {
   "cell_type": "code",
   "execution_count": 34,
   "metadata": {},
   "outputs": [],
   "source": [
    "impute_fares(test_data,fares)"
   ]
  },
  {
   "cell_type": "code",
   "execution_count": 35,
   "metadata": {},
   "outputs": [],
   "source": [
    "def fare_band(dataset,bins = 5):\n",
    "    labels = range(bins)\n",
    "    return pd.cut(dataset['Fare'], bins=bins,labels=labels)\n",
    "\n",
    "train_data['FareBand'] = fare_band(train_data,6).astype('int')\n",
    "test_data['FareBand'] = fare_band(test_data,6).astype('int')"
   ]
  },
  {
   "cell_type": "code",
   "execution_count": 36,
   "metadata": {},
   "outputs": [],
   "source": [
    "def position_band(dataset):\n",
    "    labels = ['front','medium','rear']\n",
    "    return pd.cut(dataset['Position'], bins=3,labels=labels)\n",
    "\n",
    "\n",
    "train_data['Deck'] = train_data.Cabin.str.extract('([A-Za-z]+)', expand=False)\n",
    "test_data['Deck'] = test_data.Cabin.str.extract('([A-Za-z]+)', expand=False)\n",
    "\n",
    "\n",
    "train_data['Position'] = train_data.Cabin.str.extract('([0-9]+)', expand=False).apply(pd.to_numeric, errors='coerce')\n",
    "test_data['Position'] = test_data.Cabin.str.extract('([0-9]+)', expand=False).apply(pd.to_numeric, errors='coerce')\n",
    "\n",
    "train_data['Position'] = position_band(test_data)\n",
    "test_data['Position'] = position_band(test_data)\n",
    "\n",
    "train_data['HasCabin'] = train_data[\"Cabin\"].apply(lambda x: 0 if type(x) == float else 1)\n",
    "test_data['HasCabin'] = test_data[\"Cabin\"].apply(lambda x: 0 if type(x) == float else 1)\n"
   ]
  },
  {
   "cell_type": "code",
   "execution_count": 37,
   "metadata": {},
   "outputs": [],
   "source": [
    "train_data = train_data.drop(['Ticket', 'Cabin','Title','Surname'], axis=1)\n",
    "test_data = test_data.drop(['Ticket', 'Cabin','Title','Surname'], axis=1)"
   ]
  },
  {
   "cell_type": "code",
   "execution_count": 38,
   "metadata": {},
   "outputs": [],
   "source": [
    "train_data = pd.get_dummies(train_data)\n",
    "test_data =  pd.get_dummies(test_data)"
   ]
  },
  {
   "cell_type": "code",
   "execution_count": 39,
   "metadata": {},
   "outputs": [],
   "source": [
    "train_data['LogFare'] = np.log10(train_data['Fare'] + 1)\n",
    "test_data['LogFare'] = np.log10(test_data['Fare'] + 1)"
   ]
  },
  {
   "cell_type": "code",
   "execution_count": 40,
   "metadata": {},
   "outputs": [],
   "source": [
    "from sklearn.preprocessing import MinMaxScaler\n",
    "mms = MinMaxScaler()\n",
    "\n",
    "train_data['Age'] = mms.fit_transform(train_data[\"Age\"].values.reshape(-1, 1))\n",
    "test_data['Age'] = mms.transform(test_data[\"Age\"].values.reshape(-1, 1))"
   ]
  },
  {
   "cell_type": "code",
   "execution_count": 41,
   "metadata": {},
   "outputs": [],
   "source": [
    "train_data = train_data.drop(['Fare'], axis=1)\n",
    "test_data = test_data.drop(['Fare'], axis=1)"
   ]
  },
  {
   "cell_type": "code",
   "execution_count": 42,
   "metadata": {},
   "outputs": [
    {
     "data": {
      "text/html": [
       "<div>\n",
       "<style scoped>\n",
       "    .dataframe tbody tr th:only-of-type {\n",
       "        vertical-align: middle;\n",
       "    }\n",
       "\n",
       "    .dataframe tbody tr th {\n",
       "        vertical-align: top;\n",
       "    }\n",
       "\n",
       "    .dataframe thead th {\n",
       "        text-align: right;\n",
       "    }\n",
       "</style>\n",
       "<table border=\"1\" class=\"dataframe\">\n",
       "  <thead>\n",
       "    <tr style=\"text-align: right;\">\n",
       "      <th></th>\n",
       "      <th>Survived</th>\n",
       "      <th>Pclass</th>\n",
       "      <th>Sex</th>\n",
       "      <th>Age</th>\n",
       "      <th>SibSp</th>\n",
       "      <th>Parch</th>\n",
       "      <th>TitleMap</th>\n",
       "      <th>FamilySurvived</th>\n",
       "      <th>AgeImputed</th>\n",
       "      <th>AgeBand</th>\n",
       "      <th>...</th>\n",
       "      <th>Deck_C</th>\n",
       "      <th>Deck_D</th>\n",
       "      <th>Deck_E</th>\n",
       "      <th>Deck_F</th>\n",
       "      <th>Deck_G</th>\n",
       "      <th>Deck_T</th>\n",
       "      <th>Position_front</th>\n",
       "      <th>Position_medium</th>\n",
       "      <th>Position_rear</th>\n",
       "      <th>LogFare</th>\n",
       "    </tr>\n",
       "    <tr>\n",
       "      <th>PassengerId</th>\n",
       "      <th></th>\n",
       "      <th></th>\n",
       "      <th></th>\n",
       "      <th></th>\n",
       "      <th></th>\n",
       "      <th></th>\n",
       "      <th></th>\n",
       "      <th></th>\n",
       "      <th></th>\n",
       "      <th></th>\n",
       "      <th></th>\n",
       "      <th></th>\n",
       "      <th></th>\n",
       "      <th></th>\n",
       "      <th></th>\n",
       "      <th></th>\n",
       "      <th></th>\n",
       "      <th></th>\n",
       "      <th></th>\n",
       "      <th></th>\n",
       "      <th></th>\n",
       "    </tr>\n",
       "  </thead>\n",
       "  <tbody>\n",
       "    <tr>\n",
       "      <th>1</th>\n",
       "      <td>0</td>\n",
       "      <td>3</td>\n",
       "      <td>0</td>\n",
       "      <td>0.271174</td>\n",
       "      <td>1</td>\n",
       "      <td>0</td>\n",
       "      <td>2</td>\n",
       "      <td>0.287879</td>\n",
       "      <td>0</td>\n",
       "      <td>1</td>\n",
       "      <td>...</td>\n",
       "      <td>0</td>\n",
       "      <td>0</td>\n",
       "      <td>0</td>\n",
       "      <td>0</td>\n",
       "      <td>0</td>\n",
       "      <td>0</td>\n",
       "      <td>0</td>\n",
       "      <td>0</td>\n",
       "      <td>0</td>\n",
       "      <td>0.916454</td>\n",
       "    </tr>\n",
       "    <tr>\n",
       "      <th>2</th>\n",
       "      <td>1</td>\n",
       "      <td>1</td>\n",
       "      <td>1</td>\n",
       "      <td>0.472229</td>\n",
       "      <td>1</td>\n",
       "      <td>0</td>\n",
       "      <td>7</td>\n",
       "      <td>0.537879</td>\n",
       "      <td>0</td>\n",
       "      <td>2</td>\n",
       "      <td>...</td>\n",
       "      <td>1</td>\n",
       "      <td>0</td>\n",
       "      <td>0</td>\n",
       "      <td>0</td>\n",
       "      <td>0</td>\n",
       "      <td>0</td>\n",
       "      <td>0</td>\n",
       "      <td>0</td>\n",
       "      <td>0</td>\n",
       "      <td>1.859038</td>\n",
       "    </tr>\n",
       "    <tr>\n",
       "      <th>3</th>\n",
       "      <td>1</td>\n",
       "      <td>3</td>\n",
       "      <td>1</td>\n",
       "      <td>0.321438</td>\n",
       "      <td>0</td>\n",
       "      <td>0</td>\n",
       "      <td>6</td>\n",
       "      <td>0.537879</td>\n",
       "      <td>0</td>\n",
       "      <td>1</td>\n",
       "      <td>...</td>\n",
       "      <td>0</td>\n",
       "      <td>0</td>\n",
       "      <td>0</td>\n",
       "      <td>0</td>\n",
       "      <td>0</td>\n",
       "      <td>0</td>\n",
       "      <td>0</td>\n",
       "      <td>0</td>\n",
       "      <td>0</td>\n",
       "      <td>0.950608</td>\n",
       "    </tr>\n",
       "    <tr>\n",
       "      <th>4</th>\n",
       "      <td>1</td>\n",
       "      <td>1</td>\n",
       "      <td>1</td>\n",
       "      <td>0.434531</td>\n",
       "      <td>1</td>\n",
       "      <td>0</td>\n",
       "      <td>7</td>\n",
       "      <td>0.430303</td>\n",
       "      <td>0</td>\n",
       "      <td>2</td>\n",
       "      <td>...</td>\n",
       "      <td>1</td>\n",
       "      <td>0</td>\n",
       "      <td>0</td>\n",
       "      <td>0</td>\n",
       "      <td>0</td>\n",
       "      <td>0</td>\n",
       "      <td>0</td>\n",
       "      <td>0</td>\n",
       "      <td>0</td>\n",
       "      <td>1.733197</td>\n",
       "    </tr>\n",
       "    <tr>\n",
       "      <th>5</th>\n",
       "      <td>0</td>\n",
       "      <td>3</td>\n",
       "      <td>0</td>\n",
       "      <td>0.434531</td>\n",
       "      <td>0</td>\n",
       "      <td>0</td>\n",
       "      <td>2</td>\n",
       "      <td>0.287879</td>\n",
       "      <td>0</td>\n",
       "      <td>2</td>\n",
       "      <td>...</td>\n",
       "      <td>0</td>\n",
       "      <td>0</td>\n",
       "      <td>0</td>\n",
       "      <td>0</td>\n",
       "      <td>0</td>\n",
       "      <td>0</td>\n",
       "      <td>0</td>\n",
       "      <td>0</td>\n",
       "      <td>0</td>\n",
       "      <td>0.956649</td>\n",
       "    </tr>\n",
       "    <tr>\n",
       "      <th>...</th>\n",
       "      <td>...</td>\n",
       "      <td>...</td>\n",
       "      <td>...</td>\n",
       "      <td>...</td>\n",
       "      <td>...</td>\n",
       "      <td>...</td>\n",
       "      <td>...</td>\n",
       "      <td>...</td>\n",
       "      <td>...</td>\n",
       "      <td>...</td>\n",
       "      <td>...</td>\n",
       "      <td>...</td>\n",
       "      <td>...</td>\n",
       "      <td>...</td>\n",
       "      <td>...</td>\n",
       "      <td>...</td>\n",
       "      <td>...</td>\n",
       "      <td>...</td>\n",
       "      <td>...</td>\n",
       "      <td>...</td>\n",
       "      <td>...</td>\n",
       "    </tr>\n",
       "    <tr>\n",
       "      <th>887</th>\n",
       "      <td>0</td>\n",
       "      <td>2</td>\n",
       "      <td>0</td>\n",
       "      <td>0.334004</td>\n",
       "      <td>0</td>\n",
       "      <td>0</td>\n",
       "      <td>1</td>\n",
       "      <td>0.287879</td>\n",
       "      <td>0</td>\n",
       "      <td>2</td>\n",
       "      <td>...</td>\n",
       "      <td>0</td>\n",
       "      <td>0</td>\n",
       "      <td>0</td>\n",
       "      <td>0</td>\n",
       "      <td>0</td>\n",
       "      <td>0</td>\n",
       "      <td>0</td>\n",
       "      <td>0</td>\n",
       "      <td>0</td>\n",
       "      <td>1.146128</td>\n",
       "    </tr>\n",
       "    <tr>\n",
       "      <th>888</th>\n",
       "      <td>1</td>\n",
       "      <td>1</td>\n",
       "      <td>1</td>\n",
       "      <td>0.233476</td>\n",
       "      <td>0</td>\n",
       "      <td>0</td>\n",
       "      <td>6</td>\n",
       "      <td>0.537879</td>\n",
       "      <td>0</td>\n",
       "      <td>1</td>\n",
       "      <td>...</td>\n",
       "      <td>0</td>\n",
       "      <td>0</td>\n",
       "      <td>0</td>\n",
       "      <td>0</td>\n",
       "      <td>0</td>\n",
       "      <td>0</td>\n",
       "      <td>0</td>\n",
       "      <td>0</td>\n",
       "      <td>0</td>\n",
       "      <td>1.491362</td>\n",
       "    </tr>\n",
       "    <tr>\n",
       "      <th>889</th>\n",
       "      <td>0</td>\n",
       "      <td>3</td>\n",
       "      <td>1</td>\n",
       "      <td>0.346569</td>\n",
       "      <td>1</td>\n",
       "      <td>2</td>\n",
       "      <td>6</td>\n",
       "      <td>0.230303</td>\n",
       "      <td>1</td>\n",
       "      <td>2</td>\n",
       "      <td>...</td>\n",
       "      <td>0</td>\n",
       "      <td>0</td>\n",
       "      <td>0</td>\n",
       "      <td>0</td>\n",
       "      <td>0</td>\n",
       "      <td>0</td>\n",
       "      <td>0</td>\n",
       "      <td>0</td>\n",
       "      <td>0</td>\n",
       "      <td>1.388279</td>\n",
       "    </tr>\n",
       "    <tr>\n",
       "      <th>890</th>\n",
       "      <td>1</td>\n",
       "      <td>1</td>\n",
       "      <td>0</td>\n",
       "      <td>0.321438</td>\n",
       "      <td>0</td>\n",
       "      <td>0</td>\n",
       "      <td>2</td>\n",
       "      <td>0.537879</td>\n",
       "      <td>0</td>\n",
       "      <td>1</td>\n",
       "      <td>...</td>\n",
       "      <td>1</td>\n",
       "      <td>0</td>\n",
       "      <td>0</td>\n",
       "      <td>0</td>\n",
       "      <td>0</td>\n",
       "      <td>0</td>\n",
       "      <td>0</td>\n",
       "      <td>0</td>\n",
       "      <td>0</td>\n",
       "      <td>1.491362</td>\n",
       "    </tr>\n",
       "    <tr>\n",
       "      <th>891</th>\n",
       "      <td>0</td>\n",
       "      <td>3</td>\n",
       "      <td>0</td>\n",
       "      <td>0.396833</td>\n",
       "      <td>0</td>\n",
       "      <td>0</td>\n",
       "      <td>2</td>\n",
       "      <td>0.287879</td>\n",
       "      <td>0</td>\n",
       "      <td>2</td>\n",
       "      <td>...</td>\n",
       "      <td>0</td>\n",
       "      <td>0</td>\n",
       "      <td>0</td>\n",
       "      <td>0</td>\n",
       "      <td>0</td>\n",
       "      <td>0</td>\n",
       "      <td>0</td>\n",
       "      <td>0</td>\n",
       "      <td>0</td>\n",
       "      <td>0.942008</td>\n",
       "    </tr>\n",
       "  </tbody>\n",
       "</table>\n",
       "<p>891 rows × 29 columns</p>\n",
       "</div>"
      ],
      "text/plain": [
       "             Survived  Pclass  Sex       Age  SibSp  Parch  TitleMap  \\\n",
       "PassengerId                                                            \n",
       "1                   0       3    0  0.271174      1      0         2   \n",
       "2                   1       1    1  0.472229      1      0         7   \n",
       "3                   1       3    1  0.321438      0      0         6   \n",
       "4                   1       1    1  0.434531      1      0         7   \n",
       "5                   0       3    0  0.434531      0      0         2   \n",
       "...               ...     ...  ...       ...    ...    ...       ...   \n",
       "887                 0       2    0  0.334004      0      0         1   \n",
       "888                 1       1    1  0.233476      0      0         6   \n",
       "889                 0       3    1  0.346569      1      2         6   \n",
       "890                 1       1    0  0.321438      0      0         2   \n",
       "891                 0       3    0  0.396833      0      0         2   \n",
       "\n",
       "             FamilySurvived  AgeImputed  AgeBand  ...  Deck_C  Deck_D  Deck_E  \\\n",
       "PassengerId                                       ...                           \n",
       "1                  0.287879           0        1  ...       0       0       0   \n",
       "2                  0.537879           0        2  ...       1       0       0   \n",
       "3                  0.537879           0        1  ...       0       0       0   \n",
       "4                  0.430303           0        2  ...       1       0       0   \n",
       "5                  0.287879           0        2  ...       0       0       0   \n",
       "...                     ...         ...      ...  ...     ...     ...     ...   \n",
       "887                0.287879           0        2  ...       0       0       0   \n",
       "888                0.537879           0        1  ...       0       0       0   \n",
       "889                0.230303           1        2  ...       0       0       0   \n",
       "890                0.537879           0        1  ...       1       0       0   \n",
       "891                0.287879           0        2  ...       0       0       0   \n",
       "\n",
       "             Deck_F  Deck_G  Deck_T  Position_front  Position_medium  \\\n",
       "PassengerId                                                            \n",
       "1                 0       0       0               0                0   \n",
       "2                 0       0       0               0                0   \n",
       "3                 0       0       0               0                0   \n",
       "4                 0       0       0               0                0   \n",
       "5                 0       0       0               0                0   \n",
       "...             ...     ...     ...             ...              ...   \n",
       "887               0       0       0               0                0   \n",
       "888               0       0       0               0                0   \n",
       "889               0       0       0               0                0   \n",
       "890               0       0       0               0                0   \n",
       "891               0       0       0               0                0   \n",
       "\n",
       "             Position_rear   LogFare  \n",
       "PassengerId                           \n",
       "1                        0  0.916454  \n",
       "2                        0  1.859038  \n",
       "3                        0  0.950608  \n",
       "4                        0  1.733197  \n",
       "5                        0  0.956649  \n",
       "...                    ...       ...  \n",
       "887                      0  1.146128  \n",
       "888                      0  1.491362  \n",
       "889                      0  1.388279  \n",
       "890                      0  1.491362  \n",
       "891                      0  0.942008  \n",
       "\n",
       "[891 rows x 29 columns]"
      ]
     },
     "execution_count": 42,
     "metadata": {},
     "output_type": "execute_result"
    }
   ],
   "source": [
    "train_data"
   ]
  },
  {
   "cell_type": "code",
   "execution_count": 43,
   "metadata": {},
   "outputs": [],
   "source": [
    "X_train = train_data.copy()\n",
    "y_train = X_train.pop('Survived')\n",
    "\n",
    "X_test = test_data.copy()"
   ]
  },
  {
   "cell_type": "code",
   "execution_count": 44,
   "metadata": {},
   "outputs": [
    {
     "name": "stdout",
     "output_type": "stream",
     "text": [
      " 1 FamilySurvived                 0.57\n",
      " 2 TitleMap                       0.12\n",
      " 3 Sex                            0.09\n",
      " 4 LogFare                        0.05\n",
      " 5 Age                            0.03\n",
      " 6 Pclass                         0.03\n",
      " 7 FamilySize                     0.02\n",
      " 8 HasCabin                       0.02\n",
      " 9 SibSp                          0.01\n",
      "10 AgeBand                        0.01\n"
     ]
    }
   ],
   "source": [
    "from sklearn.ensemble import RandomForestClassifier\n",
    "\n",
    "treshold = 0.01\n",
    "\n",
    "\n",
    "forest = RandomForestClassifier(n_estimators = 500)\n",
    "forest.fit(X_train,y_train)\n",
    "\n",
    "importances = forest.feature_importances_\n",
    "indexes = np.argsort(importances)[::-1]\n",
    "\n",
    "columns = []\n",
    "\n",
    "\n",
    "for i,f in enumerate(indexes):\n",
    "    importance = importances[f]\n",
    "    if importance >= treshold:\n",
    "        column = X_train.columns[f]\n",
    "        columns.append(column)\n",
    "        print(\"{0:2} {1:30} {2:.2f}\".format(i+1,column,importances[f]))\n",
    "        "
   ]
  },
  {
   "cell_type": "code",
   "execution_count": 46,
   "metadata": {},
   "outputs": [],
   "source": [
    "X_train = X_train[columns]\n",
    "X_test = X_test[columns]"
   ]
  },
  {
   "cell_type": "code",
   "execution_count": 72,
   "metadata": {},
   "outputs": [
    {
     "name": "stdout",
     "output_type": "stream",
     "text": [
      "L'accuratezza del modello è 98.09%\n",
      "{'C': 5.0, 'kernel': 'linear'}\n"
     ]
    }
   ],
   "source": [
    "from sklearn.model_selection import GridSearchCV\n",
    "from sklearn.svm import SVC\n",
    "\n",
    "\n",
    "param_range = [0.0001, 0.001, 0.01, 0.1, 1.0, 10.0]\n",
    "\n",
    "param_grid = [{'C': param_range, \n",
    "               'kernel': ['linear']},\n",
    "              {'C': param_range, \n",
    "               'gamma': param_range, \n",
    "               'kernel': ['rbf']}]\n",
    "\n",
    "model = SVC()\n",
    "\n",
    "gs = GridSearchCV(estimator=model, \n",
    "                  param_grid=param_grid, \n",
    "                  scoring='accuracy', \n",
    "                  refit=True,\n",
    "                  cv=10,\n",
    "                  n_jobs=-1)\n",
    "\n",
    "gs = gs.fit(X_train, y_train)\n",
    "\n",
    "print(\"L'accuratezza del modello è {0:.2f}%\".format(gs.best_score_ * 100))\n",
    "print(gs.best_params_)"
   ]
  },
  {
   "cell_type": "code",
   "execution_count": 73,
   "metadata": {},
   "outputs": [],
   "source": [
    "predictions = gs.predict(X_test)"
   ]
  },
  {
   "cell_type": "code",
   "execution_count": 74,
   "metadata": {},
   "outputs": [
    {
     "name": "stdout",
     "output_type": "stream",
     "text": [
      "Your submission was successfully saved!\n"
     ]
    }
   ],
   "source": [
    "#test_data = test_data.reset_index()\n",
    "output = pd.DataFrame({'PassengerId': test_data.PassengerId, 'Survived': predictions})\n",
    "output.to_csv('my_submission.csv', index=False)\n",
    "print(\"Your submission was successfully saved!\")"
   ]
  },
  {
   "cell_type": "markdown",
   "metadata": {},
   "source": [
    "Submission 0.79"
   ]
  }
 ],
 "metadata": {
  "kernelspec": {
   "display_name": "Python 3",
   "language": "python",
   "name": "python3"
  },
  "language_info": {
   "codemirror_mode": {
    "name": "ipython",
    "version": 3
   },
   "file_extension": ".py",
   "mimetype": "text/x-python",
   "name": "python",
   "nbconvert_exporter": "python",
   "pygments_lexer": "ipython3",
   "version": "3.8.8"
  }
 },
 "nbformat": 4,
 "nbformat_minor": 4
}
