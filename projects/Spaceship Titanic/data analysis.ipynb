{
 "cells": [
  {
   "cell_type": "markdown",
   "id": "5b30f540",
   "metadata": {},
   "source": [
    "* PassengerId - A unique Id for each passenger. Each Id takes the form gggg_pp where gggg indicates a group the passenger is travelling with and pp is their number within the group. People in a group are often family members, but not always.\n",
    "\n",
    "* HomePlanet - The planet the passenger departed from, typically their planet of permanent residence.\n",
    "\n",
    "* CryoSleep - Indicates whether the passenger elected to be put into suspended animation for the duration of the voyage. Passengers in cryosleep are confined to their cabins.\n",
    "\n",
    "* Cabin - The cabin number where the passenger is staying. Takes the form deck/num/side, where side can be either P for Port or S for Starboard.\n",
    "\n",
    "* Destination - The planet the passenger will be debarking to.\n",
    "\n",
    "* Age - The age of the passenger.\n",
    "\n",
    "* VIP - Whether the passenger has paid for special VIP service during the voyage.\n",
    "\n",
    "* RoomService, FoodCourt, ShoppingMall, Spa, VRDeck - Amount the passenger has billed at each of the Spaceship Titanic's many luxury amenities.\n",
    "\n",
    "* Name - The first and last names of the passenger.\n",
    "\n",
    "* Transported - Whether the passenger was transported to another dimension. This is the target, the column you are trying to predict."
   ]
  },
  {
   "cell_type": "code",
   "execution_count": 1,
   "id": "0a228557",
   "metadata": {},
   "outputs": [
    {
     "name": "stdout",
     "output_type": "stream",
     "text": [
      "./data\\sample_submission.csv\n",
      "./data\\test.csv\n",
      "./data\\train.csv\n"
     ]
    }
   ],
   "source": [
    "import numpy as np\n",
    "import pandas as pd\n",
    "\n",
    "import os\n",
    "for dirname, _, filenames in os.walk('./data'):\n",
    "    for filename in filenames:\n",
    "        print(os.path.join(dirname, filename))"
   ]
  },
  {
   "cell_type": "code",
   "execution_count": 2,
   "id": "5be06c57",
   "metadata": {},
   "outputs": [],
   "source": [
    "train_data = pd.read_csv(\".\\\\data\\\\train.csv\")\n",
    "test_data = pd.read_csv(\".\\\\data\\\\test.csv\")"
   ]
  },
  {
   "cell_type": "code",
   "execution_count": 3,
   "id": "3fba23c1",
   "metadata": {},
   "outputs": [
    {
     "data": {
      "text/html": [
       "<div>\n",
       "<style scoped>\n",
       "    .dataframe tbody tr th:only-of-type {\n",
       "        vertical-align: middle;\n",
       "    }\n",
       "\n",
       "    .dataframe tbody tr th {\n",
       "        vertical-align: top;\n",
       "    }\n",
       "\n",
       "    .dataframe thead th {\n",
       "        text-align: right;\n",
       "    }\n",
       "</style>\n",
       "<table border=\"1\" class=\"dataframe\">\n",
       "  <thead>\n",
       "    <tr style=\"text-align: right;\">\n",
       "      <th></th>\n",
       "      <th>PassengerId</th>\n",
       "      <th>HomePlanet</th>\n",
       "      <th>CryoSleep</th>\n",
       "      <th>Cabin</th>\n",
       "      <th>Destination</th>\n",
       "      <th>Age</th>\n",
       "      <th>VIP</th>\n",
       "      <th>RoomService</th>\n",
       "      <th>FoodCourt</th>\n",
       "      <th>ShoppingMall</th>\n",
       "      <th>Spa</th>\n",
       "      <th>VRDeck</th>\n",
       "      <th>Name</th>\n",
       "      <th>Transported</th>\n",
       "    </tr>\n",
       "  </thead>\n",
       "  <tbody>\n",
       "    <tr>\n",
       "      <th>0</th>\n",
       "      <td>0001_01</td>\n",
       "      <td>Europa</td>\n",
       "      <td>False</td>\n",
       "      <td>B/0/P</td>\n",
       "      <td>TRAPPIST-1e</td>\n",
       "      <td>39.0</td>\n",
       "      <td>False</td>\n",
       "      <td>0.0</td>\n",
       "      <td>0.0</td>\n",
       "      <td>0.0</td>\n",
       "      <td>0.0</td>\n",
       "      <td>0.0</td>\n",
       "      <td>Maham Ofracculy</td>\n",
       "      <td>False</td>\n",
       "    </tr>\n",
       "    <tr>\n",
       "      <th>1</th>\n",
       "      <td>0002_01</td>\n",
       "      <td>Earth</td>\n",
       "      <td>False</td>\n",
       "      <td>F/0/S</td>\n",
       "      <td>TRAPPIST-1e</td>\n",
       "      <td>24.0</td>\n",
       "      <td>False</td>\n",
       "      <td>109.0</td>\n",
       "      <td>9.0</td>\n",
       "      <td>25.0</td>\n",
       "      <td>549.0</td>\n",
       "      <td>44.0</td>\n",
       "      <td>Juanna Vines</td>\n",
       "      <td>True</td>\n",
       "    </tr>\n",
       "    <tr>\n",
       "      <th>2</th>\n",
       "      <td>0003_01</td>\n",
       "      <td>Europa</td>\n",
       "      <td>False</td>\n",
       "      <td>A/0/S</td>\n",
       "      <td>TRAPPIST-1e</td>\n",
       "      <td>58.0</td>\n",
       "      <td>True</td>\n",
       "      <td>43.0</td>\n",
       "      <td>3576.0</td>\n",
       "      <td>0.0</td>\n",
       "      <td>6715.0</td>\n",
       "      <td>49.0</td>\n",
       "      <td>Altark Susent</td>\n",
       "      <td>False</td>\n",
       "    </tr>\n",
       "    <tr>\n",
       "      <th>3</th>\n",
       "      <td>0003_02</td>\n",
       "      <td>Europa</td>\n",
       "      <td>False</td>\n",
       "      <td>A/0/S</td>\n",
       "      <td>TRAPPIST-1e</td>\n",
       "      <td>33.0</td>\n",
       "      <td>False</td>\n",
       "      <td>0.0</td>\n",
       "      <td>1283.0</td>\n",
       "      <td>371.0</td>\n",
       "      <td>3329.0</td>\n",
       "      <td>193.0</td>\n",
       "      <td>Solam Susent</td>\n",
       "      <td>False</td>\n",
       "    </tr>\n",
       "    <tr>\n",
       "      <th>4</th>\n",
       "      <td>0004_01</td>\n",
       "      <td>Earth</td>\n",
       "      <td>False</td>\n",
       "      <td>F/1/S</td>\n",
       "      <td>TRAPPIST-1e</td>\n",
       "      <td>16.0</td>\n",
       "      <td>False</td>\n",
       "      <td>303.0</td>\n",
       "      <td>70.0</td>\n",
       "      <td>151.0</td>\n",
       "      <td>565.0</td>\n",
       "      <td>2.0</td>\n",
       "      <td>Willy Santantines</td>\n",
       "      <td>True</td>\n",
       "    </tr>\n",
       "  </tbody>\n",
       "</table>\n",
       "</div>"
      ],
      "text/plain": [
       "  PassengerId HomePlanet CryoSleep  Cabin  Destination   Age    VIP  \\\n",
       "0     0001_01     Europa     False  B/0/P  TRAPPIST-1e  39.0  False   \n",
       "1     0002_01      Earth     False  F/0/S  TRAPPIST-1e  24.0  False   \n",
       "2     0003_01     Europa     False  A/0/S  TRAPPIST-1e  58.0   True   \n",
       "3     0003_02     Europa     False  A/0/S  TRAPPIST-1e  33.0  False   \n",
       "4     0004_01      Earth     False  F/1/S  TRAPPIST-1e  16.0  False   \n",
       "\n",
       "   RoomService  FoodCourt  ShoppingMall     Spa  VRDeck               Name  \\\n",
       "0          0.0        0.0           0.0     0.0     0.0    Maham Ofracculy   \n",
       "1        109.0        9.0          25.0   549.0    44.0       Juanna Vines   \n",
       "2         43.0     3576.0           0.0  6715.0    49.0      Altark Susent   \n",
       "3          0.0     1283.0         371.0  3329.0   193.0       Solam Susent   \n",
       "4        303.0       70.0         151.0   565.0     2.0  Willy Santantines   \n",
       "\n",
       "   Transported  \n",
       "0        False  \n",
       "1         True  \n",
       "2        False  \n",
       "3        False  \n",
       "4         True  "
      ]
     },
     "execution_count": 3,
     "metadata": {},
     "output_type": "execute_result"
    }
   ],
   "source": [
    "train_data.head()"
   ]
  },
  {
   "cell_type": "code",
   "execution_count": 4,
   "id": "0dc18d2d",
   "metadata": {},
   "outputs": [],
   "source": [
    "def split_index(df):\n",
    "    subset = df['PassengerId'].str.split('_', expand=True)\n",
    "    subset.rename(columns={0: \"Group\", 1: \"Prog\"},inplace=True)\n",
    "    return pd.concat([df, subset], axis = 1)\n",
    "\n",
    "train_data = split_index(train_data)\n",
    "test_data = split_index(test_data)\n",
    "\n",
    "#train_data.columns"
   ]
  },
  {
   "cell_type": "code",
   "execution_count": 5,
   "id": "aa4def2b",
   "metadata": {},
   "outputs": [
    {
     "name": "stdout",
     "output_type": "stream",
     "text": [
      "HomePlanet 8492 201 97.69%\n",
      "CryoSleep 8476 217 97.50%\n",
      "Cabin 8494 199 97.71%\n",
      "Destination 8511 182 97.91%\n",
      "Age 8514 179 97.94%\n",
      "VIP 8490 203 97.66%\n",
      "RoomService 8512 181 97.92%\n",
      "FoodCourt 8510 183 97.89%\n",
      "ShoppingMall 8485 208 97.61%\n",
      "Spa 8510 183 97.89%\n",
      "VRDeck 8505 188 97.84%\n",
      "Name 8493 200 97.70%\n"
     ]
    }
   ],
   "source": [
    "features = ['HomePlanet', 'CryoSleep', 'Cabin', 'Destination', 'Age','VIP', 'RoomService', 'FoodCourt', 'ShoppingMall', 'Spa', 'VRDeck','Name']\n",
    "\n",
    "def print_null_values(dataset,features):\n",
    "    row, column = dataset.shape \n",
    "    for feature in features:\n",
    "        values = dataset[feature].count()\n",
    "        missing_values = dataset[feature].isnull().sum()\n",
    "        nan_values = dataset[feature].isna().sum()\n",
    "        perc = (values / row) * 100\n",
    "        print(\"{0} {1} {2} {3:.2f}%\".format(feature,values,missing_values,perc))\n",
    "    \n",
    "print_null_values(train_data,features)"
   ]
  },
  {
   "cell_type": "code",
   "execution_count": 6,
   "id": "0d2ea286",
   "metadata": {},
   "outputs": [
    {
     "name": "stdout",
     "output_type": "stream",
     "text": [
      "HomePlanet 4190 87 97.97%\n",
      "CryoSleep 4184 93 97.83%\n",
      "Cabin 4177 100 97.66%\n",
      "Destination 4185 92 97.85%\n",
      "Age 4186 91 97.87%\n",
      "VIP 4184 93 97.83%\n",
      "RoomService 4195 82 98.08%\n",
      "FoodCourt 4171 106 97.52%\n",
      "ShoppingMall 4179 98 97.71%\n",
      "Spa 4176 101 97.64%\n",
      "VRDeck 4197 80 98.13%\n",
      "Name 4183 94 97.80%\n"
     ]
    }
   ],
   "source": [
    "print_null_values(test_data,features)"
   ]
  },
  {
   "cell_type": "code",
   "execution_count": 7,
   "id": "2d89b4e3",
   "metadata": {},
   "outputs": [],
   "source": [
    "def split_deck(df):\n",
    "    subset = df['Cabin'].str.split('/', expand=True)\n",
    "    subset.rename(columns={0: \"Deck\", 1: \"Num\",2:\"Side\"},inplace=True)\n",
    "    return pd.concat([df, subset], axis = 1)\n",
    "\n",
    "train_data = split_deck(train_data)\n",
    "test_data = split_deck(test_data)"
   ]
  },
  {
   "cell_type": "code",
   "execution_count": 8,
   "id": "44e5ff84",
   "metadata": {},
   "outputs": [],
   "source": [
    "test_data_index = test_data['PassengerId']"
   ]
  },
  {
   "cell_type": "code",
   "execution_count": 9,
   "id": "e4d43719",
   "metadata": {},
   "outputs": [],
   "source": [
    "def split_name(df):\n",
    "    subset = df['Name'].str.split(' ', expand=True)\n",
    "    subset.rename(columns={0: \"First name\", 1: \"Last name\"},inplace=True)\n",
    "    return pd.concat([df, subset], axis = 1)\n",
    "\n",
    "\n",
    "train_data = split_name(train_data)\n",
    "test_data = split_name(test_data)"
   ]
  },
  {
   "cell_type": "code",
   "execution_count": 10,
   "id": "d674b306",
   "metadata": {},
   "outputs": [],
   "source": [
    "train_data = train_data.drop(['Cabin','Name'], axis=1)\n",
    "test_data = test_data.drop(['Cabin', 'Name'], axis=1)\n",
    "y_train = train_data.pop('Transported')"
   ]
  },
  {
   "cell_type": "code",
   "execution_count": 11,
   "id": "78706a31",
   "metadata": {},
   "outputs": [],
   "source": [
    "all_data = pd.concat([train_data, test_data], axis = 0)"
   ]
  },
  {
   "cell_type": "code",
   "execution_count": 12,
   "id": "dc323de6",
   "metadata": {},
   "outputs": [],
   "source": [
    "all_data_cryo = all_data.dropna(subset=['CryoSleep']).copy()\n",
    "all_data_cryo[\"VIP\"].fillna(False,inplace=True)\n",
    "all_data_cryo[\"VIP\"] = all_data_cryo[\"VIP\"].astype(int)\n",
    "all_data_cryo[\"CryoSleep\"] = all_data_cryo[\"CryoSleep\"].astype(int)\n",
    "all_data_cryo[\"Total Expenses\"] = all_data_cryo[\"RoomService\"].fillna(0) + all_data_cryo[\"FoodCourt\"].fillna(0) + all_data_cryo[\"ShoppingMall\"].fillna(0) + all_data_cryo[\"Spa\"].fillna(0) + all_data_cryo[\"VRDeck\"].fillna(0)\n",
    "cols = [\"CryoSleep\",\"VIP\",\"HomePlanet\",\"Destination\",\"Age\",\"Total Expenses\",\"Deck\",\"Side\"]\n",
    "test_corr = all_data_cryo[cols]\n",
    "test_corr =  pd.get_dummies(test_corr)\n"
   ]
  },
  {
   "cell_type": "code",
   "execution_count": 13,
   "id": "0b167561",
   "metadata": {},
   "outputs": [
    {
     "data": {
      "text/plain": [
       "<AxesSubplot:>"
      ]
     },
     "execution_count": 13,
     "metadata": {},
     "output_type": "execute_result"
    },
    {
     "data": {
      "image/png": "[encoded data removed]",
      "text/plain": [
       "<Figure size 864x864 with 2 Axes>"
      ]
     },
     "metadata": {
      "needs_background": "light"
     },
     "output_type": "display_data"
    }
   ],
   "source": [
    "%matplotlib inline\n",
    "import matplotlib.pyplot as plt\n",
    "import seaborn as sns\n",
    "\n",
    "corr = test_corr.corr()\n",
    "mask = np.triu(np.ones_like(corr, dtype=bool))\n",
    "\n",
    "f, ax = plt.subplots(figsize=(12,12))\n",
    "sns.heatmap(corr, mask=mask,square=True, linewidths=.5, cbar_kws={\"shrink\": .5})"
   ]
  },
  {
   "cell_type": "code",
   "execution_count": 14,
   "id": "a9daca15",
   "metadata": {},
   "outputs": [
    {
     "data": {
      "text/plain": [
       "<AxesSubplot:xlabel='Log Total Expenses', ylabel='Count'>"
      ]
     },
     "execution_count": 14,
     "metadata": {},
     "output_type": "execute_result"
    },
    {
     "data": {
      "image/png": "[encoded data removed]",
      "text/plain": [
       "<Figure size 432x288 with 1 Axes>"
      ]
     },
     "metadata": {
      "needs_background": "light"
     },
     "output_type": "display_data"
    }
   ],
   "source": [
    "all_data_cryo[\"Log Total Expenses\"] = np.log10(all_data_cryo[\"Total Expenses\"] + 1.0)\n",
    "all_data_cryo.reset_index(inplace=True)\n",
    "\n",
    "sns.histplot(data=all_data_cryo,hue='CryoSleep',x='Log Total Expenses')"
   ]
  },
  {
   "cell_type": "code",
   "execution_count": 15,
   "id": "98e65d93",
   "metadata": {},
   "outputs": [
    {
     "name": "stdout",
     "output_type": "stream",
     "text": [
      "CryoSleep accuracy 0.94\n"
     ]
    }
   ],
   "source": [
    "test_cryo = all_data_cryo[\"Log Total Expenses\"] < 1\n",
    "test_cryo = test_cryo.astype(int)\n",
    "\n",
    "print(\"CryoSleep accuracy {0:.2f}\".format((all_data_cryo[\"CryoSleep\"] == test_cryo).mean()))"
   ]
  },
  {
   "cell_type": "code",
   "execution_count": 16,
   "id": "79a9a41a",
   "metadata": {},
   "outputs": [],
   "source": [
    "all_data_cryo[\"VIP\"].fillna(False,inplace=True)\n",
    "def calclog_total_expenses(df):\n",
    "    df[\"Total Expenses\"] = df[\"RoomService\"].fillna(0) + df[\"FoodCourt\"].fillna(0) + df[\"ShoppingMall\"].fillna(0) + df[\"Spa\"].fillna(0) + df[\"VRDeck\"].fillna(0)\n",
    "    df[\"Log Total Expenses\"] = np.log10(df[\"Total Expenses\"] + 1.0)\n",
    "    return df\n",
    "\n",
    "train_data = calclog_total_expenses(train_data)\n",
    "test_data = calclog_total_expenses(test_data)"
   ]
  },
  {
   "cell_type": "code",
   "execution_count": 17,
   "id": "6c43b42a",
   "metadata": {},
   "outputs": [],
   "source": [
    "train_data[\"CryoSleepCalc\"] = train_data[\"Log Total Expenses\"] < 1\n",
    "train_data[\"CryoSleep\"].fillna(train_data[\"CryoSleepCalc\"], inplace=True)\n",
    "\n",
    "test_data[\"CryoSleepCalc\"] = test_data[\"Log Total Expenses\"] < 1\n",
    "test_data[\"CryoSleep\"].fillna(test_data[\"CryoSleepCalc\"], inplace=True)\n",
    "\n",
    "train_data.drop('CryoSleepCalc', inplace=True, axis=1)\n",
    "test_data.drop('CryoSleepCalc', inplace=True, axis=1)"
   ]
  },
  {
   "cell_type": "code",
   "execution_count": 18,
   "id": "dcfbaa95",
   "metadata": {},
   "outputs": [
    {
     "data": {
      "text/html": [
       "<div>\n",
       "<style scoped>\n",
       "    .dataframe tbody tr th:only-of-type {\n",
       "        vertical-align: middle;\n",
       "    }\n",
       "\n",
       "    .dataframe tbody tr th {\n",
       "        vertical-align: top;\n",
       "    }\n",
       "\n",
       "    .dataframe thead th {\n",
       "        text-align: right;\n",
       "    }\n",
       "</style>\n",
       "<table border=\"1\" class=\"dataframe\">\n",
       "  <thead>\n",
       "    <tr style=\"text-align: right;\">\n",
       "      <th></th>\n",
       "      <th>PassengerId</th>\n",
       "      <th>HomePlanet</th>\n",
       "      <th>CryoSleep</th>\n",
       "      <th>Destination</th>\n",
       "      <th>Age</th>\n",
       "      <th>VIP</th>\n",
       "      <th>RoomService</th>\n",
       "      <th>FoodCourt</th>\n",
       "      <th>ShoppingMall</th>\n",
       "      <th>Spa</th>\n",
       "      <th>VRDeck</th>\n",
       "      <th>Group</th>\n",
       "      <th>Prog</th>\n",
       "      <th>Deck</th>\n",
       "      <th>Num</th>\n",
       "      <th>Side</th>\n",
       "      <th>First name</th>\n",
       "      <th>Last name</th>\n",
       "      <th>Total Expenses</th>\n",
       "      <th>Log Total Expenses</th>\n",
       "    </tr>\n",
       "  </thead>\n",
       "  <tbody>\n",
       "    <tr>\n",
       "      <th>0</th>\n",
       "      <td>0013_01</td>\n",
       "      <td>Earth</td>\n",
       "      <td>True</td>\n",
       "      <td>TRAPPIST-1e</td>\n",
       "      <td>27.0</td>\n",
       "      <td>False</td>\n",
       "      <td>0.0</td>\n",
       "      <td>0.0</td>\n",
       "      <td>0.0</td>\n",
       "      <td>0.0</td>\n",
       "      <td>0.0</td>\n",
       "      <td>0013</td>\n",
       "      <td>01</td>\n",
       "      <td>G</td>\n",
       "      <td>3</td>\n",
       "      <td>S</td>\n",
       "      <td>Nelly</td>\n",
       "      <td>Carsoning</td>\n",
       "      <td>0.0</td>\n",
       "      <td>0.000000</td>\n",
       "    </tr>\n",
       "    <tr>\n",
       "      <th>1</th>\n",
       "      <td>0018_01</td>\n",
       "      <td>Earth</td>\n",
       "      <td>False</td>\n",
       "      <td>TRAPPIST-1e</td>\n",
       "      <td>19.0</td>\n",
       "      <td>False</td>\n",
       "      <td>0.0</td>\n",
       "      <td>9.0</td>\n",
       "      <td>0.0</td>\n",
       "      <td>2823.0</td>\n",
       "      <td>0.0</td>\n",
       "      <td>0018</td>\n",
       "      <td>01</td>\n",
       "      <td>F</td>\n",
       "      <td>4</td>\n",
       "      <td>S</td>\n",
       "      <td>Lerome</td>\n",
       "      <td>Peckers</td>\n",
       "      <td>2832.0</td>\n",
       "      <td>3.452247</td>\n",
       "    </tr>\n",
       "    <tr>\n",
       "      <th>2</th>\n",
       "      <td>0019_01</td>\n",
       "      <td>Europa</td>\n",
       "      <td>True</td>\n",
       "      <td>55 Cancri e</td>\n",
       "      <td>31.0</td>\n",
       "      <td>False</td>\n",
       "      <td>0.0</td>\n",
       "      <td>0.0</td>\n",
       "      <td>0.0</td>\n",
       "      <td>0.0</td>\n",
       "      <td>0.0</td>\n",
       "      <td>0019</td>\n",
       "      <td>01</td>\n",
       "      <td>C</td>\n",
       "      <td>0</td>\n",
       "      <td>S</td>\n",
       "      <td>Sabih</td>\n",
       "      <td>Unhearfus</td>\n",
       "      <td>0.0</td>\n",
       "      <td>0.000000</td>\n",
       "    </tr>\n",
       "    <tr>\n",
       "      <th>3</th>\n",
       "      <td>0021_01</td>\n",
       "      <td>Europa</td>\n",
       "      <td>False</td>\n",
       "      <td>TRAPPIST-1e</td>\n",
       "      <td>38.0</td>\n",
       "      <td>False</td>\n",
       "      <td>0.0</td>\n",
       "      <td>6652.0</td>\n",
       "      <td>0.0</td>\n",
       "      <td>181.0</td>\n",
       "      <td>585.0</td>\n",
       "      <td>0021</td>\n",
       "      <td>01</td>\n",
       "      <td>C</td>\n",
       "      <td>1</td>\n",
       "      <td>S</td>\n",
       "      <td>Meratz</td>\n",
       "      <td>Caltilter</td>\n",
       "      <td>7418.0</td>\n",
       "      <td>3.870345</td>\n",
       "    </tr>\n",
       "    <tr>\n",
       "      <th>4</th>\n",
       "      <td>0023_01</td>\n",
       "      <td>Earth</td>\n",
       "      <td>False</td>\n",
       "      <td>TRAPPIST-1e</td>\n",
       "      <td>20.0</td>\n",
       "      <td>False</td>\n",
       "      <td>10.0</td>\n",
       "      <td>0.0</td>\n",
       "      <td>635.0</td>\n",
       "      <td>0.0</td>\n",
       "      <td>0.0</td>\n",
       "      <td>0023</td>\n",
       "      <td>01</td>\n",
       "      <td>F</td>\n",
       "      <td>5</td>\n",
       "      <td>S</td>\n",
       "      <td>Brence</td>\n",
       "      <td>Harperez</td>\n",
       "      <td>645.0</td>\n",
       "      <td>2.810233</td>\n",
       "    </tr>\n",
       "  </tbody>\n",
       "</table>\n",
       "</div>"
      ],
      "text/plain": [
       "  PassengerId HomePlanet  CryoSleep  Destination   Age    VIP  RoomService  \\\n",
       "0     0013_01      Earth       True  TRAPPIST-1e  27.0  False          0.0   \n",
       "1     0018_01      Earth      False  TRAPPIST-1e  19.0  False          0.0   \n",
       "2     0019_01     Europa       True  55 Cancri e  31.0  False          0.0   \n",
       "3     0021_01     Europa      False  TRAPPIST-1e  38.0  False          0.0   \n",
       "4     0023_01      Earth      False  TRAPPIST-1e  20.0  False         10.0   \n",
       "\n",
       "   FoodCourt  ShoppingMall     Spa  VRDeck Group Prog Deck Num Side  \\\n",
       "0        0.0           0.0     0.0     0.0  0013   01    G   3    S   \n",
       "1        9.0           0.0  2823.0     0.0  0018   01    F   4    S   \n",
       "2        0.0           0.0     0.0     0.0  0019   01    C   0    S   \n",
       "3     6652.0           0.0   181.0   585.0  0021   01    C   1    S   \n",
       "4        0.0         635.0     0.0     0.0  0023   01    F   5    S   \n",
       "\n",
       "  First name  Last name  Total Expenses  Log Total Expenses  \n",
       "0      Nelly  Carsoning             0.0            0.000000  \n",
       "1     Lerome    Peckers          2832.0            3.452247  \n",
       "2      Sabih  Unhearfus             0.0            0.000000  \n",
       "3     Meratz  Caltilter          7418.0            3.870345  \n",
       "4     Brence   Harperez           645.0            2.810233  "
      ]
     },
     "execution_count": 18,
     "metadata": {},
     "output_type": "execute_result"
    }
   ],
   "source": [
    "test_data.head()"
   ]
  },
  {
   "cell_type": "code",
   "execution_count": 19,
   "id": "3675334e",
   "metadata": {},
   "outputs": [],
   "source": [
    "train_data[\"HomePlanet\"].fillna(\"Earth\", inplace=True)\n",
    "test_data[\"HomePlanet\"].fillna(\"Earth\", inplace=True)"
   ]
  },
  {
   "cell_type": "code",
   "execution_count": 20,
   "id": "dbd033af",
   "metadata": {},
   "outputs": [],
   "source": [
    "train_data[\"Destination\"].fillna(\"TRAPPIST-1e\", inplace=True)\n",
    "test_data[\"Destination\"].fillna(\"TRAPPIST-1e\", inplace=True)"
   ]
  },
  {
   "cell_type": "code",
   "execution_count": 21,
   "id": "a11fcf2d",
   "metadata": {},
   "outputs": [],
   "source": [
    "train_data[\"VIP\"].fillna(False, inplace=True)\n",
    "test_data[\"VIP\"].fillna(False, inplace=True)"
   ]
  },
  {
   "cell_type": "code",
   "execution_count": 22,
   "id": "9c8f1c0f",
   "metadata": {},
   "outputs": [],
   "source": [
    "all_data_age = all_data.dropna(subset=['Age']).copy()"
   ]
  },
  {
   "cell_type": "code",
   "execution_count": 23,
   "id": "8f9713ba",
   "metadata": {},
   "outputs": [
    {
     "data": {
      "text/plain": [
       "<AxesSubplot:xlabel='Age', ylabel='Count'>"
      ]
     },
     "execution_count": 23,
     "metadata": {},
     "output_type": "execute_result"
    },
    {
     "data": {
      "image/png": "[encoded data removed]",
      "text/plain": [
       "<Figure size 432x288 with 1 Axes>"
      ]
     },
     "metadata": {
      "needs_background": "light"
     },
     "output_type": "display_data"
    }
   ],
   "source": [
    "all_data_age.reset_index(inplace=True)\n",
    "sns.histplot(data=all_data_age,hue='HomePlanet',x='Age')"
   ]
  },
  {
   "cell_type": "code",
   "execution_count": 24,
   "id": "d98949a2",
   "metadata": {},
   "outputs": [
    {
     "data": {
      "text/html": [
       "<div>\n",
       "<style scoped>\n",
       "    .dataframe tbody tr th:only-of-type {\n",
       "        vertical-align: middle;\n",
       "    }\n",
       "\n",
       "    .dataframe tbody tr th {\n",
       "        vertical-align: top;\n",
       "    }\n",
       "\n",
       "    .dataframe thead th {\n",
       "        text-align: right;\n",
       "    }\n",
       "</style>\n",
       "<table border=\"1\" class=\"dataframe\">\n",
       "  <thead>\n",
       "    <tr style=\"text-align: right;\">\n",
       "      <th></th>\n",
       "      <th>Age</th>\n",
       "    </tr>\n",
       "    <tr>\n",
       "      <th>HomePlanet</th>\n",
       "      <th></th>\n",
       "    </tr>\n",
       "  </thead>\n",
       "  <tbody>\n",
       "    <tr>\n",
       "      <th>Earth</th>\n",
       "      <td>24.0</td>\n",
       "    </tr>\n",
       "    <tr>\n",
       "      <th>Europa</th>\n",
       "      <td>26.0</td>\n",
       "    </tr>\n",
       "    <tr>\n",
       "      <th>Mars</th>\n",
       "      <td>18.0</td>\n",
       "    </tr>\n",
       "  </tbody>\n",
       "</table>\n",
       "</div>"
      ],
      "text/plain": [
       "             Age\n",
       "HomePlanet      \n",
       "Earth       24.0\n",
       "Europa      26.0\n",
       "Mars        18.0"
      ]
     },
     "execution_count": 24,
     "metadata": {},
     "output_type": "execute_result"
    }
   ],
   "source": [
    "grouped_ages = all_data_age[['HomePlanet', 'Age']].groupby(['HomePlanet']).agg(pd.Series.mode)\n",
    "grouped_ages"
   ]
  },
  {
   "cell_type": "code",
   "execution_count": 25,
   "id": "68232df6",
   "metadata": {},
   "outputs": [
    {
     "data": {
      "text/plain": [
       "0    18.0\n",
       "dtype: float64"
      ]
     },
     "execution_count": 25,
     "metadata": {},
     "output_type": "execute_result"
    }
   ],
   "source": [
    "median_ages = all_data_age['Age'].mode()\n",
    "median_ages"
   ]
  },
  {
   "cell_type": "code",
   "execution_count": 26,
   "id": "2c7c7162",
   "metadata": {},
   "outputs": [],
   "source": [
    "def impute_age(dataset):\n",
    "    for index, row in dataset.iterrows():\n",
    "        home = row['HomePlanet']\n",
    "        age = row['Age']\n",
    "        if pd.isna(age):\n",
    "            try:\n",
    "                age = grouped_ages[home]\n",
    "            except:\n",
    "                age = median_ages\n",
    "                \n",
    "            dataset.at[index,'Age'] = age\n",
    "            \n",
    "impute_age(train_data)\n",
    "impute_age(test_data)"
   ]
  },
  {
   "cell_type": "code",
   "execution_count": 27,
   "id": "d7841035",
   "metadata": {},
   "outputs": [],
   "source": [
    "train_data[\"Deck\"].fillna(\"F\", inplace=True)\n",
    "test_data[\"Deck\"].fillna(\"F\", inplace=True)"
   ]
  },
  {
   "cell_type": "code",
   "execution_count": 28,
   "id": "96160b68",
   "metadata": {},
   "outputs": [],
   "source": [
    "train_data[\"Side\"].fillna(\"S\", inplace=True)\n",
    "test_data[\"Side\"].fillna(\"S\", inplace=True)"
   ]
  },
  {
   "cell_type": "code",
   "execution_count": 29,
   "id": "36d845ff",
   "metadata": {},
   "outputs": [],
   "source": [
    "def age_band(dataset,bins = 5):\n",
    "    labels = range(bins)\n",
    "    return pd.cut(dataset['Age'], bins=bins,labels=labels)\n",
    "\n",
    "train_data['AgeBand'] = age_band(train_data,6).astype('int')\n",
    "test_data['AgeBand'] = age_band(test_data,6).astype('int')"
   ]
  },
  {
   "cell_type": "code",
   "execution_count": 30,
   "id": "efd8053d",
   "metadata": {},
   "outputs": [],
   "source": [
    "train_data_surname = pd.concat([train_data,y_train], axis = 1)\n",
    "surname_map = train_data_surname.groupby(['Last name','Group'])['Transported'].agg(['count', 'mean'])"
   ]
  },
  {
   "cell_type": "code",
   "execution_count": 31,
   "id": "cb557da3",
   "metadata": {},
   "outputs": [],
   "source": [
    "m=3\n",
    "\n",
    "mean_survived = y_train.mean()\n",
    "counts = surname_map['count']\n",
    "means = surname_map['mean']\n",
    "\n",
    "smooth = (counts * means + m * mean_survived) / (counts + m)\n",
    "\n",
    "def family_info(dataset):\n",
    "    for index, row in dataset.iterrows():\n",
    "        surname = row['Last name']\n",
    "        ticket = row['Group']\n",
    "        \n",
    "        try:\n",
    "            survived = smooth[surname,ticket]\n",
    "        except:\n",
    "            survived = mean_survived\n",
    "        \n",
    "        dataset.at[index,'FamilySurvived'] = survived\n",
    "        \n",
    "family_info(train_data) \n",
    "family_info(test_data) "
   ]
  },
  {
   "cell_type": "code",
   "execution_count": 32,
   "id": "21bd10f7",
   "metadata": {},
   "outputs": [],
   "source": [
    "interesting_cols = ['HomePlanet', 'CryoSleep', 'Destination', 'Age', 'VIP','RoomService', 'FoodCourt', 'ShoppingMall', 'Spa', 'VRDeck','Deck', 'Side', 'Total Expenses', 'Log Total Expenses', 'AgeBand', 'FamilySurvived']"
   ]
  },
  {
   "cell_type": "code",
   "execution_count": 33,
   "id": "c2eec01c",
   "metadata": {},
   "outputs": [
    {
     "name": "stdout",
     "output_type": "stream",
     "text": [
      "HomePlanet 4277 0 100.00%\n",
      "CryoSleep 4277 0 100.00%\n",
      "Destination 4277 0 100.00%\n",
      "Age 4277 0 100.00%\n",
      "VIP 4277 0 100.00%\n",
      "RoomService 4277 0 100.00%\n",
      "FoodCourt 4277 0 100.00%\n",
      "ShoppingMall 4277 0 100.00%\n",
      "Spa 4277 0 100.00%\n",
      "VRDeck 4277 0 100.00%\n",
      "Deck 4277 0 100.00%\n",
      "Side 4277 0 100.00%\n",
      "Total Expenses 4277 0 100.00%\n",
      "Log Total Expenses 4277 0 100.00%\n",
      "AgeBand 4277 0 100.00%\n",
      "FamilySurvived 4277 0 100.00%\n"
     ]
    }
   ],
   "source": [
    "train_data = train_data[interesting_cols]\n",
    "test_data = test_data[interesting_cols]\n",
    "\n",
    "train_data[\"RoomService\"].fillna(0, inplace=True)\n",
    "train_data[\"FoodCourt\"].fillna(0, inplace=True)\n",
    "train_data[\"ShoppingMall\"].fillna(0, inplace=True)\n",
    "train_data[\"Spa\"].fillna(0, inplace=True)\n",
    "train_data[\"VRDeck\"].fillna(0, inplace=True)\n",
    "\n",
    "test_data[\"RoomService\"].fillna(0, inplace=True)\n",
    "test_data[\"FoodCourt\"].fillna(0, inplace=True)\n",
    "test_data[\"ShoppingMall\"].fillna(0, inplace=True)\n",
    "test_data[\"Spa\"].fillna(0, inplace=True)\n",
    "test_data[\"VRDeck\"].fillna(0, inplace=True)\n",
    "\n",
    "print_null_values(test_data,interesting_cols)\n"
   ]
  },
  {
   "cell_type": "code",
   "execution_count": 34,
   "id": "0f122006",
   "metadata": {},
   "outputs": [],
   "source": [
    "train_data = pd.get_dummies(train_data)\n",
    "test_data =  pd.get_dummies(test_data)"
   ]
  },
  {
   "cell_type": "code",
   "execution_count": 35,
   "id": "a0e280cc",
   "metadata": {},
   "outputs": [],
   "source": [
    "from sklearn.preprocessing import MinMaxScaler\n",
    "mms = MinMaxScaler()"
   ]
  },
  {
   "cell_type": "code",
   "execution_count": 36,
   "id": "712e193f",
   "metadata": {},
   "outputs": [],
   "source": [
    "train_data['Age'] = mms.fit_transform(train_data[\"Age\"].values.reshape(-1, 1))\n",
    "test_data['Age'] = mms.transform(test_data[\"Age\"].values.reshape(-1, 1))"
   ]
  },
  {
   "cell_type": "code",
   "execution_count": 37,
   "id": "4cd28884",
   "metadata": {},
   "outputs": [],
   "source": [
    "train_data = train_data.drop(['Total Expenses'], axis=1)\n",
    "test_data = test_data.drop(['Total Expenses'], axis=1)"
   ]
  },
  {
   "cell_type": "code",
   "execution_count": 38,
   "id": "24cfadd3",
   "metadata": {},
   "outputs": [],
   "source": [
    "train_data[\"VIP\"] = train_data[\"VIP\"].astype(int)\n",
    "test_data[\"VIP\"] = test_data[\"VIP\"].astype(int)\n",
    "\n",
    "train_data[\"CryoSleep\"] = train_data[\"CryoSleep\"].astype(int)\n",
    "test_data[\"CryoSleep\"] = test_data[\"CryoSleep\"].astype(int)"
   ]
  },
  {
   "cell_type": "code",
   "execution_count": 39,
   "id": "12fac57e",
   "metadata": {},
   "outputs": [
    {
     "data": {
      "text/html": [
       "<div>\n",
       "<style scoped>\n",
       "    .dataframe tbody tr th:only-of-type {\n",
       "        vertical-align: middle;\n",
       "    }\n",
       "\n",
       "    .dataframe tbody tr th {\n",
       "        vertical-align: top;\n",
       "    }\n",
       "\n",
       "    .dataframe thead th {\n",
       "        text-align: right;\n",
       "    }\n",
       "</style>\n",
       "<table border=\"1\" class=\"dataframe\">\n",
       "  <thead>\n",
       "    <tr style=\"text-align: right;\">\n",
       "      <th></th>\n",
       "      <th>CryoSleep</th>\n",
       "      <th>Age</th>\n",
       "      <th>VIP</th>\n",
       "      <th>RoomService</th>\n",
       "      <th>FoodCourt</th>\n",
       "      <th>ShoppingMall</th>\n",
       "      <th>Spa</th>\n",
       "      <th>VRDeck</th>\n",
       "      <th>Log Total Expenses</th>\n",
       "      <th>AgeBand</th>\n",
       "      <th>...</th>\n",
       "      <th>Deck_A</th>\n",
       "      <th>Deck_B</th>\n",
       "      <th>Deck_C</th>\n",
       "      <th>Deck_D</th>\n",
       "      <th>Deck_E</th>\n",
       "      <th>Deck_F</th>\n",
       "      <th>Deck_G</th>\n",
       "      <th>Deck_T</th>\n",
       "      <th>Side_P</th>\n",
       "      <th>Side_S</th>\n",
       "    </tr>\n",
       "  </thead>\n",
       "  <tbody>\n",
       "    <tr>\n",
       "      <th>0</th>\n",
       "      <td>0</td>\n",
       "      <td>0.493671</td>\n",
       "      <td>0</td>\n",
       "      <td>0.000000</td>\n",
       "      <td>0.000000</td>\n",
       "      <td>0.000000</td>\n",
       "      <td>0.000000</td>\n",
       "      <td>0.000000</td>\n",
       "      <td>0.000000</td>\n",
       "      <td>2</td>\n",
       "      <td>...</td>\n",
       "      <td>0</td>\n",
       "      <td>1</td>\n",
       "      <td>0</td>\n",
       "      <td>0</td>\n",
       "      <td>0</td>\n",
       "      <td>0</td>\n",
       "      <td>0</td>\n",
       "      <td>0</td>\n",
       "      <td>1</td>\n",
       "      <td>0</td>\n",
       "    </tr>\n",
       "    <tr>\n",
       "      <th>1</th>\n",
       "      <td>0</td>\n",
       "      <td>0.303797</td>\n",
       "      <td>0</td>\n",
       "      <td>0.007608</td>\n",
       "      <td>0.000302</td>\n",
       "      <td>0.001064</td>\n",
       "      <td>0.024500</td>\n",
       "      <td>0.001823</td>\n",
       "      <td>2.867467</td>\n",
       "      <td>1</td>\n",
       "      <td>...</td>\n",
       "      <td>0</td>\n",
       "      <td>0</td>\n",
       "      <td>0</td>\n",
       "      <td>0</td>\n",
       "      <td>0</td>\n",
       "      <td>1</td>\n",
       "      <td>0</td>\n",
       "      <td>0</td>\n",
       "      <td>0</td>\n",
       "      <td>1</td>\n",
       "    </tr>\n",
       "    <tr>\n",
       "      <th>2</th>\n",
       "      <td>0</td>\n",
       "      <td>0.734177</td>\n",
       "      <td>1</td>\n",
       "      <td>0.003001</td>\n",
       "      <td>0.119948</td>\n",
       "      <td>0.000000</td>\n",
       "      <td>0.299670</td>\n",
       "      <td>0.002030</td>\n",
       "      <td>4.016365</td>\n",
       "      <td>4</td>\n",
       "      <td>...</td>\n",
       "      <td>1</td>\n",
       "      <td>0</td>\n",
       "      <td>0</td>\n",
       "      <td>0</td>\n",
       "      <td>0</td>\n",
       "      <td>0</td>\n",
       "      <td>0</td>\n",
       "      <td>0</td>\n",
       "      <td>0</td>\n",
       "      <td>1</td>\n",
       "    </tr>\n",
       "    <tr>\n",
       "      <th>3</th>\n",
       "      <td>0</td>\n",
       "      <td>0.417722</td>\n",
       "      <td>0</td>\n",
       "      <td>0.000000</td>\n",
       "      <td>0.043035</td>\n",
       "      <td>0.015793</td>\n",
       "      <td>0.148563</td>\n",
       "      <td>0.007997</td>\n",
       "      <td>3.714078</td>\n",
       "      <td>2</td>\n",
       "      <td>...</td>\n",
       "      <td>1</td>\n",
       "      <td>0</td>\n",
       "      <td>0</td>\n",
       "      <td>0</td>\n",
       "      <td>0</td>\n",
       "      <td>0</td>\n",
       "      <td>0</td>\n",
       "      <td>0</td>\n",
       "      <td>0</td>\n",
       "      <td>1</td>\n",
       "    </tr>\n",
       "    <tr>\n",
       "      <th>4</th>\n",
       "      <td>0</td>\n",
       "      <td>0.202532</td>\n",
       "      <td>0</td>\n",
       "      <td>0.021149</td>\n",
       "      <td>0.002348</td>\n",
       "      <td>0.006428</td>\n",
       "      <td>0.025214</td>\n",
       "      <td>0.000083</td>\n",
       "      <td>3.038223</td>\n",
       "      <td>1</td>\n",
       "      <td>...</td>\n",
       "      <td>0</td>\n",
       "      <td>0</td>\n",
       "      <td>0</td>\n",
       "      <td>0</td>\n",
       "      <td>0</td>\n",
       "      <td>1</td>\n",
       "      <td>0</td>\n",
       "      <td>0</td>\n",
       "      <td>0</td>\n",
       "      <td>1</td>\n",
       "    </tr>\n",
       "    <tr>\n",
       "      <th>...</th>\n",
       "      <td>...</td>\n",
       "      <td>...</td>\n",
       "      <td>...</td>\n",
       "      <td>...</td>\n",
       "      <td>...</td>\n",
       "      <td>...</td>\n",
       "      <td>...</td>\n",
       "      <td>...</td>\n",
       "      <td>...</td>\n",
       "      <td>...</td>\n",
       "      <td>...</td>\n",
       "      <td>...</td>\n",
       "      <td>...</td>\n",
       "      <td>...</td>\n",
       "      <td>...</td>\n",
       "      <td>...</td>\n",
       "      <td>...</td>\n",
       "      <td>...</td>\n",
       "      <td>...</td>\n",
       "      <td>...</td>\n",
       "      <td>...</td>\n",
       "    </tr>\n",
       "    <tr>\n",
       "      <th>8688</th>\n",
       "      <td>0</td>\n",
       "      <td>0.518987</td>\n",
       "      <td>1</td>\n",
       "      <td>0.000000</td>\n",
       "      <td>0.228726</td>\n",
       "      <td>0.000000</td>\n",
       "      <td>0.073322</td>\n",
       "      <td>0.003066</td>\n",
       "      <td>3.931305</td>\n",
       "      <td>3</td>\n",
       "      <td>...</td>\n",
       "      <td>1</td>\n",
       "      <td>0</td>\n",
       "      <td>0</td>\n",
       "      <td>0</td>\n",
       "      <td>0</td>\n",
       "      <td>0</td>\n",
       "      <td>0</td>\n",
       "      <td>0</td>\n",
       "      <td>1</td>\n",
       "      <td>0</td>\n",
       "    </tr>\n",
       "    <tr>\n",
       "      <th>8689</th>\n",
       "      <td>1</td>\n",
       "      <td>0.227848</td>\n",
       "      <td>0</td>\n",
       "      <td>0.000000</td>\n",
       "      <td>0.000000</td>\n",
       "      <td>0.000000</td>\n",
       "      <td>0.000000</td>\n",
       "      <td>0.000000</td>\n",
       "      <td>0.000000</td>\n",
       "      <td>1</td>\n",
       "      <td>...</td>\n",
       "      <td>0</td>\n",
       "      <td>0</td>\n",
       "      <td>0</td>\n",
       "      <td>0</td>\n",
       "      <td>0</td>\n",
       "      <td>0</td>\n",
       "      <td>1</td>\n",
       "      <td>0</td>\n",
       "      <td>0</td>\n",
       "      <td>1</td>\n",
       "    </tr>\n",
       "    <tr>\n",
       "      <th>8690</th>\n",
       "      <td>0</td>\n",
       "      <td>0.329114</td>\n",
       "      <td>0</td>\n",
       "      <td>0.000000</td>\n",
       "      <td>0.000000</td>\n",
       "      <td>0.079687</td>\n",
       "      <td>0.000045</td>\n",
       "      <td>0.000000</td>\n",
       "      <td>3.272770</td>\n",
       "      <td>1</td>\n",
       "      <td>...</td>\n",
       "      <td>0</td>\n",
       "      <td>0</td>\n",
       "      <td>0</td>\n",
       "      <td>0</td>\n",
       "      <td>0</td>\n",
       "      <td>0</td>\n",
       "      <td>1</td>\n",
       "      <td>0</td>\n",
       "      <td>0</td>\n",
       "      <td>1</td>\n",
       "    </tr>\n",
       "    <tr>\n",
       "      <th>8691</th>\n",
       "      <td>0</td>\n",
       "      <td>0.405063</td>\n",
       "      <td>0</td>\n",
       "      <td>0.000000</td>\n",
       "      <td>0.035186</td>\n",
       "      <td>0.000000</td>\n",
       "      <td>0.015753</td>\n",
       "      <td>0.134049</td>\n",
       "      <td>3.666331</td>\n",
       "      <td>2</td>\n",
       "      <td>...</td>\n",
       "      <td>0</td>\n",
       "      <td>0</td>\n",
       "      <td>0</td>\n",
       "      <td>0</td>\n",
       "      <td>1</td>\n",
       "      <td>0</td>\n",
       "      <td>0</td>\n",
       "      <td>0</td>\n",
       "      <td>0</td>\n",
       "      <td>1</td>\n",
       "    </tr>\n",
       "    <tr>\n",
       "      <th>8692</th>\n",
       "      <td>0</td>\n",
       "      <td>0.556962</td>\n",
       "      <td>0</td>\n",
       "      <td>0.008795</td>\n",
       "      <td>0.157247</td>\n",
       "      <td>0.000000</td>\n",
       "      <td>0.000000</td>\n",
       "      <td>0.000497</td>\n",
       "      <td>3.683677</td>\n",
       "      <td>3</td>\n",
       "      <td>...</td>\n",
       "      <td>0</td>\n",
       "      <td>0</td>\n",
       "      <td>0</td>\n",
       "      <td>0</td>\n",
       "      <td>1</td>\n",
       "      <td>0</td>\n",
       "      <td>0</td>\n",
       "      <td>0</td>\n",
       "      <td>0</td>\n",
       "      <td>1</td>\n",
       "    </tr>\n",
       "  </tbody>\n",
       "</table>\n",
       "<p>8693 rows × 27 columns</p>\n",
       "</div>"
      ],
      "text/plain": [
       "      CryoSleep       Age  VIP  RoomService  FoodCourt  ShoppingMall  \\\n",
       "0             0  0.493671    0     0.000000   0.000000      0.000000   \n",
       "1             0  0.303797    0     0.007608   0.000302      0.001064   \n",
       "2             0  0.734177    1     0.003001   0.119948      0.000000   \n",
       "3             0  0.417722    0     0.000000   0.043035      0.015793   \n",
       "4             0  0.202532    0     0.021149   0.002348      0.006428   \n",
       "...         ...       ...  ...          ...        ...           ...   \n",
       "8688          0  0.518987    1     0.000000   0.228726      0.000000   \n",
       "8689          1  0.227848    0     0.000000   0.000000      0.000000   \n",
       "8690          0  0.329114    0     0.000000   0.000000      0.079687   \n",
       "8691          0  0.405063    0     0.000000   0.035186      0.000000   \n",
       "8692          0  0.556962    0     0.008795   0.157247      0.000000   \n",
       "\n",
       "           Spa    VRDeck  Log Total Expenses  AgeBand  ...  Deck_A  Deck_B  \\\n",
       "0     0.000000  0.000000            0.000000        2  ...       0       1   \n",
       "1     0.024500  0.001823            2.867467        1  ...       0       0   \n",
       "2     0.299670  0.002030            4.016365        4  ...       1       0   \n",
       "3     0.148563  0.007997            3.714078        2  ...       1       0   \n",
       "4     0.025214  0.000083            3.038223        1  ...       0       0   \n",
       "...        ...       ...                 ...      ...  ...     ...     ...   \n",
       "8688  0.073322  0.003066            3.931305        3  ...       1       0   \n",
       "8689  0.000000  0.000000            0.000000        1  ...       0       0   \n",
       "8690  0.000045  0.000000            3.272770        1  ...       0       0   \n",
       "8691  0.015753  0.134049            3.666331        2  ...       0       0   \n",
       "8692  0.000000  0.000497            3.683677        3  ...       0       0   \n",
       "\n",
       "      Deck_C  Deck_D  Deck_E  Deck_F  Deck_G  Deck_T  Side_P  Side_S  \n",
       "0          0       0       0       0       0       0       1       0  \n",
       "1          0       0       0       1       0       0       0       1  \n",
       "2          0       0       0       0       0       0       0       1  \n",
       "3          0       0       0       0       0       0       0       1  \n",
       "4          0       0       0       1       0       0       0       1  \n",
       "...      ...     ...     ...     ...     ...     ...     ...     ...  \n",
       "8688       0       0       0       0       0       0       1       0  \n",
       "8689       0       0       0       0       1       0       0       1  \n",
       "8690       0       0       0       0       1       0       0       1  \n",
       "8691       0       0       1       0       0       0       0       1  \n",
       "8692       0       0       1       0       0       0       0       1  \n",
       "\n",
       "[8693 rows x 27 columns]"
      ]
     },
     "execution_count": 39,
     "metadata": {},
     "output_type": "execute_result"
    }
   ],
   "source": [
    "train_data['RoomService'] = mms.fit_transform(train_data[\"RoomService\"].values.reshape(-1, 1))\n",
    "test_data['RoomService'] = mms.transform(test_data[\"RoomService\"].values.reshape(-1, 1))\n",
    "\n",
    "train_data['FoodCourt'] = mms.fit_transform(train_data[\"FoodCourt\"].values.reshape(-1, 1))\n",
    "test_data['FoodCourt'] = mms.transform(test_data[\"FoodCourt\"].values.reshape(-1, 1))\n",
    "\n",
    "train_data['ShoppingMall'] = mms.fit_transform(train_data[\"ShoppingMall\"].values.reshape(-1, 1))\n",
    "test_data['ShoppingMall'] = mms.transform(test_data[\"ShoppingMall\"].values.reshape(-1, 1))\n",
    "\n",
    "train_data['Spa'] = mms.fit_transform(train_data[\"Spa\"].values.reshape(-1, 1))\n",
    "test_data['Spa'] = mms.transform(test_data[\"Spa\"].values.reshape(-1, 1))\n",
    "\n",
    "train_data['VRDeck'] = mms.fit_transform(train_data[\"VRDeck\"].values.reshape(-1, 1))\n",
    "test_data['VRDeck'] = mms.transform(test_data[\"VRDeck\"].values.reshape(-1, 1))\n",
    "\n",
    "train_data"
   ]
  },
  {
   "cell_type": "code",
   "execution_count": 40,
   "id": "c30413de",
   "metadata": {},
   "outputs": [],
   "source": [
    "X_train = train_data.copy()\n",
    "X_test = test_data.copy()"
   ]
  },
  {
   "cell_type": "code",
   "execution_count": 51,
   "id": "a5f1ee47",
   "metadata": {},
   "outputs": [
    {
     "name": "stderr",
     "output_type": "stream",
     "text": [
      "[Parallel(n_jobs=1)]: Using backend SequentialBackend with 1 concurrent workers.\n"
     ]
    },
    {
     "name": "stdout",
     "output_type": "stream",
     "text": [
      " 1 FamilySurvived                 0.65\n",
      " 2 Log Total Expenses             0.09\n",
      " 3 CryoSleep                      0.06\n",
      " 4 Spa                            0.04\n",
      " 5 RoomService                    0.04\n",
      " 6 VRDeck                         0.03\n",
      " 7 FoodCourt                      0.03\n",
      " 8 HomePlanet_Earth               0.02\n",
      " 9 ShoppingMall                   0.02\n",
      "10 Age                            0.02\n"
     ]
    },
    {
     "name": "stderr",
     "output_type": "stream",
     "text": [
      "[Parallel(n_jobs=1)]: Done 250 out of 250 | elapsed:    1.0s finished\n"
     ]
    }
   ],
   "source": [
    "from sklearn.ensemble import RandomForestClassifier\n",
    "\n",
    "treshold = 0.01\n",
    "\n",
    "\n",
    "forest = RandomForestClassifier(n_estimators=250,criterion='gini',max_depth=90,max_leaf_nodes=120\n",
    "                              ,verbose=1)\n",
    "forest.fit(X_train,y_train)\n",
    "\n",
    "importances = forest.feature_importances_\n",
    "indexes = np.argsort(importances)[::-1]\n",
    "\n",
    "columns = []\n",
    "\n",
    "\n",
    "for i,f in enumerate(indexes):\n",
    "    importance = importances[f]\n",
    "    if importance >= treshold:\n",
    "        column = X_train.columns[f]\n",
    "        columns.append(column)\n",
    "        print(\"{0:2} {1:30} {2:.2f}\".format(i+1,column,importances[f]))"
   ]
  },
  {
   "cell_type": "code",
   "execution_count": 42,
   "id": "b2f394cf",
   "metadata": {},
   "outputs": [],
   "source": [
    "X_train = X_train[columns]\n",
    "X_test = X_test[columns]"
   ]
  },
  {
   "cell_type": "code",
   "execution_count": 43,
   "id": "7396af7f",
   "metadata": {},
   "outputs": [
    {
     "name": "stdout",
     "output_type": "stream",
     "text": [
      "Time: 444.96468925476074\n",
      "Model accuracy 94.52%\n",
      "{'C': 10.0, 'gamma': 1.0, 'kernel': 'rbf'}\n"
     ]
    }
   ],
   "source": [
    "from sklearn.model_selection import GridSearchCV\n",
    "from sklearn.svm import SVC\n",
    "import time\n",
    "\n",
    "param_range = [0.0001, 0.001, 0.01, 0.1, 1.0, 10.0]\n",
    "\n",
    "param_grid = [{'C': param_range, \n",
    "               'kernel': ['linear']},\n",
    "              {'C': param_range, \n",
    "               'gamma': param_range, \n",
    "               'kernel': ['rbf']}]\n",
    "\n",
    "model = SVC()\n",
    "\n",
    "gs = GridSearchCV(estimator=model, \n",
    "                  param_grid=param_grid, \n",
    "                  scoring='accuracy', \n",
    "                  refit=True,\n",
    "                  cv=10,\n",
    "                  n_jobs=-1)\n",
    "\n",
    "\n",
    "\n",
    "start = time.time()\n",
    "gs = gs.fit(X_train, y_train)\n",
    "print(f'Time: {time.time() - start}')\n",
    "\n",
    "print(\"Model accuracy {0:.2f}%\".format(gs.best_score_ * 100))\n",
    "print(gs.best_params_)"
   ]
  },
  {
   "cell_type": "code",
   "execution_count": 52,
   "id": "3808c39b",
   "metadata": {},
   "outputs": [
    {
     "name": "stderr",
     "output_type": "stream",
     "text": [
      "[Parallel(n_jobs=1)]: Using backend SequentialBackend with 1 concurrent workers.\n",
      "[Parallel(n_jobs=1)]: Done 250 out of 250 | elapsed:    0.0s finished\n"
     ]
    }
   ],
   "source": [
    "predictions = forest.predict(X_test)"
   ]
  },
  {
   "cell_type": "code",
   "execution_count": 53,
   "id": "fd0cc2f0",
   "metadata": {},
   "outputs": [
    {
     "name": "stdout",
     "output_type": "stream",
     "text": [
      "Your submission was successfully saved!\n"
     ]
    }
   ],
   "source": [
    "output = pd.DataFrame({'PassengerId': test_data_index, 'Transported': predictions.astype(bool)})\n",
    "output.to_csv('my_submission.csv', index=False)\n",
    "print(\"Your submission was successfully saved!\")"
   ]
  },
  {
   "cell_type": "code",
   "execution_count": null,
   "id": "2f944c6c",
   "metadata": {},
   "outputs": [],
   "source": []
  }
 ],
 "metadata": {
  "kernelspec": {
   "display_name": "Python 3 (ipykernel)",
   "language": "python",
   "name": "python3"
  },
  "language_info": {
   "codemirror_mode": {
    "name": "ipython",
    "version": 3
   },
   "file_extension": ".py",
   "mimetype": "text/x-python",
   "name": "python",
   "nbconvert_exporter": "python",
   "pygments_lexer": "ipython3",
   "version": "3.9.7"
  }
 },
 "nbformat": 4,
 "nbformat_minor": 5
}
