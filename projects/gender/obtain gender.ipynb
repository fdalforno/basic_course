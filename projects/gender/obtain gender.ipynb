{
 "cells": [
  {
   "cell_type": "code",
   "execution_count": 1,
   "id": "492a6634",
   "metadata": {},
   "outputs": [],
   "source": [
    "import numpy as np\n",
    "import pandas as pd\n",
    "\n",
    "all_data = pd.read_csv(\".\\\\data\\\\name_gender_dataset.csv\")"
   ]
  },
  {
   "cell_type": "code",
   "execution_count": 2,
   "id": "2efe1dc3",
   "metadata": {},
   "outputs": [
    {
     "name": "stdout",
     "output_type": "stream",
     "text": [
      "james\n"
     ]
    }
   ],
   "source": [
    "import unicodedata\n",
    "\n",
    "def normalize(name):\n",
    "    name = name.lower()\n",
    "    name = name.strip()\n",
    "    \n",
    "    nfkd_form = unicodedata.normalize('NFKD', name)\n",
    "    only_ascii = nfkd_form.encode('ASCII', 'ignore')\n",
    "    only_ascii = only_ascii.decode('UTF-8')\n",
    "    return only_ascii.strip()\n",
    "\n",
    "all_data['Name'] = all_data['Name'].apply(normalize)\n",
    "print(all_data['Name'][0])"
   ]
  },
  {
   "cell_type": "code",
   "execution_count": 3,
   "id": "f4d3eb3c",
   "metadata": {},
   "outputs": [
    {
     "data": {
      "text/html": [
       "<div>\n",
       "<style scoped>\n",
       "    .dataframe tbody tr th:only-of-type {\n",
       "        vertical-align: middle;\n",
       "    }\n",
       "\n",
       "    .dataframe tbody tr th {\n",
       "        vertical-align: top;\n",
       "    }\n",
       "\n",
       "    .dataframe thead th {\n",
       "        text-align: right;\n",
       "    }\n",
       "</style>\n",
       "<table border=\"1\" class=\"dataframe\">\n",
       "  <thead>\n",
       "    <tr style=\"text-align: right;\">\n",
       "      <th></th>\n",
       "      <th>Name</th>\n",
       "      <th>Gender</th>\n",
       "      <th>Count</th>\n",
       "      <th>Probability</th>\n",
       "      <th>Name Length</th>\n",
       "    </tr>\n",
       "  </thead>\n",
       "  <tbody>\n",
       "    <tr>\n",
       "      <th>0</th>\n",
       "      <td>james</td>\n",
       "      <td>M</td>\n",
       "      <td>5304407</td>\n",
       "      <td>1.451679e-02</td>\n",
       "      <td>5</td>\n",
       "    </tr>\n",
       "    <tr>\n",
       "      <th>1</th>\n",
       "      <td>john</td>\n",
       "      <td>M</td>\n",
       "      <td>5260831</td>\n",
       "      <td>1.439753e-02</td>\n",
       "      <td>4</td>\n",
       "    </tr>\n",
       "    <tr>\n",
       "      <th>2</th>\n",
       "      <td>robert</td>\n",
       "      <td>M</td>\n",
       "      <td>4970386</td>\n",
       "      <td>1.360266e-02</td>\n",
       "      <td>6</td>\n",
       "    </tr>\n",
       "    <tr>\n",
       "      <th>3</th>\n",
       "      <td>michael</td>\n",
       "      <td>M</td>\n",
       "      <td>4579950</td>\n",
       "      <td>1.253414e-02</td>\n",
       "      <td>7</td>\n",
       "    </tr>\n",
       "    <tr>\n",
       "      <th>4</th>\n",
       "      <td>william</td>\n",
       "      <td>M</td>\n",
       "      <td>4226608</td>\n",
       "      <td>1.156713e-02</td>\n",
       "      <td>7</td>\n",
       "    </tr>\n",
       "    <tr>\n",
       "      <th>...</th>\n",
       "      <td>...</td>\n",
       "      <td>...</td>\n",
       "      <td>...</td>\n",
       "      <td>...</td>\n",
       "      <td>...</td>\n",
       "    </tr>\n",
       "    <tr>\n",
       "      <th>147264</th>\n",
       "      <td>zylenn</td>\n",
       "      <td>M</td>\n",
       "      <td>1</td>\n",
       "      <td>2.736740e-09</td>\n",
       "      <td>6</td>\n",
       "    </tr>\n",
       "    <tr>\n",
       "      <th>147265</th>\n",
       "      <td>zymeon</td>\n",
       "      <td>M</td>\n",
       "      <td>1</td>\n",
       "      <td>2.736740e-09</td>\n",
       "      <td>6</td>\n",
       "    </tr>\n",
       "    <tr>\n",
       "      <th>147266</th>\n",
       "      <td>zyndel</td>\n",
       "      <td>M</td>\n",
       "      <td>1</td>\n",
       "      <td>2.736740e-09</td>\n",
       "      <td>6</td>\n",
       "    </tr>\n",
       "    <tr>\n",
       "      <th>147267</th>\n",
       "      <td>zyshan</td>\n",
       "      <td>M</td>\n",
       "      <td>1</td>\n",
       "      <td>2.736740e-09</td>\n",
       "      <td>6</td>\n",
       "    </tr>\n",
       "    <tr>\n",
       "      <th>147268</th>\n",
       "      <td>zyton</td>\n",
       "      <td>M</td>\n",
       "      <td>1</td>\n",
       "      <td>2.736740e-09</td>\n",
       "      <td>5</td>\n",
       "    </tr>\n",
       "  </tbody>\n",
       "</table>\n",
       "<p>147269 rows × 5 columns</p>\n",
       "</div>"
      ],
      "text/plain": [
       "           Name Gender    Count   Probability  Name Length\n",
       "0         james      M  5304407  1.451679e-02            5\n",
       "1          john      M  5260831  1.439753e-02            4\n",
       "2        robert      M  4970386  1.360266e-02            6\n",
       "3       michael      M  4579950  1.253414e-02            7\n",
       "4       william      M  4226608  1.156713e-02            7\n",
       "...         ...    ...      ...           ...          ...\n",
       "147264   zylenn      M        1  2.736740e-09            6\n",
       "147265   zymeon      M        1  2.736740e-09            6\n",
       "147266   zyndel      M        1  2.736740e-09            6\n",
       "147267   zyshan      M        1  2.736740e-09            6\n",
       "147268    zyton      M        1  2.736740e-09            5\n",
       "\n",
       "[147269 rows x 5 columns]"
      ]
     },
     "execution_count": 3,
     "metadata": {},
     "output_type": "execute_result"
    }
   ],
   "source": [
    "all_data['Name Length'] = all_data['Name'].str.len()\n",
    "all_data"
   ]
  },
  {
   "cell_type": "code",
   "execution_count": 5,
   "id": "20698691",
   "metadata": {},
   "outputs": [
    {
     "data": {
      "text/html": [
       "<div>\n",
       "<style scoped>\n",
       "    .dataframe tbody tr th:only-of-type {\n",
       "        vertical-align: middle;\n",
       "    }\n",
       "\n",
       "    .dataframe tbody tr th {\n",
       "        vertical-align: top;\n",
       "    }\n",
       "\n",
       "    .dataframe thead th {\n",
       "        text-align: right;\n",
       "    }\n",
       "</style>\n",
       "<table border=\"1\" class=\"dataframe\">\n",
       "  <thead>\n",
       "    <tr style=\"text-align: right;\">\n",
       "      <th></th>\n",
       "      <th>Name</th>\n",
       "      <th>Gender</th>\n",
       "    </tr>\n",
       "  </thead>\n",
       "  <tbody>\n",
       "    <tr>\n",
       "      <th>0</th>\n",
       "      <td>a</td>\n",
       "      <td>2</td>\n",
       "    </tr>\n",
       "    <tr>\n",
       "      <th>94017</th>\n",
       "      <td>orville</td>\n",
       "      <td>2</td>\n",
       "    </tr>\n",
       "    <tr>\n",
       "      <th>10406</th>\n",
       "      <td>arline</td>\n",
       "      <td>2</td>\n",
       "    </tr>\n",
       "    <tr>\n",
       "      <th>84569</th>\n",
       "      <td>micaela</td>\n",
       "      <td>2</td>\n",
       "    </tr>\n",
       "    <tr>\n",
       "      <th>10408</th>\n",
       "      <td>arlington</td>\n",
       "      <td>2</td>\n",
       "    </tr>\n",
       "    <tr>\n",
       "      <th>...</th>\n",
       "      <td>...</td>\n",
       "      <td>...</td>\n",
       "    </tr>\n",
       "    <tr>\n",
       "      <th>47083</th>\n",
       "      <td>hildagard</td>\n",
       "      <td>1</td>\n",
       "    </tr>\n",
       "    <tr>\n",
       "      <th>47082</th>\n",
       "      <td>hilda-jean</td>\n",
       "      <td>1</td>\n",
       "    </tr>\n",
       "    <tr>\n",
       "      <th>47080</th>\n",
       "      <td>hilburn</td>\n",
       "      <td>1</td>\n",
       "    </tr>\n",
       "    <tr>\n",
       "      <th>47079</th>\n",
       "      <td>hilberto</td>\n",
       "      <td>1</td>\n",
       "    </tr>\n",
       "    <tr>\n",
       "      <th>133904</th>\n",
       "      <td>zzyzx</td>\n",
       "      <td>1</td>\n",
       "    </tr>\n",
       "  </tbody>\n",
       "</table>\n",
       "<p>133905 rows × 2 columns</p>\n",
       "</div>"
      ],
      "text/plain": [
       "              Name  Gender\n",
       "0                a       2\n",
       "94017      orville       2\n",
       "10406       arline       2\n",
       "84569      micaela       2\n",
       "10408    arlington       2\n",
       "...            ...     ...\n",
       "47083    hildagard       1\n",
       "47082   hilda-jean       1\n",
       "47080      hilburn       1\n",
       "47079     hilberto       1\n",
       "133904       zzyzx       1\n",
       "\n",
       "[133905 rows x 2 columns]"
      ]
     },
     "execution_count": 5,
     "metadata": {},
     "output_type": "execute_result"
    }
   ],
   "source": [
    "#Esistono più nomi con sessi differenti?\n",
    "\n",
    "all_data[['Name','Gender']].groupby(['Name'], as_index=False).count().sort_values(\"Gender\", ascending = False)"
   ]
  },
  {
   "cell_type": "code",
   "execution_count": 6,
   "id": "7f32b0ed",
   "metadata": {},
   "outputs": [
    {
     "data": {
      "text/html": [
       "<div>\n",
       "<style scoped>\n",
       "    .dataframe tbody tr th:only-of-type {\n",
       "        vertical-align: middle;\n",
       "    }\n",
       "\n",
       "    .dataframe tbody tr th {\n",
       "        vertical-align: top;\n",
       "    }\n",
       "\n",
       "    .dataframe thead th {\n",
       "        text-align: right;\n",
       "    }\n",
       "</style>\n",
       "<table border=\"1\" class=\"dataframe\">\n",
       "  <thead>\n",
       "    <tr style=\"text-align: right;\">\n",
       "      <th></th>\n",
       "      <th>Name</th>\n",
       "      <th>Gender</th>\n",
       "      <th>Count</th>\n",
       "      <th>Probability</th>\n",
       "      <th>Name Length</th>\n",
       "    </tr>\n",
       "  </thead>\n",
       "  <tbody>\n",
       "    <tr>\n",
       "      <th>1407</th>\n",
       "      <td>luca</td>\n",
       "      <td>M</td>\n",
       "      <td>31015</td>\n",
       "      <td>0.000085</td>\n",
       "      <td>4</td>\n",
       "    </tr>\n",
       "    <tr>\n",
       "      <th>10608</th>\n",
       "      <td>luca</td>\n",
       "      <td>F</td>\n",
       "      <td>1154</td>\n",
       "      <td>0.000003</td>\n",
       "      <td>4</td>\n",
       "    </tr>\n",
       "  </tbody>\n",
       "</table>\n",
       "</div>"
      ],
      "text/plain": [
       "       Name Gender  Count  Probability  Name Length\n",
       "1407   luca      M  31015     0.000085            4\n",
       "10608  luca      F   1154     0.000003            4"
      ]
     },
     "execution_count": 6,
     "metadata": {},
     "output_type": "execute_result"
    }
   ],
   "source": [
    "name = 'luca'\n",
    "filterrow = all_data['Name'] == name\n",
    "all_data[filterrow]"
   ]
  },
  {
   "cell_type": "code",
   "execution_count": 7,
   "id": "3727162f",
   "metadata": {},
   "outputs": [],
   "source": [
    "all_data['Count Max'] = all_data.groupby(['Name'])['Count'].transform(max)\n",
    "idx = all_data['Count'] == all_data['Count Max']\n",
    "all_data_unique = all_data[idx]"
   ]
  },
  {
   "cell_type": "code",
   "execution_count": 8,
   "id": "083856c6",
   "metadata": {},
   "outputs": [
    {
     "data": {
      "text/html": [
       "<div>\n",
       "<style scoped>\n",
       "    .dataframe tbody tr th:only-of-type {\n",
       "        vertical-align: middle;\n",
       "    }\n",
       "\n",
       "    .dataframe tbody tr th {\n",
       "        vertical-align: top;\n",
       "    }\n",
       "\n",
       "    .dataframe thead th {\n",
       "        text-align: right;\n",
       "    }\n",
       "</style>\n",
       "<table border=\"1\" class=\"dataframe\">\n",
       "  <thead>\n",
       "    <tr style=\"text-align: right;\">\n",
       "      <th></th>\n",
       "      <th>Name</th>\n",
       "      <th>Gender</th>\n",
       "      <th>Count</th>\n",
       "      <th>Probability</th>\n",
       "      <th>Name Length</th>\n",
       "      <th>Count Max</th>\n",
       "    </tr>\n",
       "  </thead>\n",
       "  <tbody>\n",
       "    <tr>\n",
       "      <th>0</th>\n",
       "      <td>james</td>\n",
       "      <td>M</td>\n",
       "      <td>5304407</td>\n",
       "      <td>0.014517</td>\n",
       "      <td>5</td>\n",
       "      <td>5304407</td>\n",
       "    </tr>\n",
       "    <tr>\n",
       "      <th>1</th>\n",
       "      <td>john</td>\n",
       "      <td>M</td>\n",
       "      <td>5260831</td>\n",
       "      <td>0.014398</td>\n",
       "      <td>4</td>\n",
       "      <td>5260831</td>\n",
       "    </tr>\n",
       "    <tr>\n",
       "      <th>2</th>\n",
       "      <td>robert</td>\n",
       "      <td>M</td>\n",
       "      <td>4970386</td>\n",
       "      <td>0.013603</td>\n",
       "      <td>6</td>\n",
       "      <td>4970386</td>\n",
       "    </tr>\n",
       "    <tr>\n",
       "      <th>3</th>\n",
       "      <td>michael</td>\n",
       "      <td>M</td>\n",
       "      <td>4579950</td>\n",
       "      <td>0.012534</td>\n",
       "      <td>7</td>\n",
       "      <td>4579950</td>\n",
       "    </tr>\n",
       "    <tr>\n",
       "      <th>4</th>\n",
       "      <td>william</td>\n",
       "      <td>M</td>\n",
       "      <td>4226608</td>\n",
       "      <td>0.011567</td>\n",
       "      <td>7</td>\n",
       "      <td>4226608</td>\n",
       "    </tr>\n",
       "  </tbody>\n",
       "</table>\n",
       "</div>"
      ],
      "text/plain": [
       "      Name Gender    Count  Probability  Name Length  Count Max\n",
       "0    james      M  5304407     0.014517            5    5304407\n",
       "1     john      M  5260831     0.014398            4    5260831\n",
       "2   robert      M  4970386     0.013603            6    4970386\n",
       "3  michael      M  4579950     0.012534            7    4579950\n",
       "4  william      M  4226608     0.011567            7    4226608"
      ]
     },
     "execution_count": 8,
     "metadata": {},
     "output_type": "execute_result"
    }
   ],
   "source": [
    "min_number = 500\n",
    "dataframe_filtered = all_data_unique[all_data_unique[\"Count\"] >= min_number]\n",
    "\n",
    "dataframe_filtered.head()"
   ]
  },
  {
   "cell_type": "code",
   "execution_count": 9,
   "id": "3931135f",
   "metadata": {},
   "outputs": [
    {
     "data": {
      "image/png": "[encoded data removed]",
      "text/plain": [
       "<Figure size 864x576 with 1 Axes>"
      ]
     },
     "metadata": {
      "needs_background": "light"
     },
     "output_type": "display_data"
    }
   ],
   "source": [
    "%matplotlib inline\n",
    "import matplotlib.pyplot as plt\n",
    "import seaborn as sns\n",
    "\n",
    "plt.figure(figsize=(12,8))\n",
    "plt.hist(dataframe_filtered['Name Length'], bins=36)\n",
    "plt.title(\"Length of the names\")\n",
    "plt.show()"
   ]
  },
  {
   "cell_type": "code",
   "execution_count": 10,
   "id": "0f595554",
   "metadata": {},
   "outputs": [],
   "source": [
    "maxlen = dataframe_filtered['Name Length'].max()"
   ]
  },
  {
   "cell_type": "code",
   "execution_count": 11,
   "id": "d00442ea",
   "metadata": {},
   "outputs": [
    {
     "data": {
      "text/plain": [
       "F    10106\n",
       "M     6396\n",
       "Name: Gender, dtype: int64"
      ]
     },
     "execution_count": 11,
     "metadata": {},
     "output_type": "execute_result"
    }
   ],
   "source": [
    "dataframe_filtered['Gender'].value_counts(normalize=False)"
   ]
  },
  {
   "cell_type": "code",
   "execution_count": 12,
   "id": "9592d4af",
   "metadata": {},
   "outputs": [
    {
     "data": {
      "text/html": [
       "<div>\n",
       "<style scoped>\n",
       "    .dataframe tbody tr th:only-of-type {\n",
       "        vertical-align: middle;\n",
       "    }\n",
       "\n",
       "    .dataframe tbody tr th {\n",
       "        vertical-align: top;\n",
       "    }\n",
       "\n",
       "    .dataframe thead th {\n",
       "        text-align: right;\n",
       "    }\n",
       "</style>\n",
       "<table border=\"1\" class=\"dataframe\">\n",
       "  <thead>\n",
       "    <tr style=\"text-align: right;\">\n",
       "      <th></th>\n",
       "      <th>Name</th>\n",
       "      <th>Gender</th>\n",
       "      <th>Count</th>\n",
       "      <th>Probability</th>\n",
       "      <th>Name Length</th>\n",
       "      <th>Count Max</th>\n",
       "    </tr>\n",
       "  </thead>\n",
       "  <tbody>\n",
       "    <tr>\n",
       "      <th>0</th>\n",
       "      <td>james</td>\n",
       "      <td>M</td>\n",
       "      <td>5304407</td>\n",
       "      <td>0.014517</td>\n",
       "      <td>5</td>\n",
       "      <td>5304407</td>\n",
       "    </tr>\n",
       "    <tr>\n",
       "      <th>1</th>\n",
       "      <td>john</td>\n",
       "      <td>M</td>\n",
       "      <td>5260831</td>\n",
       "      <td>0.014398</td>\n",
       "      <td>4</td>\n",
       "      <td>5260831</td>\n",
       "    </tr>\n",
       "    <tr>\n",
       "      <th>2</th>\n",
       "      <td>robert</td>\n",
       "      <td>M</td>\n",
       "      <td>4970386</td>\n",
       "      <td>0.013603</td>\n",
       "      <td>6</td>\n",
       "      <td>4970386</td>\n",
       "    </tr>\n",
       "    <tr>\n",
       "      <th>3</th>\n",
       "      <td>michael</td>\n",
       "      <td>M</td>\n",
       "      <td>4579950</td>\n",
       "      <td>0.012534</td>\n",
       "      <td>7</td>\n",
       "      <td>4579950</td>\n",
       "    </tr>\n",
       "    <tr>\n",
       "      <th>4</th>\n",
       "      <td>william</td>\n",
       "      <td>M</td>\n",
       "      <td>4226608</td>\n",
       "      <td>0.011567</td>\n",
       "      <td>7</td>\n",
       "      <td>4226608</td>\n",
       "    </tr>\n",
       "  </tbody>\n",
       "</table>\n",
       "</div>"
      ],
      "text/plain": [
       "      Name Gender    Count  Probability  Name Length  Count Max\n",
       "0    james      M  5304407     0.014517            5    5304407\n",
       "1     john      M  5260831     0.014398            4    5260831\n",
       "2   robert      M  4970386     0.013603            6    4970386\n",
       "3  michael      M  4579950     0.012534            7    4579950\n",
       "4  william      M  4226608     0.011567            7    4226608"
      ]
     },
     "execution_count": 12,
     "metadata": {},
     "output_type": "execute_result"
    }
   ],
   "source": [
    "dataframe_filtered.head()"
   ]
  },
  {
   "cell_type": "code",
   "execution_count": 13,
   "id": "4e79daab",
   "metadata": {},
   "outputs": [],
   "source": [
    "def gender2float(gender):\n",
    "    return 1.0 if gender == 'F' else 0.0\n",
    "\n",
    "def float2gender(num, threshold=0.1):\n",
    "    if num < 0.5 - threshold:\n",
    "        return 'M'\n",
    "    if num > 0.5 + threshold:\n",
    "        return 'F'\n",
    "    return 'UNKNOWN'"
   ]
  },
  {
   "cell_type": "code",
   "execution_count": 14,
   "id": "22a2e698",
   "metadata": {},
   "outputs": [],
   "source": [
    "all_data['Gender'] = all_data['Gender'].apply(gender2float)"
   ]
  },
  {
   "cell_type": "code",
   "execution_count": 15,
   "id": "64d08e66",
   "metadata": {},
   "outputs": [
    {
     "data": {
      "text/html": [
       "<div>\n",
       "<style scoped>\n",
       "    .dataframe tbody tr th:only-of-type {\n",
       "        vertical-align: middle;\n",
       "    }\n",
       "\n",
       "    .dataframe tbody tr th {\n",
       "        vertical-align: top;\n",
       "    }\n",
       "\n",
       "    .dataframe thead th {\n",
       "        text-align: right;\n",
       "    }\n",
       "</style>\n",
       "<table border=\"1\" class=\"dataframe\">\n",
       "  <thead>\n",
       "    <tr style=\"text-align: right;\">\n",
       "      <th></th>\n",
       "      <th>Name</th>\n",
       "      <th>Gender</th>\n",
       "      <th>Count</th>\n",
       "      <th>Probability</th>\n",
       "      <th>Name Length</th>\n",
       "      <th>Count Max</th>\n",
       "    </tr>\n",
       "  </thead>\n",
       "  <tbody>\n",
       "    <tr>\n",
       "      <th>0</th>\n",
       "      <td>james</td>\n",
       "      <td>0.0</td>\n",
       "      <td>5304407</td>\n",
       "      <td>0.014517</td>\n",
       "      <td>5</td>\n",
       "      <td>5304407</td>\n",
       "    </tr>\n",
       "    <tr>\n",
       "      <th>1</th>\n",
       "      <td>john</td>\n",
       "      <td>0.0</td>\n",
       "      <td>5260831</td>\n",
       "      <td>0.014398</td>\n",
       "      <td>4</td>\n",
       "      <td>5260831</td>\n",
       "    </tr>\n",
       "    <tr>\n",
       "      <th>2</th>\n",
       "      <td>robert</td>\n",
       "      <td>0.0</td>\n",
       "      <td>4970386</td>\n",
       "      <td>0.013603</td>\n",
       "      <td>6</td>\n",
       "      <td>4970386</td>\n",
       "    </tr>\n",
       "    <tr>\n",
       "      <th>3</th>\n",
       "      <td>michael</td>\n",
       "      <td>0.0</td>\n",
       "      <td>4579950</td>\n",
       "      <td>0.012534</td>\n",
       "      <td>7</td>\n",
       "      <td>4579950</td>\n",
       "    </tr>\n",
       "    <tr>\n",
       "      <th>4</th>\n",
       "      <td>william</td>\n",
       "      <td>0.0</td>\n",
       "      <td>4226608</td>\n",
       "      <td>0.011567</td>\n",
       "      <td>7</td>\n",
       "      <td>4226608</td>\n",
       "    </tr>\n",
       "  </tbody>\n",
       "</table>\n",
       "</div>"
      ],
      "text/plain": [
       "      Name  Gender    Count  Probability  Name Length  Count Max\n",
       "0    james     0.0  5304407     0.014517            5    5304407\n",
       "1     john     0.0  5260831     0.014398            4    5260831\n",
       "2   robert     0.0  4970386     0.013603            6    4970386\n",
       "3  michael     0.0  4579950     0.012534            7    4579950\n",
       "4  william     0.0  4226608     0.011567            7    4226608"
      ]
     },
     "execution_count": 15,
     "metadata": {},
     "output_type": "execute_result"
    }
   ],
   "source": [
    "all_data.head()"
   ]
  },
  {
   "cell_type": "code",
   "execution_count": 16,
   "id": "f13a7d1f",
   "metadata": {},
   "outputs": [
    {
     "data": {
      "text/html": [
       "<div>\n",
       "<style scoped>\n",
       "    .dataframe tbody tr th:only-of-type {\n",
       "        vertical-align: middle;\n",
       "    }\n",
       "\n",
       "    .dataframe tbody tr th {\n",
       "        vertical-align: top;\n",
       "    }\n",
       "\n",
       "    .dataframe thead th {\n",
       "        text-align: right;\n",
       "    }\n",
       "</style>\n",
       "<table border=\"1\" class=\"dataframe\">\n",
       "  <thead>\n",
       "    <tr style=\"text-align: right;\">\n",
       "      <th></th>\n",
       "      <th>Name</th>\n",
       "      <th>Gender</th>\n",
       "      <th>Count</th>\n",
       "      <th>Probability</th>\n",
       "    </tr>\n",
       "  </thead>\n",
       "  <tbody>\n",
       "    <tr>\n",
       "      <th>0</th>\n",
       "      <td>james</td>\n",
       "      <td>0.0</td>\n",
       "      <td>5304407</td>\n",
       "      <td>0.014517</td>\n",
       "    </tr>\n",
       "    <tr>\n",
       "      <th>1</th>\n",
       "      <td>john</td>\n",
       "      <td>0.0</td>\n",
       "      <td>5260831</td>\n",
       "      <td>0.014398</td>\n",
       "    </tr>\n",
       "    <tr>\n",
       "      <th>2</th>\n",
       "      <td>robert</td>\n",
       "      <td>0.0</td>\n",
       "      <td>4970386</td>\n",
       "      <td>0.013603</td>\n",
       "    </tr>\n",
       "    <tr>\n",
       "      <th>3</th>\n",
       "      <td>michael</td>\n",
       "      <td>0.0</td>\n",
       "      <td>4579950</td>\n",
       "      <td>0.012534</td>\n",
       "    </tr>\n",
       "    <tr>\n",
       "      <th>4</th>\n",
       "      <td>william</td>\n",
       "      <td>0.0</td>\n",
       "      <td>4226608</td>\n",
       "      <td>0.011567</td>\n",
       "    </tr>\n",
       "  </tbody>\n",
       "</table>\n",
       "</div>"
      ],
      "text/plain": [
       "      Name  Gender    Count  Probability\n",
       "0    james     0.0  5304407     0.014517\n",
       "1     john     0.0  5260831     0.014398\n",
       "2   robert     0.0  4970386     0.013603\n",
       "3  michael     0.0  4579950     0.012534\n",
       "4  william     0.0  4226608     0.011567"
      ]
     },
     "execution_count": 16,
     "metadata": {},
     "output_type": "execute_result"
    }
   ],
   "source": [
    "all_data.pop(\"Count Max\")\n",
    "all_data.pop(\"Name Length\")\n",
    "all_data.head()"
   ]
  },
  {
   "cell_type": "code",
   "execution_count": 17,
   "id": "053be4dd",
   "metadata": {},
   "outputs": [],
   "source": [
    "def features(name):\n",
    "    return {\n",
    "        'first-letter': name[0], # First letter\n",
    "        'first2-letters': name[0:2], # First 2 letters\n",
    "        'first3-letters': name[0:3], # First 3 letters\n",
    "        'last-letter': name[-1],\n",
    "        'last2-letters': name[-2:],\n",
    "        'last3-letters': name[-3:],\n",
    "    }\n",
    "\n",
    "features = np.vectorize(features)"
   ]
  },
  {
   "cell_type": "code",
   "execution_count": 18,
   "id": "da865a27",
   "metadata": {},
   "outputs": [
    {
     "data": {
      "text/plain": [
       "array({'first-letter': 'f', 'first2-letters': 'fa', 'first3-letters': 'fab', 'last-letter': 'o', 'last2-letters': 'io', 'last3-letters': 'bio'},\n",
       "      dtype=object)"
      ]
     },
     "execution_count": 18,
     "metadata": {},
     "output_type": "execute_result"
    }
   ],
   "source": [
    "features(\"fabio\")"
   ]
  },
  {
   "cell_type": "code",
   "execution_count": 19,
   "id": "70f8390a",
   "metadata": {},
   "outputs": [],
   "source": [
    "namedataset = features(dataframe_filtered['Name'])"
   ]
  },
  {
   "cell_type": "code",
   "execution_count": 20,
   "id": "f5846854",
   "metadata": {},
   "outputs": [
    {
     "data": {
      "text/plain": [
       "0        0.0\n",
       "1        0.0\n",
       "2        0.0\n",
       "3        0.0\n",
       "4        0.0\n",
       "        ... \n",
       "18132    0.0\n",
       "18133    0.0\n",
       "18134    0.0\n",
       "18135    0.0\n",
       "18136    0.0\n",
       "Name: Gender, Length: 16502, dtype: float64"
      ]
     },
     "execution_count": 20,
     "metadata": {},
     "output_type": "execute_result"
    }
   ],
   "source": [
    "genderdataset = dataframe_filtered['Gender'].apply(gender2float)\n",
    "genderdataset"
   ]
  },
  {
   "cell_type": "code",
   "execution_count": 21,
   "id": "9f834520",
   "metadata": {},
   "outputs": [
    {
     "data": {
      "text/plain": [
       "matrix([[1., 0., 1., 0., 1., 0., 1., 1., 0., 0., 1.],\n",
       "        [0., 1., 0., 1., 0., 1., 1., 0., 1., 1., 0.]])"
      ]
     },
     "execution_count": 21,
     "metadata": {},
     "output_type": "execute_result"
    }
   ],
   "source": [
    "from sklearn.feature_extraction import DictVectorizer\n",
    " \n",
    "corpus = features([\"fabio\", \"stefano\"])\n",
    "dv = DictVectorizer()\n",
    "dv.fit(corpus)\n",
    "transformed = dv.transform(corpus)\n",
    "transformed.todense()"
   ]
  },
  {
   "cell_type": "code",
   "execution_count": 22,
   "id": "326bd799",
   "metadata": {},
   "outputs": [
    {
     "data": {
      "text/plain": [
       "['first-letter=f',\n",
       " 'first-letter=s',\n",
       " 'first2-letters=fa',\n",
       " 'first2-letters=st',\n",
       " 'first3-letters=fab',\n",
       " 'first3-letters=ste',\n",
       " 'last-letter=o',\n",
       " 'last2-letters=io',\n",
       " 'last2-letters=no',\n",
       " 'last3-letters=ano',\n",
       " 'last3-letters=bio']"
      ]
     },
     "execution_count": 22,
     "metadata": {},
     "output_type": "execute_result"
    }
   ],
   "source": [
    "dv.get_feature_names()"
   ]
  },
  {
   "cell_type": "code",
   "execution_count": 23,
   "id": "228921cc",
   "metadata": {},
   "outputs": [],
   "source": [
    "from sklearn.model_selection import train_test_split\n",
    "X_train, X_test, y_train, y_test = train_test_split(namedataset, genderdataset, test_size=0.20)"
   ]
  },
  {
   "cell_type": "code",
   "execution_count": 24,
   "id": "27b941ac",
   "metadata": {},
   "outputs": [],
   "source": [
    "dv = DictVectorizer()\n",
    "X_train = dv.fit_transform(X_train)"
   ]
  },
  {
   "cell_type": "code",
   "execution_count": 25,
   "id": "a07c9cf9",
   "metadata": {},
   "outputs": [
    {
     "data": {
      "text/plain": [
       "(13201, 4287)"
      ]
     },
     "execution_count": 25,
     "metadata": {},
     "output_type": "execute_result"
    }
   ],
   "source": [
    "X_train\n",
    "X_train.shape"
   ]
  },
  {
   "cell_type": "code",
   "execution_count": 26,
   "id": "1530243c",
   "metadata": {},
   "outputs": [
    {
     "data": {
      "text/plain": [
       "(3301, 4287)"
      ]
     },
     "execution_count": 26,
     "metadata": {},
     "output_type": "execute_result"
    }
   ],
   "source": [
    "X_test = dv.transform(X_test)\n",
    "X_test.shape"
   ]
  },
  {
   "cell_type": "code",
   "execution_count": 27,
   "id": "e924d48b",
   "metadata": {},
   "outputs": [
    {
     "name": "stdout",
     "output_type": "stream",
     "text": [
      "Elaborazione eseguita in 9.48 secondi\n"
     ]
    }
   ],
   "source": [
    "from sklearn.feature_selection import SelectKBest, mutual_info_classif\n",
    "import time\n",
    "\n",
    "selector = SelectKBest(mutual_info_classif, k=2000)\n",
    "\n",
    "start = time.time()\n",
    "X_train = selector.fit_transform(X_train, y_train)\n",
    "X_test = selector.transform(X_test)\n",
    "end = time.time()\n",
    "print(\"Elaborazione eseguita in {0:.2f} secondi\".format(end - start))\n"
   ]
  },
  {
   "cell_type": "code",
   "execution_count": 28,
   "id": "37fed485",
   "metadata": {},
   "outputs": [
    {
     "name": "stdout",
     "output_type": "stream",
     "text": [
      "Fitting 3 folds for each of 100 candidates, totalling 300 fits\n",
      "Elaborazione eseguita in 371.77 secondi\n",
      "L'accuratezza del modello è 88.25%\n",
      "{'var_smoothing': 0.002848035868435802}\n"
     ]
    }
   ],
   "source": [
    "from sklearn.model_selection import GridSearchCV\n",
    "from sklearn.naive_bayes import GaussianNB\n",
    "\n",
    "gnbmodel = GaussianNB()\n",
    "param_grid_nb = {\n",
    "    'var_smoothing': np.logspace(0,-9, num=100)\n",
    "}\n",
    "\n",
    "nbgrid = GridSearchCV(estimator=gnbmodel, param_grid=param_grid_nb, verbose=1, cv=3, n_jobs=-1)\n",
    "\n",
    "start = time.time()\n",
    "nbgrid.fit(X_train.todense(), y_train)\n",
    "end = time.time()\n",
    "print(\"Elaborazione eseguita in {0:.2f} secondi\".format(end - start))\n",
    "\n",
    "\n",
    "print(\"L'accuratezza del modello è {0:.2f}%\".format(nbgrid.best_score_ * 100))\n",
    "print(nbgrid.best_params_)"
   ]
  },
  {
   "cell_type": "code",
   "execution_count": 29,
   "id": "c2370e85",
   "metadata": {},
   "outputs": [],
   "source": [
    "y_hat = nbgrid.predict(X_test.todense())"
   ]
  },
  {
   "cell_type": "code",
   "execution_count": 30,
   "id": "a908ce3e",
   "metadata": {},
   "outputs": [
    {
     "name": "stdout",
     "output_type": "stream",
     "text": [
      "L'accuratezza del modello in test 87.40%\n",
      "              precision    recall  f1-score   support\n",
      "\n",
      "         0.0       0.87      0.78      0.82      1249\n",
      "         1.0       0.88      0.93      0.90      2052\n",
      "\n",
      "    accuracy                           0.87      3301\n",
      "   macro avg       0.87      0.86      0.86      3301\n",
      "weighted avg       0.87      0.87      0.87      3301\n",
      "\n"
     ]
    }
   ],
   "source": [
    "from sklearn.metrics import accuracy_score,classification_report,confusion_matrix\n",
    "\n",
    "print(\"L'accuratezza del modello in test {0:.2f}%\".format(accuracy_score(y_test, y_hat) * 100))\n",
    "print(classification_report(y_test, y_hat))\n"
   ]
  },
  {
   "cell_type": "code",
   "execution_count": 31,
   "id": "afe37092",
   "metadata": {},
   "outputs": [
    {
     "data": {
      "text/plain": [
       "array([[ 980,  269],\n",
       "       [ 147, 1905]], dtype=int64)"
      ]
     },
     "execution_count": 31,
     "metadata": {},
     "output_type": "execute_result"
    }
   ],
   "source": [
    "import seaborn as sn\n",
    "\n",
    "#sn.heatmap(confusion_matrix(y_test, y_hat), annot=True)\n",
    "\n",
    "confusion_matrix(y_test, y_hat)"
   ]
  },
  {
   "cell_type": "code",
   "execution_count": 32,
   "id": "bf41fed3",
   "metadata": {},
   "outputs": [
    {
     "name": "stdout",
     "output_type": "stream",
     "text": [
      "Fitting 5 folds for each of 10 candidates, totalling 50 fits\n",
      "Elaborazione eseguita in 6.69 secondi\n",
      "L'accuratezza del modello è 88.49%\n",
      "{'penalty': 'l2', 'C': 1.4736842105263157}\n"
     ]
    },
    {
     "name": "stderr",
     "output_type": "stream",
     "text": [
      "C:\\ProgramData\\Anaconda3\\lib\\site-packages\\sklearn\\model_selection\\_search.py:922: UserWarning: One or more of the test scores are non-finite: [       nan        nan 0.88144852 0.8805394  0.88493313 0.88016067\n",
      "        nan 0.88076673        nan 0.88053942]\n",
      "  warnings.warn(\n"
     ]
    }
   ],
   "source": [
    "from sklearn.svm import LinearSVC\n",
    "from sklearn.model_selection import RandomizedSearchCV\n",
    "\n",
    "\n",
    "param_distributions = {\"C\": np.linspace(1, 10,num = 20),\"penalty\":['l1', 'l2']}\n",
    "svcmodel = LinearSVC()\n",
    "\n",
    "svcmodelgrid = RandomizedSearchCV(svcmodel, param_distributions, verbose=1, cv=5, n_jobs=-1)\n",
    "\n",
    "start = time.time()\n",
    "svcmodelgrid.fit(X_train, y_train)\n",
    "end = time.time()\n",
    "print(\"Elaborazione eseguita in {0:.2f} secondi\".format(end - start))\n",
    "\n",
    "\n",
    "print(\"L'accuratezza del modello è {0:.2f}%\".format(svcmodelgrid.best_score_ * 100))\n",
    "print(svcmodelgrid.best_params_)\n"
   ]
  },
  {
   "cell_type": "code",
   "execution_count": 33,
   "id": "b52f22e1",
   "metadata": {},
   "outputs": [
    {
     "name": "stdout",
     "output_type": "stream",
     "text": [
      "L'accuratezza del modello in test 87.94%\n",
      "              precision    recall  f1-score   support\n",
      "\n",
      "         0.0       0.84      0.84      0.84      1249\n",
      "         1.0       0.90      0.90      0.90      2052\n",
      "\n",
      "    accuracy                           0.88      3301\n",
      "   macro avg       0.87      0.87      0.87      3301\n",
      "weighted avg       0.88      0.88      0.88      3301\n",
      "\n"
     ]
    }
   ],
   "source": [
    "y_hat = svcmodelgrid.predict(X_test)\n",
    "\n",
    "print(\"L'accuratezza del modello in test {0:.2f}%\".format(accuracy_score(y_test, y_hat) * 100))\n",
    "print(classification_report(y_test, y_hat))\n"
   ]
  },
  {
   "cell_type": "code",
   "execution_count": 34,
   "id": "8f7aa502",
   "metadata": {},
   "outputs": [
    {
     "data": {
      "text/plain": [
       "array([[1054,  195],\n",
       "       [ 203, 1849]], dtype=int64)"
      ]
     },
     "execution_count": 34,
     "metadata": {},
     "output_type": "execute_result"
    }
   ],
   "source": [
    "confusion_matrix(y_test, y_hat)"
   ]
  },
  {
   "cell_type": "code",
   "execution_count": 35,
   "id": "068d421e",
   "metadata": {},
   "outputs": [
    {
     "name": "stdout",
     "output_type": "stream",
     "text": [
      "Fitting 5 folds for each of 12 candidates, totalling 60 fits\n",
      "Elaborazione eseguita in 65.93 secondi\n",
      "L'accuratezza del modello è 87.36%\n",
      "{'max_depth': 5, 'n_estimators': 700}\n"
     ]
    }
   ],
   "source": [
    "from sklearn.ensemble import GradientBoostingClassifier\n",
    "\n",
    "param_distributions = {'n_estimators':[100,300,500,700],'max_depth':[1,3,5]}\n",
    "gmodel = GradientBoostingClassifier()\n",
    "ggrid = GridSearchCV(estimator=gmodel, param_grid=param_distributions, verbose=1, cv=5, n_jobs=-1)\n",
    "\n",
    "\n",
    "start = time.time()\n",
    "ggrid.fit(X_train, y_train)\n",
    "end = time.time()\n",
    "print(\"Elaborazione eseguita in {0:.2f} secondi\".format(end - start))\n",
    "\n",
    "\n",
    "print(\"L'accuratezza del modello è {0:.2f}%\".format(ggrid.best_score_ * 100))\n",
    "print(ggrid.best_params_)\n"
   ]
  },
  {
   "cell_type": "code",
   "execution_count": 36,
   "id": "aa7e44f9",
   "metadata": {},
   "outputs": [
    {
     "name": "stdout",
     "output_type": "stream",
     "text": [
      "L'accuratezza del modello in test 87.64%\n",
      "              precision    recall  f1-score   support\n",
      "\n",
      "         0.0       0.83      0.85      0.84      1249\n",
      "         1.0       0.90      0.90      0.90      2052\n",
      "\n",
      "    accuracy                           0.88      3301\n",
      "   macro avg       0.87      0.87      0.87      3301\n",
      "weighted avg       0.88      0.88      0.88      3301\n",
      "\n"
     ]
    }
   ],
   "source": [
    "y_hat = ggrid.predict(X_test)\n",
    "\n",
    "print(\"L'accuratezza del modello in test {0:.2f}%\".format(accuracy_score(y_test, y_hat) * 100))\n",
    "print(classification_report(y_test, y_hat))"
   ]
  },
  {
   "cell_type": "code",
   "execution_count": 37,
   "id": "ae79440c",
   "metadata": {},
   "outputs": [
    {
     "data": {
      "text/plain": [
       "array([[1056,  193],\n",
       "       [ 215, 1837]], dtype=int64)"
      ]
     },
     "execution_count": 37,
     "metadata": {},
     "output_type": "execute_result"
    }
   ],
   "source": [
    "confusion_matrix(y_test, y_hat)"
   ]
  },
  {
   "cell_type": "code",
   "execution_count": 45,
   "id": "444a02b7",
   "metadata": {},
   "outputs": [
    {
     "data": {
      "text/plain": [
       "<6x2000 sparse matrix of type '<class 'numpy.float64'>'\n",
       "\twith 29 stored elements in Compressed Sparse Row format>"
      ]
     },
     "execution_count": 45,
     "metadata": {},
     "output_type": "execute_result"
    }
   ],
   "source": [
    "prova = ['fabio','luca','stefano','flats','stefania','fomamak']\n",
    "X_prova = dv.transform(features(prova))\n",
    "X_prova = selector.transform(X_prova)\n",
    "X_prova"
   ]
  },
  {
   "cell_type": "code",
   "execution_count": 46,
   "id": "74b20042",
   "metadata": {},
   "outputs": [
    {
     "data": {
      "text/plain": [
       "array([0.06381768, 0.34772895, 0.08118477, 0.22443729, 0.97479757,\n",
       "       0.04955789])"
      ]
     },
     "execution_count": 46,
     "metadata": {},
     "output_type": "execute_result"
    }
   ],
   "source": [
    "X_prova_result = ggrid.predict_proba(X_prova)\n",
    "X_prova_result[:,1]"
   ]
  },
  {
   "cell_type": "code",
   "execution_count": 47,
   "id": "0a110357",
   "metadata": {},
   "outputs": [
    {
     "data": {
      "text/plain": [
       "['M', 'M', 'M', 'M', 'F', 'M']"
      ]
     },
     "execution_count": 47,
     "metadata": {},
     "output_type": "execute_result"
    }
   ],
   "source": [
    "X_prova_result = [float2gender(i) for i in X_prova_result[:,1]]\n",
    "X_prova_result"
   ]
  },
  {
   "cell_type": "code",
   "execution_count": 48,
   "id": "238a8e2d",
   "metadata": {},
   "outputs": [
    {
     "data": {
      "text/plain": [
       "array([0., 0., 0., 1., 1., 0.])"
      ]
     },
     "execution_count": 48,
     "metadata": {},
     "output_type": "execute_result"
    }
   ],
   "source": [
    "X_prova_result = svcmodelgrid.predict(X_prova)\n",
    "X_prova_result"
   ]
  },
  {
   "cell_type": "code",
   "execution_count": 49,
   "id": "4ba39b8c",
   "metadata": {},
   "outputs": [
    {
     "data": {
      "text/plain": [
       "['M', 'M', 'M', 'F', 'F', 'M']"
      ]
     },
     "execution_count": 49,
     "metadata": {},
     "output_type": "execute_result"
    }
   ],
   "source": [
    "X_prova_result = [float2gender(i) for i in X_prova_result]\n",
    "X_prova_result"
   ]
  },
  {
   "cell_type": "code",
   "execution_count": 43,
   "id": "764a226a",
   "metadata": {},
   "outputs": [],
   "source": [
    "import pickle\n",
    "filename = 'boosted_model.sav'\n",
    "pickle.dump(ggrid, open(filename, 'wb'))"
   ]
  },
  {
   "cell_type": "code",
   "execution_count": 44,
   "id": "ae994745",
   "metadata": {},
   "outputs": [],
   "source": [
    "import pickle\n",
    "filename = 'svc_model.sav'\n",
    "pickle.dump(svcmodelgrid, open(filename, 'wb'))"
   ]
  },
  {
   "cell_type": "code",
   "execution_count": 58,
   "id": "79a243f3",
   "metadata": {},
   "outputs": [],
   "source": [
    "with open('allnames.txt') as f:\n",
    "    names = f.read().splitlines() \n",
    "    \n",
    "df = pd.DataFrame(data = names,  columns = ['Name'])\n",
    "df['Name'] = df['Name'].apply(normalize)\n",
    "extracted = features(df['Name'])\n",
    "extracted = dv.transform(extracted)\n",
    "extracted = selector.transform(extracted)\n",
    "df['Gender'] = svcmodelgrid.predict(extracted)"
   ]
  },
  {
   "cell_type": "code",
   "execution_count": 59,
   "id": "2a276112",
   "metadata": {},
   "outputs": [
    {
     "data": {
      "text/html": [
       "<div>\n",
       "<style scoped>\n",
       "    .dataframe tbody tr th:only-of-type {\n",
       "        vertical-align: middle;\n",
       "    }\n",
       "\n",
       "    .dataframe tbody tr th {\n",
       "        vertical-align: top;\n",
       "    }\n",
       "\n",
       "    .dataframe thead th {\n",
       "        text-align: right;\n",
       "    }\n",
       "</style>\n",
       "<table border=\"1\" class=\"dataframe\">\n",
       "  <thead>\n",
       "    <tr style=\"text-align: right;\">\n",
       "      <th></th>\n",
       "      <th>Name</th>\n",
       "      <th>Gender</th>\n",
       "    </tr>\n",
       "  </thead>\n",
       "  <tbody>\n",
       "    <tr>\n",
       "      <th>0</th>\n",
       "      <td>fomamak</td>\n",
       "      <td>0.0</td>\n",
       "    </tr>\n",
       "    <tr>\n",
       "      <th>1</th>\n",
       "      <td>terope</td>\n",
       "      <td>1.0</td>\n",
       "    </tr>\n",
       "    <tr>\n",
       "      <th>2</th>\n",
       "      <td>naish</td>\n",
       "      <td>0.0</td>\n",
       "    </tr>\n",
       "    <tr>\n",
       "      <th>3</th>\n",
       "      <td>croos</td>\n",
       "      <td>0.0</td>\n",
       "    </tr>\n",
       "    <tr>\n",
       "      <th>4</th>\n",
       "      <td>yos</td>\n",
       "      <td>0.0</td>\n",
       "    </tr>\n",
       "    <tr>\n",
       "      <th>...</th>\n",
       "      <td>...</td>\n",
       "      <td>...</td>\n",
       "    </tr>\n",
       "    <tr>\n",
       "      <th>2878</th>\n",
       "      <td>billa</td>\n",
       "      <td>1.0</td>\n",
       "    </tr>\n",
       "    <tr>\n",
       "      <th>2879</th>\n",
       "      <td>ainon</td>\n",
       "      <td>1.0</td>\n",
       "    </tr>\n",
       "    <tr>\n",
       "      <th>2880</th>\n",
       "      <td>price</td>\n",
       "      <td>1.0</td>\n",
       "    </tr>\n",
       "    <tr>\n",
       "      <th>2881</th>\n",
       "      <td>erice</td>\n",
       "      <td>1.0</td>\n",
       "    </tr>\n",
       "    <tr>\n",
       "      <th>2882</th>\n",
       "      <td>skaton</td>\n",
       "      <td>1.0</td>\n",
       "    </tr>\n",
       "  </tbody>\n",
       "</table>\n",
       "<p>2883 rows × 2 columns</p>\n",
       "</div>"
      ],
      "text/plain": [
       "         Name  Gender\n",
       "0     fomamak     0.0\n",
       "1      terope     1.0\n",
       "2       naish     0.0\n",
       "3       croos     0.0\n",
       "4         yos     0.0\n",
       "...       ...     ...\n",
       "2878    billa     1.0\n",
       "2879    ainon     1.0\n",
       "2880    price     1.0\n",
       "2881    erice     1.0\n",
       "2882   skaton     1.0\n",
       "\n",
       "[2883 rows x 2 columns]"
      ]
     },
     "execution_count": 59,
     "metadata": {},
     "output_type": "execute_result"
    }
   ],
   "source": [
    "df"
   ]
  },
  {
   "cell_type": "code",
   "execution_count": 78,
   "id": "2daca6b9",
   "metadata": {},
   "outputs": [
    {
     "data": {
      "text/html": [
       "<div>\n",
       "<style scoped>\n",
       "    .dataframe tbody tr th:only-of-type {\n",
       "        vertical-align: middle;\n",
       "    }\n",
       "\n",
       "    .dataframe tbody tr th {\n",
       "        vertical-align: top;\n",
       "    }\n",
       "\n",
       "    .dataframe thead th {\n",
       "        text-align: right;\n",
       "    }\n",
       "</style>\n",
       "<table border=\"1\" class=\"dataframe\">\n",
       "  <thead>\n",
       "    <tr style=\"text-align: right;\">\n",
       "      <th></th>\n",
       "      <th>Name</th>\n",
       "      <th>Gender</th>\n",
       "      <th>Correct Gender</th>\n",
       "    </tr>\n",
       "  </thead>\n",
       "  <tbody>\n",
       "    <tr>\n",
       "      <th>2</th>\n",
       "      <td>naish</td>\n",
       "      <td>0.0</td>\n",
       "      <td>0.0</td>\n",
       "    </tr>\n",
       "    <tr>\n",
       "      <th>8</th>\n",
       "      <td>gracey</td>\n",
       "      <td>1.0</td>\n",
       "      <td>1.0</td>\n",
       "    </tr>\n",
       "    <tr>\n",
       "      <th>10</th>\n",
       "      <td>ireen</td>\n",
       "      <td>1.0</td>\n",
       "      <td>1.0</td>\n",
       "    </tr>\n",
       "    <tr>\n",
       "      <th>11</th>\n",
       "      <td>nicey</td>\n",
       "      <td>1.0</td>\n",
       "      <td>1.0</td>\n",
       "    </tr>\n",
       "    <tr>\n",
       "      <th>21</th>\n",
       "      <td>milyn</td>\n",
       "      <td>1.0</td>\n",
       "      <td>1.0</td>\n",
       "    </tr>\n",
       "    <tr>\n",
       "      <th>...</th>\n",
       "      <td>...</td>\n",
       "      <td>...</td>\n",
       "      <td>...</td>\n",
       "    </tr>\n",
       "    <tr>\n",
       "      <th>2860</th>\n",
       "      <td>sony</td>\n",
       "      <td>0.0</td>\n",
       "      <td>0.0</td>\n",
       "    </tr>\n",
       "    <tr>\n",
       "      <th>2861</th>\n",
       "      <td>oakes</td>\n",
       "      <td>0.0</td>\n",
       "      <td>0.0</td>\n",
       "    </tr>\n",
       "    <tr>\n",
       "      <th>2878</th>\n",
       "      <td>billa</td>\n",
       "      <td>1.0</td>\n",
       "      <td>1.0</td>\n",
       "    </tr>\n",
       "    <tr>\n",
       "      <th>2880</th>\n",
       "      <td>price</td>\n",
       "      <td>1.0</td>\n",
       "      <td>0.0</td>\n",
       "    </tr>\n",
       "    <tr>\n",
       "      <th>2881</th>\n",
       "      <td>erice</td>\n",
       "      <td>1.0</td>\n",
       "      <td>0.0</td>\n",
       "    </tr>\n",
       "  </tbody>\n",
       "</table>\n",
       "<p>749 rows × 3 columns</p>\n",
       "</div>"
      ],
      "text/plain": [
       "        Name  Gender  Correct Gender\n",
       "2      naish     0.0             0.0\n",
       "8     gracey     1.0             1.0\n",
       "10     ireen     1.0             1.0\n",
       "11     nicey     1.0             1.0\n",
       "21     milyn     1.0             1.0\n",
       "...      ...     ...             ...\n",
       "2860    sony     0.0             0.0\n",
       "2861   oakes     0.0             0.0\n",
       "2878   billa     1.0             1.0\n",
       "2880   price     1.0             0.0\n",
       "2881   erice     1.0             0.0\n",
       "\n",
       "[749 rows x 3 columns]"
      ]
     },
     "execution_count": 78,
     "metadata": {},
     "output_type": "execute_result"
    }
   ],
   "source": [
    "for index, row in df.iterrows():\n",
    "    name = row['Name']\n",
    "    \n",
    "    filterrow = all_data_unique['Name'] == name\n",
    "    correct_gender = all_data_unique[filterrow]\n",
    "    \n",
    "    if len(correct_gender) > 0:\n",
    "        df.at[index,'Correct Gender'] = gender2float(correct_gender['Gender'].values[0])"
   ]
  },
  {
   "cell_type": "code",
   "execution_count": 80,
   "id": "6c5cd8a8",
   "metadata": {},
   "outputs": [
    {
     "data": {
      "text/plain": [
       "0.829105473965287"
      ]
     },
     "execution_count": 80,
     "metadata": {},
     "output_type": "execute_result"
    }
   ],
   "source": [
    "check = df.dropna(subset=['Correct Gender']).copy()\n",
    "test = check['Gender'] == check['Correct Gender']\n",
    "\n",
    "test.mean()"
   ]
  },
  {
   "cell_type": "code",
   "execution_count": 81,
   "id": "de418693",
   "metadata": {},
   "outputs": [
    {
     "data": {
      "text/html": [
       "<div>\n",
       "<style scoped>\n",
       "    .dataframe tbody tr th:only-of-type {\n",
       "        vertical-align: middle;\n",
       "    }\n",
       "\n",
       "    .dataframe tbody tr th {\n",
       "        vertical-align: top;\n",
       "    }\n",
       "\n",
       "    .dataframe thead th {\n",
       "        text-align: right;\n",
       "    }\n",
       "</style>\n",
       "<table border=\"1\" class=\"dataframe\">\n",
       "  <thead>\n",
       "    <tr style=\"text-align: right;\">\n",
       "      <th></th>\n",
       "      <th>Name</th>\n",
       "      <th>Gender</th>\n",
       "      <th>Correct Gender</th>\n",
       "    </tr>\n",
       "  </thead>\n",
       "  <tbody>\n",
       "    <tr>\n",
       "      <th>0</th>\n",
       "      <td>fomamak</td>\n",
       "      <td>0.0</td>\n",
       "      <td>NaN</td>\n",
       "    </tr>\n",
       "    <tr>\n",
       "      <th>1</th>\n",
       "      <td>terope</td>\n",
       "      <td>1.0</td>\n",
       "      <td>NaN</td>\n",
       "    </tr>\n",
       "    <tr>\n",
       "      <th>2</th>\n",
       "      <td>naish</td>\n",
       "      <td>0.0</td>\n",
       "      <td>0.0</td>\n",
       "    </tr>\n",
       "    <tr>\n",
       "      <th>3</th>\n",
       "      <td>croos</td>\n",
       "      <td>0.0</td>\n",
       "      <td>NaN</td>\n",
       "    </tr>\n",
       "    <tr>\n",
       "      <th>4</th>\n",
       "      <td>yos</td>\n",
       "      <td>0.0</td>\n",
       "      <td>NaN</td>\n",
       "    </tr>\n",
       "    <tr>\n",
       "      <th>...</th>\n",
       "      <td>...</td>\n",
       "      <td>...</td>\n",
       "      <td>...</td>\n",
       "    </tr>\n",
       "    <tr>\n",
       "      <th>2878</th>\n",
       "      <td>billa</td>\n",
       "      <td>1.0</td>\n",
       "      <td>1.0</td>\n",
       "    </tr>\n",
       "    <tr>\n",
       "      <th>2879</th>\n",
       "      <td>ainon</td>\n",
       "      <td>1.0</td>\n",
       "      <td>NaN</td>\n",
       "    </tr>\n",
       "    <tr>\n",
       "      <th>2880</th>\n",
       "      <td>price</td>\n",
       "      <td>0.0</td>\n",
       "      <td>0.0</td>\n",
       "    </tr>\n",
       "    <tr>\n",
       "      <th>2881</th>\n",
       "      <td>erice</td>\n",
       "      <td>0.0</td>\n",
       "      <td>0.0</td>\n",
       "    </tr>\n",
       "    <tr>\n",
       "      <th>2882</th>\n",
       "      <td>skaton</td>\n",
       "      <td>1.0</td>\n",
       "      <td>NaN</td>\n",
       "    </tr>\n",
       "  </tbody>\n",
       "</table>\n",
       "<p>2883 rows × 3 columns</p>\n",
       "</div>"
      ],
      "text/plain": [
       "         Name  Gender  Correct Gender\n",
       "0     fomamak     0.0             NaN\n",
       "1      terope     1.0             NaN\n",
       "2       naish     0.0             0.0\n",
       "3       croos     0.0             NaN\n",
       "4         yos     0.0             NaN\n",
       "...       ...     ...             ...\n",
       "2878    billa     1.0             1.0\n",
       "2879    ainon     1.0             NaN\n",
       "2880    price     0.0             0.0\n",
       "2881    erice     0.0             0.0\n",
       "2882   skaton     1.0             NaN\n",
       "\n",
       "[2883 rows x 3 columns]"
      ]
     },
     "execution_count": 81,
     "metadata": {},
     "output_type": "execute_result"
    }
   ],
   "source": [
    "for index, row in df.iterrows():\n",
    "    gender = row['Gender']\n",
    "    correct = row['Correct Gender']\n",
    "    \n",
    "    if not pd.isna(correct):\n",
    "        df.at[index,'Gender'] = correct\n",
    "\n",
    "df"
   ]
  },
  {
   "cell_type": "code",
   "execution_count": 82,
   "id": "4e4b360c",
   "metadata": {},
   "outputs": [
    {
     "data": {
      "text/html": [
       "<div>\n",
       "<style scoped>\n",
       "    .dataframe tbody tr th:only-of-type {\n",
       "        vertical-align: middle;\n",
       "    }\n",
       "\n",
       "    .dataframe tbody tr th {\n",
       "        vertical-align: top;\n",
       "    }\n",
       "\n",
       "    .dataframe thead th {\n",
       "        text-align: right;\n",
       "    }\n",
       "</style>\n",
       "<table border=\"1\" class=\"dataframe\">\n",
       "  <thead>\n",
       "    <tr style=\"text-align: right;\">\n",
       "      <th></th>\n",
       "      <th>Name</th>\n",
       "      <th>Gender</th>\n",
       "    </tr>\n",
       "  </thead>\n",
       "  <tbody>\n",
       "    <tr>\n",
       "      <th>0</th>\n",
       "      <td>fomamak</td>\n",
       "      <td>0.0</td>\n",
       "    </tr>\n",
       "    <tr>\n",
       "      <th>1</th>\n",
       "      <td>terope</td>\n",
       "      <td>1.0</td>\n",
       "    </tr>\n",
       "    <tr>\n",
       "      <th>2</th>\n",
       "      <td>naish</td>\n",
       "      <td>0.0</td>\n",
       "    </tr>\n",
       "    <tr>\n",
       "      <th>3</th>\n",
       "      <td>croos</td>\n",
       "      <td>0.0</td>\n",
       "    </tr>\n",
       "    <tr>\n",
       "      <th>4</th>\n",
       "      <td>yos</td>\n",
       "      <td>0.0</td>\n",
       "    </tr>\n",
       "  </tbody>\n",
       "</table>\n",
       "</div>"
      ],
      "text/plain": [
       "      Name  Gender\n",
       "0  fomamak     0.0\n",
       "1   terope     1.0\n",
       "2    naish     0.0\n",
       "3    croos     0.0\n",
       "4      yos     0.0"
      ]
     },
     "execution_count": 82,
     "metadata": {},
     "output_type": "execute_result"
    }
   ],
   "source": [
    "df.pop(\"Correct Gender\")\n",
    "df.head()"
   ]
  },
  {
   "cell_type": "code",
   "execution_count": 83,
   "id": "d2c35475",
   "metadata": {},
   "outputs": [],
   "source": [
    "df.to_csv('titanic_names.csv', index=False)"
   ]
  },
  {
   "cell_type": "code",
   "execution_count": null,
   "id": "0e7e977f",
   "metadata": {},
   "outputs": [],
   "source": []
  }
 ],
 "metadata": {
  "kernelspec": {
   "display_name": "Python 3 (ipykernel)",
   "language": "python",
   "name": "python3"
  },
  "language_info": {
   "codemirror_mode": {
    "name": "ipython",
    "version": 3
   },
   "file_extension": ".py",
   "mimetype": "text/x-python",
   "name": "python",
   "nbconvert_exporter": "python",
   "pygments_lexer": "ipython3",
   "version": "3.9.7"
  }
 },
 "nbformat": 4,
 "nbformat_minor": 5
}
