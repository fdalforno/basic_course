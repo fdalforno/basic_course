{
 "cells": [
  {
   "cell_type": "markdown",
   "id": "civic-chrome",
   "metadata": {},
   "source": [
    "# Apprendimento di insieme\n",
    "\n",
    "Nella parte precedente abbiamo visto come come ottimizzare un modello e come valutarlo. Qui ci concentreremo sulla costruzione di un insieme di classificatori che porta un risultato migliore del classificatore singolo.\n",
    "\n",
    "Esistono più sitemi per combinare più classificatore al fine di creare un metaclassificatore, il più semplice metodo è il cosidetto voto a maggioranza dove si seleziona la classe che ricevuto più del 50% dei voti.\n",
    "\n",
    "Allargando il concetto a problemi multiclasse si ottiene il concetto di pluralità, qui sotto un esempio di voto a maggioranza e pluralità.\n",
    "\n",
    "![votazioni](./images/votazioni.png \"Votazioni\")\n",
    "\n",
    "Utilizzando l'insieme di addestramento di inizia la fase di train degli *m* classificatori (dello stesso tipo o differenti) $(C_{1},...,C_{m})$ per ottenere il voto finale si combinano le previsioni dei vari classificatori selezionando la classe che ha ottenuto il maggior numero di voti $\\hat{y}$.\n",
    "\n",
    "$$\\hat{y} = mode \\left\\{ C_{1}(x),...,C_{n}(x) \\right\\}$$\n",
    "\n",
    "Ma perchè un metodo di insieme funziona meglio di un singolo classificatore? \n",
    "Semplificando il problema supponiamo che tutti gli $n$ classificatori abbiamo un tasso di errore pari a $\\varepsilon$,siano indipendenti e che i tassi di errore non siano correlati tra loro. \n",
    "\n",
    "Con queste supposizione possiamo suppore che la probabilità di errore di un insieme di classificatori sia esprimibile come una distribuzione binomiale.\n",
    "\n",
    "$$P(y>k) = \\sum_{k}^{n} \\binom{n}{k} \\varepsilon^{k} (1-\\varepsilon)^{n-k}$$\n",
    "\n",
    "In altre parole calcoliamo la probabilità che la previsione d'insieme sia errata.\n",
    "Facciamo un esempio concreto, supponiamo di avere 11 classificatori e che il tasso di errore sia 0.25, se 6 classificatori danno lo stesso risultato avremo come risultato\n",
    "\n",
    "$$P(y>k) = \\sum_{k=6}^{11} \\binom{11}{k} \\varepsilon^{k} (1-\\varepsilon)^{11-k} = 0.034$$\n",
    "\n",
    "Come si evince abbiamo un risultato che ha un tasso di errore molto inferiore del classificatore singolo."
   ]
  },
  {
   "cell_type": "code",
   "execution_count": 2,
   "id": "broke-contest",
   "metadata": {},
   "outputs": [],
   "source": [
    "from scipy.special import comb\n",
    "import math\n",
    "\n",
    "def enseble_error(n_classifier,error,k_start = None):\n",
    "    if k_start is None:\n",
    "        k_start = math.ceil(n_classifier / 2.0)\n",
    "    \n",
    "    probs = [comb(n_classifier,k) * (error ** k) * (1 - error) ** (n_classifier - k) for k in range(k_start, n_classifier + 1)]\n",
    "    return sum(probs)"
   ]
  },
  {
   "cell_type": "code",
   "execution_count": 3,
   "id": "academic-penguin",
   "metadata": {},
   "outputs": [
    {
     "data": {
      "text/plain": [
       "0.03432750701904297"
      ]
     },
     "execution_count": 3,
     "metadata": {},
     "output_type": "execute_result"
    }
   ],
   "source": [
    "enseble_error(11,0.25)"
   ]
  },
  {
   "cell_type": "markdown",
   "id": "settled-nylon",
   "metadata": {},
   "source": [
    "Dopo aver implementato la funzione `enseble_error` possiamo calcolare i tassi di errore d'insieme per un intervallo di errore che va da 0.0 a 1.0 e confrontando l'errore singolo con l'errore di insieme.\n",
    "\n"
   ]
  },
  {
   "cell_type": "code",
   "execution_count": 4,
   "id": "warming-northeast",
   "metadata": {},
   "outputs": [
    {
     "data": {
      "text/plain": [
       "[<matplotlib.lines.Line2D at 0x1f3205325b0>]"
      ]
     },
     "execution_count": 4,
     "metadata": {},
     "output_type": "execute_result"
    },
    {
     "data": {
      "image/png": "[encoded data removed]",
      "text/plain": [
       "<Figure size 432x288 with 1 Axes>"
      ]
     },
     "metadata": {
      "needs_background": "light"
     },
     "output_type": "display_data"
    }
   ],
   "source": [
    "import numpy as np\n",
    "import matplotlib.pyplot as plt\n",
    "\n",
    "error_range = np.arange(0.0,1.01,0.01)\n",
    "enseble_errors = [enseble_error(n_classifier=11,error=error) for error in error_range]\n",
    "\n",
    "plt.plot(error_range,enseble_errors,label='Ensemble error',linewidth=2)\n",
    "plt.plot(error_range,error_range,linestyle=\"--\",label='Base Error',linewidth=2)"
   ]
  },
  {
   "cell_type": "markdown",
   "id": "passing-spiritual",
   "metadata": {},
   "source": [
    "Come possiamo vedere se il tasso di errore dell'insieme è sempre migliore se $\\varepsilon < 0.5$ \n",
    "\n",
    "## Implementazione di un classificatore con voto a maggioranza\n",
    "\n",
    "in questa parte implementiamo un semplice algoritmo di *\"voto a maggioranza\"*, con l'obiettivo di costruire un metaclassificatore che compensi i punti deboli di un singolo classificatore.\n",
    "\n",
    "Ad ogni classificatore singolo verrà associato un peso che andrà a costruire la votazione finale.\n",
    "Traduciamo il concetto in python per rendere la spiegazione più comprensibile:"
   ]
  },
  {
   "cell_type": "code",
   "execution_count": 5,
   "id": "crude-television",
   "metadata": {},
   "outputs": [
    {
     "data": {
      "text/plain": [
       "1"
      ]
     },
     "execution_count": 5,
     "metadata": {},
     "output_type": "execute_result"
    }
   ],
   "source": [
    "votes = [0,0,1]\n",
    "w = [0.2,0.2,0.6]\n",
    "\n",
    "np.argmax(np.bincount(votes,weights = w))\n"
   ]
  },
  {
   "cell_type": "markdown",
   "id": "selected-program",
   "metadata": {},
   "source": [
    "possiamo implementare anche un metaclassificatore che restituisca la probabilità delle etichiette come visto in passato, qui sotto un esempio di codice."
   ]
  },
  {
   "cell_type": "code",
   "execution_count": 6,
   "id": "green-receipt",
   "metadata": {},
   "outputs": [],
   "source": [
    "probs = [[0.9,0.1],\n",
    "         [0.8,0.2],\n",
    "         [0.4,0.6]]\n",
    "\n",
    "\n",
    "p = np.average(probs,axis=0,weights = w)"
   ]
  },
  {
   "cell_type": "markdown",
   "id": "saved-latex",
   "metadata": {},
   "source": [
    "Uniamo quello che abbiamo visto in una unica classe"
   ]
  },
  {
   "cell_type": "code",
   "execution_count": 7,
   "id": "strong-representation",
   "metadata": {},
   "outputs": [],
   "source": [
    "from sklearn.base import BaseEstimator\n",
    "from sklearn.base import ClassifierMixin\n",
    "from sklearn.preprocessing import LabelEncoder\n",
    "from sklearn.base import clone\n",
    "from sklearn.pipeline import _name_estimators\n",
    "import operator\n",
    "\n",
    "class MajorityVoteClassifier(BaseEstimator, \n",
    "                             ClassifierMixin):\n",
    "    \"\"\" A majority vote ensemble classifier\n",
    "    Parameters\n",
    "    ----------\n",
    "    classifiers : array-like, shape = [n_classifiers]\n",
    "      Different classifiers for the ensemble\n",
    "    vote : str, {'classlabel', 'probability'} (default='classlabel')\n",
    "      If 'classlabel' the prediction is based on the argmax of\n",
    "        class labels. Else if 'probability', the argmax of\n",
    "        the sum of probabilities is used to predict the class label\n",
    "        (recommended for calibrated classifiers).\n",
    "    weights : array-like, shape = [n_classifiers], optional (default=None)\n",
    "      If a list of `int` or `float` values are provided, the classifiers\n",
    "      are weighted by importance; Uses uniform weights if `weights=None`.\n",
    "    \"\"\"\n",
    "    def __init__(self, classifiers, vote='classlabel', weights=None):\n",
    "\n",
    "        self.classifiers = classifiers\n",
    "        self.named_classifiers = {key: value for key, value\n",
    "                                  in _name_estimators(classifiers)}\n",
    "        self.vote = vote\n",
    "        self.weights = weights\n",
    "\n",
    "    def fit(self, X, y):\n",
    "        \"\"\" Fit classifiers.\n",
    "        Parameters\n",
    "        ----------\n",
    "        X : {array-like, sparse matrix}, shape = [n_examples, n_features]\n",
    "            Matrix of training examples.\n",
    "        y : array-like, shape = [n_examples]\n",
    "            Vector of target class labels.\n",
    "        Returns\n",
    "        -------\n",
    "        self : object\n",
    "        \"\"\"\n",
    "        if self.vote not in ('probability', 'classlabel'):\n",
    "            raise ValueError(\"vote must be 'probability' or 'classlabel'\"\n",
    "                             \"; got (vote=%r)\"\n",
    "                             % self.vote)\n",
    "\n",
    "        if self.weights and len(self.weights) != len(self.classifiers):\n",
    "            raise ValueError('Number of classifiers and weights must be equal'\n",
    "                             '; got %d weights, %d classifiers'\n",
    "                             % (len(self.weights), len(self.classifiers)))\n",
    "\n",
    "        # Use LabelEncoder to ensure class labels start with 0, which\n",
    "        # is important for np.argmax call in self.predict\n",
    "        self.lablenc_ = LabelEncoder()\n",
    "        self.lablenc_.fit(y)\n",
    "        self.classes_ = self.lablenc_.classes_\n",
    "        self.classifiers_ = []\n",
    "        for clf in self.classifiers:\n",
    "            fitted_clf = clone(clf).fit(X, self.lablenc_.transform(y))\n",
    "            self.classifiers_.append(fitted_clf)\n",
    "        return self\n",
    "\n",
    "    def predict(self, X):\n",
    "        \"\"\" Predict class labels for X.\n",
    "        Parameters\n",
    "        ----------\n",
    "        X : {array-like, sparse matrix}, shape = [n_examples, n_features]\n",
    "            Matrix of training examples.\n",
    "        Returns\n",
    "        ----------\n",
    "        maj_vote : array-like, shape = [n_examples]\n",
    "            Predicted class labels.\n",
    "            \n",
    "        \"\"\"\n",
    "        if self.vote == 'probability':\n",
    "            maj_vote = np.argmax(self.predict_proba(X), axis=1)\n",
    "        else:  # 'classlabel' vote\n",
    "\n",
    "            #  Collect results from clf.predict calls\n",
    "            predictions = np.asarray([clf.predict(X)\n",
    "                                      for clf in self.classifiers_]).T\n",
    "\n",
    "            maj_vote = np.apply_along_axis(\n",
    "                                      lambda x:\n",
    "                                      np.argmax(np.bincount(x,\n",
    "                                                weights=self.weights)),\n",
    "                                      axis=1,\n",
    "                                      arr=predictions)\n",
    "        maj_vote = self.lablenc_.inverse_transform(maj_vote)\n",
    "        return maj_vote\n",
    "\n",
    "    def predict_proba(self, X):\n",
    "        \"\"\" Predict class probabilities for X.\n",
    "        Parameters\n",
    "        ----------\n",
    "        X : {array-like, sparse matrix}, shape = [n_examples, n_features]\n",
    "            Training vectors, where n_examples is the number of examples and\n",
    "            n_features is the number of features.\n",
    "        Returns\n",
    "        ----------\n",
    "        avg_proba : array-like, shape = [n_examples, n_classes]\n",
    "            Weighted average probability for each class per example.\n",
    "        \"\"\"\n",
    "        probas = np.asarray([clf.predict_proba(X)\n",
    "                             for clf in self.classifiers_])\n",
    "        avg_proba = np.average(probas, axis=0, weights=self.weights)\n",
    "        return avg_proba\n",
    "\n",
    "    def get_params(self, deep=True):\n",
    "        \"\"\" Get classifier parameter names for GridSearch\"\"\"\n",
    "        if not deep:\n",
    "            return super(MajorityVoteClassifier, self).get_params(deep=False)\n",
    "        else:\n",
    "            out = self.named_classifiers.copy()\n",
    "            for name, step in self.named_classifiers.items():\n",
    "                for key, value in step.get_params(deep=True).items():\n",
    "                    out['%s__%s' % (name, key)] = value\n",
    "            return out\n"
   ]
  },
  {
   "cell_type": "markdown",
   "id": "defined-london",
   "metadata": {},
   "source": [
    "Ora sebbene questa classe possa sembrare completa e pronta per la produzione, si consigli per tali scopi di utilizzare le classi messe a disposizione da sklearn nel pacchetto: `sklearn.ensemble.VotingClassifier`"
   ]
  },
  {
   "cell_type": "markdown",
   "id": "elect-mainland",
   "metadata": {},
   "source": [
    "## Combinare gli algoritmi per la classificazione a voto di maggioranza\n",
    "\n",
    "Cominciamo ad utilizzare nella pratica la classe implementata, caricando il dataset iris, con solo due caratteristiche *petal width* e *petal lenght* per complicare il problema."
   ]
  },
  {
   "cell_type": "code",
   "execution_count": 8,
   "id": "primary-deficit",
   "metadata": {},
   "outputs": [],
   "source": [
    "from sklearn import datasets\n",
    "from sklearn.preprocessing import StandardScaler\n",
    "from sklearn.preprocessing import LabelEncoder\n",
    "from sklearn.model_selection import train_test_split\n",
    "\n",
    "iris = datasets.load_iris()\n",
    "X, y = iris.data[50:, [1, 2]], iris.target[50:]\n",
    "le = LabelEncoder()\n",
    "y = le.fit_transform(y)\n",
    "\n",
    "X_train, X_test, y_train, y_test =\\\n",
    "       train_test_split(X, y, \n",
    "                        test_size=0.5, \n",
    "                        random_state=1,\n",
    "                        stratify=y)"
   ]
  },
  {
   "cell_type": "markdown",
   "id": "higher-douglas",
   "metadata": {},
   "source": [
    "Tramite il dataset di addestramento utilizzeremo tre metodi di classificazione e li uniremo tramite il nostro metaclassficatore"
   ]
  },
  {
   "cell_type": "code",
   "execution_count": 9,
   "id": "quick-percentage",
   "metadata": {},
   "outputs": [
    {
     "name": "stdout",
     "output_type": "stream",
     "text": [
      "10-fold cross validation:\n",
      "\n",
      "ROC AUC: 0.92 (+/- 0.15) [Logistic regression]\n",
      "ROC AUC: 0.87 (+/- 0.18) [Decision tree]\n",
      "ROC AUC: 0.85 (+/- 0.13) [KNN]\n"
     ]
    }
   ],
   "source": [
    "from sklearn.linear_model import LogisticRegression\n",
    "from sklearn.tree import DecisionTreeClassifier\n",
    "from sklearn.neighbors import KNeighborsClassifier \n",
    "from sklearn.pipeline import Pipeline\n",
    "from sklearn.model_selection import cross_val_score\n",
    "\n",
    "clf1 = LogisticRegression(penalty='l2', \n",
    "                          C=0.001,\n",
    "                          solver='lbfgs',\n",
    "                          random_state=1)\n",
    "\n",
    "clf2 = DecisionTreeClassifier(max_depth=1,\n",
    "                              criterion='entropy',\n",
    "                              random_state=0)\n",
    "\n",
    "clf3 = KNeighborsClassifier(n_neighbors=1,\n",
    "                            p=2,\n",
    "                            metric='minkowski')\n",
    "\n",
    "pipe1 = Pipeline([['sc', StandardScaler()],\n",
    "                  ['clf', clf1]])\n",
    "pipe3 = Pipeline([['sc', StandardScaler()],\n",
    "                  ['clf', clf3]])\n",
    "\n",
    "clf_labels = ['Logistic regression', 'Decision tree', 'KNN']\n",
    "\n",
    "print('10-fold cross validation:\\n')\n",
    "for clf, label in zip([pipe1, clf2, pipe3], clf_labels):\n",
    "    scores = cross_val_score(estimator=clf,\n",
    "                             X=X_train,\n",
    "                             y=y_train,\n",
    "                             cv=10,\n",
    "                             scoring='roc_auc')\n",
    "    print(\"ROC AUC: %0.2f (+/- %0.2f) [%s]\"\n",
    "          % (scores.mean(), scores.std(), label))"
   ]
  },
  {
   "cell_type": "code",
   "execution_count": 10,
   "id": "retained-boards",
   "metadata": {},
   "outputs": [
    {
     "name": "stdout",
     "output_type": "stream",
     "text": [
      "ROC AUC: 0.92 (+/- 0.15) [Logistic regression]\n",
      "ROC AUC: 0.87 (+/- 0.18) [Decision tree]\n",
      "ROC AUC: 0.85 (+/- 0.13) [KNN]\n",
      "ROC AUC: 0.98 (+/- 0.05) [Majority voting]\n"
     ]
    }
   ],
   "source": [
    "mv_clf = MajorityVoteClassifier(classifiers=[pipe1, clf2, pipe3])\n",
    "\n",
    "clf_labels += ['Majority voting']\n",
    "all_clf = [pipe1, clf2, pipe3, mv_clf]\n",
    "\n",
    "for clf, label in zip(all_clf, clf_labels):\n",
    "    scores = cross_val_score(estimator=clf,\n",
    "                             X=X_train,\n",
    "                             y=y_train,\n",
    "                             cv=10,\n",
    "                             scoring='roc_auc')\n",
    "    print(\"ROC AUC: %0.2f (+/- %0.2f) [%s]\"\n",
    "          % (scores.mean(), scores.std(), label))"
   ]
  },
  {
   "cell_type": "code",
   "execution_count": 11,
   "id": "sticky-composer",
   "metadata": {},
   "outputs": [
    {
     "name": "stdout",
     "output_type": "stream",
     "text": [
      "ROC AUC: 0.98 (+/- 0.05) [VotingClassifier]\n"
     ]
    }
   ],
   "source": [
    "from sklearn.ensemble import VotingClassifier\n",
    "\n",
    "eclf1 = VotingClassifier(estimators=[('lr', pipe1), ('decision', clf2), ('kn', pipe3)], voting='soft')\n",
    "\n",
    "scores = cross_val_score(estimator=eclf1,\n",
    "                             X=X_train,\n",
    "                             y=y_train,\n",
    "                             cv=10,\n",
    "                             scoring='roc_auc')\n",
    "\n",
    "print(\"ROC AUC: %0.2f (+/- %0.2f) [%s]\" % (scores.mean(), scores.std(), \"VotingClassifier\"))"
   ]
  },
  {
   "cell_type": "markdown",
   "id": "conscious-cursor",
   "metadata": {},
   "source": [
    "come possiamo vedere le prestazioni del metaclassificatore sono migliori del classificatore singolo.\n",
    "\n",
    "## Valutazione e ottimizzazione del classificatore di insieme\n",
    "\n",
    "Controlliamo ora tramite le corve roc se il nostro metaclassificatore `MajorityVoteClassifier` generalizza bene su dati mai visti prima."
   ]
  },
  {
   "cell_type": "code",
   "execution_count": 12,
   "id": "established-circulation",
   "metadata": {},
   "outputs": [
    {
     "data": {
      "image/png": "[encoded data removed]",
      "text/plain": [
       "<Figure size 432x288 with 1 Axes>"
      ]
     },
     "metadata": {
      "needs_background": "light"
     },
     "output_type": "display_data"
    }
   ],
   "source": [
    "from sklearn.metrics import roc_curve\n",
    "from sklearn.metrics import auc\n",
    "\n",
    "colors = ['black', 'orange', 'blue', 'green']\n",
    "linestyles = [':', '--', '-.', '-']\n",
    "for clf, label, clr, ls \\\n",
    "        in zip(all_clf,\n",
    "               clf_labels, colors, linestyles):\n",
    "\n",
    "    # assuming the label of the positive class is 1\n",
    "    y_pred = clf.fit(X_train,\n",
    "                     y_train).predict_proba(X_test)[:, 1]\n",
    "    fpr, tpr, thresholds = roc_curve(y_true=y_test,\n",
    "                                     y_score=y_pred)\n",
    "    roc_auc = auc(x=fpr, y=tpr)\n",
    "    plt.plot(fpr, tpr,\n",
    "             color=clr,\n",
    "             linestyle=ls,\n",
    "             label='%s (auc = %0.2f)' % (label, roc_auc))\n",
    "\n",
    "plt.legend(loc='lower right')\n",
    "plt.plot([0, 1], [0, 1],\n",
    "         linestyle='--',\n",
    "         color='gray',\n",
    "         linewidth=2)\n",
    "\n",
    "plt.xlim([-0.1, 1.1])\n",
    "plt.ylim([-0.1, 1.1])\n",
    "plt.grid(alpha=0.5)\n",
    "plt.xlabel('False positive rate (FPR)')\n",
    "plt.ylabel('True positive rate (TPR)')\n",
    "\n",
    "plt.show()"
   ]
  },
  {
   "cell_type": "markdown",
   "id": "indonesian-burden",
   "metadata": {},
   "source": [
    "Come possiamo vedere il metaclassificatore si comporta bene anche sul dataset di test (ROC UAC = 0.95) mentre il metodo KNN sembra avere qualche problemino di overfitting. \n",
    "\n",
    "Visto che abbiamo solo due features visualizziamo la regione decisionale dei vari modelli. \n",
    "Per una questione di praticità andiamo a standardizzare il dataset di test per tutti i modelli in modo da poter confrontarli"
   ]
  },
  {
   "cell_type": "code",
   "execution_count": 13,
   "id": "biological-surgeon",
   "metadata": {},
   "outputs": [],
   "source": [
    "sc = StandardScaler()\n",
    "X_train_std = sc.fit_transform(X_train)"
   ]
  },
  {
   "cell_type": "code",
   "execution_count": 14,
   "id": "disciplinary-storage",
   "metadata": {},
   "outputs": [
    {
     "data": {
      "image/png": "[encoded data removed]",
      "text/plain": [
       "<Figure size 504x360 with 4 Axes>"
      ]
     },
     "metadata": {
      "needs_background": "light"
     },
     "output_type": "display_data"
    }
   ],
   "source": [
    "from itertools import product\n",
    "\n",
    "all_clf = [pipe1, clf2, pipe3, mv_clf]\n",
    "\n",
    "x_min = X_train_std[:, 0].min() - 1\n",
    "x_max = X_train_std[:, 0].max() + 1\n",
    "y_min = X_train_std[:, 1].min() - 1\n",
    "y_max = X_train_std[:, 1].max() + 1\n",
    "\n",
    "xx, yy = np.meshgrid(np.arange(x_min, x_max, 0.1),\n",
    "                     np.arange(y_min, y_max, 0.1))\n",
    "\n",
    "f, axarr = plt.subplots(nrows=2, ncols=2, \n",
    "                        sharex='col', \n",
    "                        sharey='row', \n",
    "                        figsize=(7, 5))\n",
    "\n",
    "for idx, clf, tt in zip(product([0, 1], [0, 1]),\n",
    "                        all_clf, clf_labels):\n",
    "    clf.fit(X_train_std, y_train)\n",
    "    \n",
    "    Z = clf.predict(np.c_[xx.ravel(), yy.ravel()])\n",
    "    Z = Z.reshape(xx.shape)\n",
    "\n",
    "    axarr[idx[0], idx[1]].contourf(xx, yy, Z, alpha=0.3)\n",
    "    \n",
    "    axarr[idx[0], idx[1]].scatter(X_train_std[y_train==0, 0], \n",
    "                                  X_train_std[y_train==0, 1], \n",
    "                                  c='blue', \n",
    "                                  marker='^',\n",
    "                                  s=50)\n",
    "    \n",
    "    axarr[idx[0], idx[1]].scatter(X_train_std[y_train==1, 0], \n",
    "                                  X_train_std[y_train==1, 1], \n",
    "                                  c='green', \n",
    "                                  marker='o',\n",
    "                                  s=50)\n",
    "    \n",
    "    axarr[idx[0], idx[1]].set_title(tt)\n",
    "\n",
    "plt.text(-3.5, -5., \n",
    "         s='Sepal width [standardized]', \n",
    "         ha='center', va='center', fontsize=12)\n",
    "plt.text(-12.5, 4.5, \n",
    "         s='Petal length [standardized]', \n",
    "         ha='center', va='center', \n",
    "         fontsize=12, rotation=90)\n",
    "\n",
    "plt.show()"
   ]
  },
  {
   "cell_type": "markdown",
   "id": "upper-ambassador",
   "metadata": {},
   "source": [
    "Come si vede, la regione decisionale del classificatore di insieme sembra essere un ibrido delle regioni decisionali delle regioni decisionali dei classificatori singoli.\n",
    "\n",
    "Prima di ottimizzare i singoli parametri chiamiamo `get_params` peravere accesso ai singoli parametri."
   ]
  },
  {
   "cell_type": "code",
   "execution_count": 15,
   "id": "outside-participant",
   "metadata": {},
   "outputs": [
    {
     "data": {
      "text/plain": [
       "{'pipeline-1': Pipeline(steps=[('sc', StandardScaler()),\n",
       "                 ['clf', LogisticRegression(C=0.001, random_state=1)]]),\n",
       " 'decisiontreeclassifier': DecisionTreeClassifier(criterion='entropy', max_depth=1, random_state=0),\n",
       " 'pipeline-2': Pipeline(steps=[('sc', StandardScaler()),\n",
       "                 ['clf', KNeighborsClassifier(n_neighbors=1)]]),\n",
       " 'pipeline-1__memory': None,\n",
       " 'pipeline-1__steps': [('sc', StandardScaler()),\n",
       "  ['clf', LogisticRegression(C=0.001, random_state=1)]],\n",
       " 'pipeline-1__verbose': False,\n",
       " 'pipeline-1__sc': StandardScaler(),\n",
       " 'pipeline-1__clf': LogisticRegression(C=0.001, random_state=1),\n",
       " 'pipeline-1__sc__copy': True,\n",
       " 'pipeline-1__sc__with_mean': True,\n",
       " 'pipeline-1__sc__with_std': True,\n",
       " 'pipeline-1__clf__C': 0.001,\n",
       " 'pipeline-1__clf__class_weight': None,\n",
       " 'pipeline-1__clf__dual': False,\n",
       " 'pipeline-1__clf__fit_intercept': True,\n",
       " 'pipeline-1__clf__intercept_scaling': 1,\n",
       " 'pipeline-1__clf__l1_ratio': None,\n",
       " 'pipeline-1__clf__max_iter': 100,\n",
       " 'pipeline-1__clf__multi_class': 'auto',\n",
       " 'pipeline-1__clf__n_jobs': None,\n",
       " 'pipeline-1__clf__penalty': 'l2',\n",
       " 'pipeline-1__clf__random_state': 1,\n",
       " 'pipeline-1__clf__solver': 'lbfgs',\n",
       " 'pipeline-1__clf__tol': 0.0001,\n",
       " 'pipeline-1__clf__verbose': 0,\n",
       " 'pipeline-1__clf__warm_start': False,\n",
       " 'decisiontreeclassifier__ccp_alpha': 0.0,\n",
       " 'decisiontreeclassifier__class_weight': None,\n",
       " 'decisiontreeclassifier__criterion': 'entropy',\n",
       " 'decisiontreeclassifier__max_depth': 1,\n",
       " 'decisiontreeclassifier__max_features': None,\n",
       " 'decisiontreeclassifier__max_leaf_nodes': None,\n",
       " 'decisiontreeclassifier__min_impurity_decrease': 0.0,\n",
       " 'decisiontreeclassifier__min_impurity_split': None,\n",
       " 'decisiontreeclassifier__min_samples_leaf': 1,\n",
       " 'decisiontreeclassifier__min_samples_split': 2,\n",
       " 'decisiontreeclassifier__min_weight_fraction_leaf': 0.0,\n",
       " 'decisiontreeclassifier__random_state': 0,\n",
       " 'decisiontreeclassifier__splitter': 'best',\n",
       " 'pipeline-2__memory': None,\n",
       " 'pipeline-2__steps': [('sc', StandardScaler()),\n",
       "  ['clf', KNeighborsClassifier(n_neighbors=1)]],\n",
       " 'pipeline-2__verbose': False,\n",
       " 'pipeline-2__sc': StandardScaler(),\n",
       " 'pipeline-2__clf': KNeighborsClassifier(n_neighbors=1),\n",
       " 'pipeline-2__sc__copy': True,\n",
       " 'pipeline-2__sc__with_mean': True,\n",
       " 'pipeline-2__sc__with_std': True,\n",
       " 'pipeline-2__clf__algorithm': 'auto',\n",
       " 'pipeline-2__clf__leaf_size': 30,\n",
       " 'pipeline-2__clf__metric': 'minkowski',\n",
       " 'pipeline-2__clf__metric_params': None,\n",
       " 'pipeline-2__clf__n_jobs': None,\n",
       " 'pipeline-2__clf__n_neighbors': 1,\n",
       " 'pipeline-2__clf__p': 2,\n",
       " 'pipeline-2__clf__weights': 'uniform'}"
      ]
     },
     "execution_count": 15,
     "metadata": {},
     "output_type": "execute_result"
    }
   ],
   "source": [
    "mv_clf.get_params()"
   ]
  },
  {
   "cell_type": "markdown",
   "id": "obvious-emergency",
   "metadata": {},
   "source": [
    "Sulla base di quella chiamata ora sappiamo come accedere ai parametri dei singoli classificatori al fine di ottimizzare l'intero sistema andremo ad ottimizzare i parametri della regressione logistica e del classificatore KNN"
   ]
  },
  {
   "cell_type": "code",
   "execution_count": 16,
   "id": "encouraging-celtic",
   "metadata": {},
   "outputs": [
    {
     "name": "stdout",
     "output_type": "stream",
     "text": [
      "0.983 +/- 0.02 {'decisiontreeclassifier__max_depth': 1, 'pipeline-1__clf__C': 0.001}\n",
      "0.983 +/- 0.02 {'decisiontreeclassifier__max_depth': 1, 'pipeline-1__clf__C': 0.1}\n",
      "0.967 +/- 0.05 {'decisiontreeclassifier__max_depth': 1, 'pipeline-1__clf__C': 100.0}\n",
      "0.983 +/- 0.02 {'decisiontreeclassifier__max_depth': 2, 'pipeline-1__clf__C': 0.001}\n",
      "0.983 +/- 0.02 {'decisiontreeclassifier__max_depth': 2, 'pipeline-1__clf__C': 0.1}\n",
      "0.967 +/- 0.05 {'decisiontreeclassifier__max_depth': 2, 'pipeline-1__clf__C': 100.0}\n"
     ]
    }
   ],
   "source": [
    "from sklearn.model_selection import GridSearchCV\n",
    "\n",
    "\n",
    "params = {'decisiontreeclassifier__max_depth': [1, 2],\n",
    "          'pipeline-1__clf__C': [0.001, 0.1, 100.0]}\n",
    "\n",
    "grid = GridSearchCV(estimator=mv_clf,\n",
    "                    param_grid=params,\n",
    "                    cv=10,\n",
    "                    scoring='roc_auc')\n",
    "grid.fit(X_train, y_train)\n",
    "\n",
    "for r, _ in enumerate(grid.cv_results_['mean_test_score']):\n",
    "    print(\"%0.3f +/- %0.2f %r\"\n",
    "          % (grid.cv_results_['mean_test_score'][r], \n",
    "             grid.cv_results_['std_test_score'][r] / 2.0, \n",
    "             grid.cv_results_['params'][r]))"
   ]
  },
  {
   "cell_type": "code",
   "execution_count": 17,
   "id": "sexual-salad",
   "metadata": {},
   "outputs": [
    {
     "name": "stdout",
     "output_type": "stream",
     "text": [
      "Best parameters: {'decisiontreeclassifier__max_depth': 1, 'pipeline-1__clf__C': 0.001}\n",
      "Accuracy: 0.98\n"
     ]
    }
   ],
   "source": [
    "print('Best parameters: %s' % grid.best_params_)\n",
    "print('Accuracy: %.2f' % grid.best_score_)"
   ]
  },
  {
   "cell_type": "markdown",
   "id": "numeric-replica",
   "metadata": {},
   "source": [
    "come promemoria va ricordato che usare il dataset di test più volte non è un comportamento corretto, in questo caso lo abbiamo utilizzato solo a scopo informativo.\n",
    "\n",
    "Il metodo che abbiamo usato si chiama anche stacking.\n",
    "\n",
    "Analizziamo ora un approccio alternativo chiamato anche *bagging*.\n",
    "\n",
    "## Bagging, costruire un insieme di classificatori da un campione di bootstrap\n",
    "\n",
    "Il bagging è una tecnica di apprendimento di insieme simile a quanto visto prima, tuttavia invece di utilizzare lo stesso set di addestramento per tutti i classificatori si estraggono dal set di addestramento dei campioni di bootstrap (con inserimento).\n",
    "\n",
    "Per capire il funzionamento guardiamo l'immagine qui sotto, qui abbiamo 7 istanze di addestramento da uno a sette, per ogni turno andiamo a campionare il dataset con reinserimento \n",
    "\n",
    "| Indici campione | Turno Bagging 1 | Turno Bagging 2 | Turno Bagging n |\n",
    "| --- | --- | --- | --- |\n",
    "| 1 | 2 | 7 | ... |\n",
    "| 2 | 2 | 3 | ... |\n",
    "| 3 | 1 | 2 | ... |\n",
    "| 4 | 3 | 1 | ... |\n",
    "| 5 | 7 | 1 | ... |\n",
    "| 6 | 2 | 7 | ... |\n",
    "| 7 | 4 | 7 | ... |\n",
    "| **Classificatore** | C1 | C2 | Cn |\n",
    "\n",
    "Ad ogni turno viene poi viene addestrato un classficato $C_j$ che normalmente è un albero decisionale non potato, il bagging è in correlazione con le foreste casuali già viste in passato.\n",
    "\n",
    "Per vedere in azione il bagging creiamo un problema di classificazione complicando un dataset già utilizzato.\n"
   ]
  },
  {
   "cell_type": "code",
   "execution_count": 18,
   "id": "experimental-experiment",
   "metadata": {},
   "outputs": [],
   "source": [
    "import pandas as pd\n",
    "\n",
    "df_wine = pd.read_csv('https://archive.ics.uci.edu/ml/'\n",
    "                      'machine-learning-databases/wine/wine.data',\n",
    "                      header=None)\n",
    "\n",
    "df_wine.columns = ['Class label', 'Alcohol', 'Malic acid', 'Ash',\n",
    "                   'Alcalinity of ash', 'Magnesium', 'Total phenols',\n",
    "                   'Flavanoids', 'Nonflavanoid phenols', 'Proanthocyanins',\n",
    "                   'Color intensity', 'Hue', 'OD280/OD315 of diluted wines',\n",
    "                   'Proline']\n",
    "\n",
    "# if the Wine dataset is temporarily unavailable from the\n",
    "# UCI machine learning repository, un-comment the following line\n",
    "# of code to load the dataset from a local path:\n",
    "\n",
    "# df_wine = pd.read_csv('wine.data', header=None)\n",
    "\n",
    "# drop 1 class\n",
    "df_wine = df_wine[df_wine['Class label'] != 1]\n",
    "\n",
    "y = df_wine['Class label'].values\n",
    "X = df_wine[['Alcohol', 'OD280/OD315 of diluted wines']].values"
   ]
  },
  {
   "cell_type": "markdown",
   "id": "boolean-planner",
   "metadata": {},
   "source": [
    "Dividiamo in due parti il dataset test e train"
   ]
  },
  {
   "cell_type": "code",
   "execution_count": 19,
   "id": "latter-disaster",
   "metadata": {},
   "outputs": [],
   "source": [
    "from sklearn.preprocessing import LabelEncoder\n",
    "from sklearn.model_selection import train_test_split\n",
    "\n",
    "\n",
    "le = LabelEncoder()\n",
    "y = le.fit_transform(y)\n",
    "\n",
    "X_train, X_test, y_train, y_test =\\\n",
    "            train_test_split(X, y, \n",
    "                             test_size=0.2, \n",
    "                             random_state=1,\n",
    "                             stratify=y)"
   ]
  },
  {
   "cell_type": "markdown",
   "id": "opposite-carnival",
   "metadata": {},
   "source": [
    "Andiamo poi ad utilizzare il bagging classifier con 500 alberi decisionali e creiamo un albero decisionale non potato per il confronto"
   ]
  },
  {
   "cell_type": "code",
   "execution_count": 20,
   "id": "statewide-salon",
   "metadata": {},
   "outputs": [],
   "source": [
    "from sklearn.ensemble import BaggingClassifier\n",
    "from sklearn.tree import DecisionTreeClassifier\n",
    "\n",
    "tree = DecisionTreeClassifier(criterion='entropy', \n",
    "                              max_depth=None,\n",
    "                              random_state=1)\n",
    "\n",
    "bag = BaggingClassifier(base_estimator=tree,\n",
    "                        n_estimators=500, \n",
    "                        max_samples=1.0, \n",
    "                        max_features=1.0, \n",
    "                        bootstrap=True, \n",
    "                        bootstrap_features=False, \n",
    "                        n_jobs=1, \n",
    "                        random_state=1)"
   ]
  },
  {
   "cell_type": "code",
   "execution_count": 21,
   "id": "basic-india",
   "metadata": {},
   "outputs": [
    {
     "name": "stdout",
     "output_type": "stream",
     "text": [
      "Decision tree train/test accuracies 1.000/0.833\n",
      "Bagging train/test accuracies 1.000/0.917\n"
     ]
    }
   ],
   "source": [
    "from sklearn.metrics import accuracy_score\n",
    "\n",
    "tree = tree.fit(X_train, y_train)\n",
    "y_train_pred = tree.predict(X_train)\n",
    "y_test_pred = tree.predict(X_test)\n",
    "\n",
    "tree_train = accuracy_score(y_train, y_train_pred)\n",
    "tree_test = accuracy_score(y_test, y_test_pred)\n",
    "print('Decision tree train/test accuracies %.3f/%.3f'\n",
    "      % (tree_train, tree_test))\n",
    "\n",
    "bag = bag.fit(X_train, y_train)\n",
    "y_train_pred = bag.predict(X_train)\n",
    "y_test_pred = bag.predict(X_test)\n",
    "\n",
    "bag_train = accuracy_score(y_train, y_train_pred) \n",
    "bag_test = accuracy_score(y_test, y_test_pred) \n",
    "print('Bagging train/test accuracies %.3f/%.3f'\n",
    "      % (bag_train, bag_test))"
   ]
  },
  {
   "cell_type": "code",
   "execution_count": 22,
   "id": "comprehensive-palestine",
   "metadata": {},
   "outputs": [
    {
     "data": {
      "image/png": "[encoded data removed]",
      "text/plain": [
       "<Figure size 576x216 with 2 Axes>"
      ]
     },
     "metadata": {
      "needs_background": "light"
     },
     "output_type": "display_data"
    }
   ],
   "source": [
    "import numpy as np\n",
    "import matplotlib.pyplot as plt\n",
    "\n",
    "x_min = X_train[:, 0].min() - 1\n",
    "x_max = X_train[:, 0].max() + 1\n",
    "y_min = X_train[:, 1].min() - 1\n",
    "y_max = X_train[:, 1].max() + 1\n",
    "\n",
    "xx, yy = np.meshgrid(np.arange(x_min, x_max, 0.1),\n",
    "                     np.arange(y_min, y_max, 0.1))\n",
    "\n",
    "f, axarr = plt.subplots(nrows=1, ncols=2, \n",
    "                        sharex='col', \n",
    "                        sharey='row', \n",
    "                        figsize=(8, 3))\n",
    "\n",
    "\n",
    "for idx, clf, tt in zip([0, 1],\n",
    "                        [tree, bag],\n",
    "                        ['Decision tree', 'Bagging']):\n",
    "    clf.fit(X_train, y_train)\n",
    "\n",
    "    Z = clf.predict(np.c_[xx.ravel(), yy.ravel()])\n",
    "    Z = Z.reshape(xx.shape)\n",
    "\n",
    "    axarr[idx].contourf(xx, yy, Z, alpha=0.3)\n",
    "    axarr[idx].scatter(X_train[y_train == 0, 0],\n",
    "                       X_train[y_train == 0, 1],\n",
    "                       c='blue', marker='^')\n",
    "\n",
    "    axarr[idx].scatter(X_train[y_train == 1, 0],\n",
    "                       X_train[y_train == 1, 1],\n",
    "                       c='green', marker='o')\n",
    "\n",
    "    axarr[idx].set_title(tt)\n",
    "\n",
    "axarr[0].set_ylabel('Alcohol', fontsize=12)\n",
    "\n",
    "plt.tight_layout()\n",
    "plt.text(0, -0.2,\n",
    "         s='OD280/OD315 of diluted wines',\n",
    "         ha='center',\n",
    "         va='center',\n",
    "         fontsize=12,\n",
    "         transform=axarr[1].transAxes)\n",
    "\n",
    "#plt.savefig('images/07_08.png', dpi=300, bbox_inches='tight')\n",
    "plt.show()"
   ]
  },
  {
   "cell_type": "markdown",
   "id": "meaning-sleeve",
   "metadata": {},
   "source": [
    "## Adaptive Boost\n",
    "\n",
    "In questo ultimo paragrafo parleremo dell'adaptive boost, con questa tecnica vengono usati classificatori molto semplici *(weak learner)* i quali hanno un debole vantaggio rispetto ad un classificatore casuale. \n",
    "\n",
    "Un tipico esempio di classificatore potrebbe essere un moncone di albero decisionale. \n",
    "Il concetto su cui si basa il boosting sta nel concentrarsi sui campioni difficili da classificare,la procedura può essere riassunta così:\n",
    "\n",
    "* Estrarre senza reinserimento dal dataset $D$ un sottoinsieme casuale di campioni d'addestramento $d_1$ per addestrare un sistema di apprendimento debole $C_1$\n",
    "\n",
    "* Estrarre un secondo campione senza reinserimento $d_2$ aggiungendo il 50% dei campioni mal classificati del dataset $d_1$ e addestrare il secondo classificatore $C_2$\n",
    "\n",
    "* Trovare i campioni del dataset $d_3$ partendo dal dataset $D$ in cui $C_1$ e $C_2$ non concordano in modo da addestrare un terzo sistema $C_3$.\n",
    "\n",
    "* Con questi risultati si utilizzano i sistemi $C_1$ , $C_2$ e $C_3$ tramite voto a maggioranza\n",
    "\n",
    "Il sistema di boosting porta ad una riduzione del bias e della varianza ma bisogna prestare molta attenzione all'overfitting.\n",
    "Al contrario di quanto descritto precedentemente la tecnica di adaboost lavora sul dataset completo per addestrare i sistemi di apprendimento dove i campioni vengono ripesati a ogni iterazione in modo da costruire un classificatore più efficace.\n",
    "\n",
    "Vediamo l'immagine qui sotto\n",
    "\n",
    "![Adaboost](./images/adaboost.png)\n",
    "\n",
    "Partiamo dal riquardo 1, dove si vede un dataset di classificazione binario, tutti i campioni ricevono pesi uguali.\n",
    "A questa dataset applichiamo un moncone decisionale (rappresentato dalla linea tratteggiata). \n",
    "\n",
    "Al turno successivo assegnamo un peso maggiore ai due campioni che in precedenza erano stati mal classificati e riduciamo il peso dei campioni classificati correttamente. Il secondo moncone decisionale si concentrerà sui campioni di addestramento che hanno un peso maggiore, si suppone che siano quelli difficili da classificare.\n",
    "\n",
    "Ora i campioni mal classificati sono i tre cerchi ai quali viene assegnato un peso maggiore nel nuovo ciclo di classificazione.\n",
    "Supponendo che il nostro algoritmo sia composto da soli tre turni di boosting possiamo ora combinare i risultati al turno 4 come da immagine.\n",
    "\n",
    "Passiamo ora ad un approfondimento dell'algoritmo dando uno sguardo al pseudocodice, per chiarezza andremo a indicare la moltipicazione elemento per elemento con il simbolo $\\times$ mentre andremo ad indicare il prodotto scalare con il simbolo $\\cdot$\n",
    "\n",
    "1. Imposto il vettori dei pesi $w$ da dare ad ogni riga del dataset in modo uniforme in modo tale che $\\sum_{i=1}^{n} w_i = 1$\n",
    "2. Per ogni turno j di boosting eseguire i seguenti passi:\n",
    "- Eseguire la fase di train del classificatore debole $C_j = train(x,y,w)$\n",
    "- Eseguo la fase di predict $\\hat{y} = predict(C_j,x)$\n",
    "- Calcolo il tasso di errore pesato $\\varepsilon = w \\cdot (\\hat{y} \\neq y)$\n",
    "- Calcolo il coefficiente $\\alpha_i = 0.5 \\log(\\frac{1 - \\varepsilon}{\\varepsilon})$\n",
    "- Aggiornare i pesi $w = w \\times \\exp(-\\alpha_j \\times \\hat{y} \\times y)$\n",
    "- Normalizzazione dei pesi $w$ sempre in modo tale che $\\sum_{i=1}^{n} w_i = 1$\n",
    "3. Calcolo la previsione finale $\\hat{y} = ( \\sum_{j=1}^{m} (\\alpha_i \\times predict(C_j,X)) > 0 )$\n",
    "\n",
    "Nota importante l'espressione $\\hat{y} == y$ indica il vettore di 1 e 0 dove 1 indica una previsione corretta e 0 la previsione errata.\n",
    "\n",
    "Sebbene questo sistema possa sembrare semplice vediamo l'applicazione su un dataset di 10 elementi.\n",
    "\n",
    "![dataset](./images/dataset.png \"dataset\")\n",
    "\n",
    "La seconda colonna della tabella rappresenta gli indici dei campioni di addestramento da 1 a 10, \n",
    "La terza colonna rappresenta l'etichetta della classe y con valori -1 e 1\n",
    "La quarta colonna contiene il valore dei pesi di partenza.\n",
    "La quinta colonna mostra la previsione $\\hat{y}$ supponendo che il nostro criterio di classificazione sia $x \\leq 3.0$.\n",
    "L'ultima colonna rappresenta l'aggiornamento dei pesi dopo l'elaborazione.\n",
    "\n",
    "### Esempio di aggiornamento dei pesi\n",
    "Iniziamo con il calcolo del valore $\\varepsilon$ nel seguente modo:\n",
    "\n",
    "$$\\varepsilon = (0.1 \\times 0) + (0.1 \\times 0) + (0.1 \\times 0) + (0.1 \\times 0) + (0.1 \\times 0) + (0.1 \\times 0) + (0.1 \\times 1) + (0.1 \\times 1) + (0.1 \\times 1) + (0.1 \\times 0) = \\frac{3}{10} = 0.3$$\n",
    "\n",
    "Calcoliamo poi l'indice $\\alpha_j$ che verrà utilizzato per adattare i pesi del classificatore e nel voto di maggioranza finale\n",
    "\n",
    "$$\\alpha_j = 0.5 \\log \\left( \\frac{1 - 0.3}{0.3} \\right) \\approx 0.424  $$\n",
    "\n",
    "ora con tale coeffieciente andiamo ad aggiornare i pesi del vettore utilizzando l'equazione se l'equazione vista prima, analizziamo i due casi:\n",
    "\n",
    "Nel caso la previsione sia corretta avremo un decremento del peso relativo all'elemento del vettore $w$ come esempio:\n",
    "\n",
    "$$ 0.1 \\times \\exp \\left(-0.424 \\times 1 \\times 1 \\right) \\approx 0.066 $$\n",
    "\n",
    "Nel caso la previsione non sia corretta avremo un incremente del peso come esempio:\n",
    "\n",
    "$$ 0.1 \\times \\exp \\left(-0.424 \\times 1 \\times -1 \\right) \\approx 0.153 $$\n",
    "\n",
    "L'ultimo passo è rappresentato dalla normalizzazione dei pesi :\n",
    "\n",
    "$$\\frac{w}{\\sum_{i=1}^{n} w_i}$$\n",
    "\n",
    "Con \n",
    "\n",
    "$$\\sum_{i=1}^{n} w_i = 7 \\times 0.066 + 3 \\times 0.153 = 0.914$$\n",
    "\n",
    "Ora per ogni campione correttamente classificato avremo che il suo peso sarà ridotto da $0.1$ a $0.066 / 0.914 \\approx 0.072$\n",
    "Mentre per ogni campione non classifcato correttamente avremo in incremento da $0.1$ a $0.153 / 0.914 \\approx 0.167$\n",
    "\n",
    "Questo è un esempio di adaboost passiamo ora alla parte più pratica, riutilizzimo il dataset wine visto prima addestrando 500 tronconi di alberi decisionali"
   ]
  },
  {
   "cell_type": "code",
   "execution_count": 23,
   "id": "56f38a54",
   "metadata": {},
   "outputs": [],
   "source": [
    "from sklearn.ensemble import AdaBoostClassifier\n",
    "\n",
    "tree = DecisionTreeClassifier(criterion='entropy', \n",
    "                              max_depth=1,\n",
    "                              random_state=1)\n",
    "\n",
    "ada = AdaBoostClassifier(base_estimator=tree,\n",
    "                         n_estimators=500, \n",
    "                         learning_rate=0.1,\n",
    "                         random_state=1)"
   ]
  },
  {
   "cell_type": "code",
   "execution_count": 24,
   "id": "74a2d49a",
   "metadata": {},
   "outputs": [
    {
     "name": "stdout",
     "output_type": "stream",
     "text": [
      "Decision tree train/test accuracies 0.916/0.875\n",
      "AdaBoost train/test accuracies 1.000/0.917\n"
     ]
    }
   ],
   "source": [
    "tree = tree.fit(X_train, y_train)\n",
    "y_train_pred = tree.predict(X_train)\n",
    "y_test_pred = tree.predict(X_test)\n",
    "\n",
    "tree_train = accuracy_score(y_train, y_train_pred)\n",
    "tree_test = accuracy_score(y_test, y_test_pred)\n",
    "print('Decision tree train/test accuracies %.3f/%.3f'\n",
    "      % (tree_train, tree_test))\n",
    "\n",
    "ada = ada.fit(X_train, y_train)\n",
    "y_train_pred = ada.predict(X_train)\n",
    "y_test_pred = ada.predict(X_test)\n",
    "\n",
    "ada_train = accuracy_score(y_train, y_train_pred) \n",
    "ada_test = accuracy_score(y_test, y_test_pred) \n",
    "print('AdaBoost train/test accuracies %.3f/%.3f'\n",
    "      % (ada_train, ada_test))"
   ]
  },
  {
   "cell_type": "code",
   "execution_count": 25,
   "id": "9003cb88",
   "metadata": {},
   "outputs": [
    {
     "data": {
      "image/png": "[encoded data removed]",
      "text/plain": [
       "<Figure size 576x216 with 2 Axes>"
      ]
     },
     "metadata": {
      "needs_background": "light"
     },
     "output_type": "display_data"
    }
   ],
   "source": [
    "x_min, x_max = X_train[:, 0].min() - 1, X_train[:, 0].max() + 1\n",
    "y_min, y_max = X_train[:, 1].min() - 1, X_train[:, 1].max() + 1\n",
    "xx, yy = np.meshgrid(np.arange(x_min, x_max, 0.1),\n",
    "                     np.arange(y_min, y_max, 0.1))\n",
    "\n",
    "f, axarr = plt.subplots(1, 2, sharex='col', sharey='row', figsize=(8, 3))\n",
    "\n",
    "\n",
    "for idx, clf, tt in zip([0, 1],\n",
    "                        [tree, ada],\n",
    "                        ['Decision tree', 'AdaBoost']):\n",
    "    clf.fit(X_train, y_train)\n",
    "\n",
    "    Z = clf.predict(np.c_[xx.ravel(), yy.ravel()])\n",
    "    Z = Z.reshape(xx.shape)\n",
    "\n",
    "    axarr[idx].contourf(xx, yy, Z, alpha=0.3)\n",
    "    axarr[idx].scatter(X_train[y_train == 0, 0],\n",
    "                       X_train[y_train == 0, 1],\n",
    "                       c='blue', marker='^')\n",
    "    axarr[idx].scatter(X_train[y_train == 1, 0],\n",
    "                       X_train[y_train == 1, 1],\n",
    "                       c='green', marker='o')\n",
    "    axarr[idx].set_title(tt)\n",
    "\n",
    "axarr[0].set_ylabel('Alcohol', fontsize=12)\n",
    "\n",
    "plt.tight_layout()\n",
    "plt.text(0, -0.2,\n",
    "         s='OD280/OD315 of diluted wines',\n",
    "         ha='center',\n",
    "         va='center',\n",
    "         fontsize=12,\n",
    "         transform=axarr[1].transAxes)\n",
    "\n",
    "#plt.savefig('images/07_11.png', dpi=300, bbox_inches='tight')\n",
    "plt.show()"
   ]
  },
  {
   "cell_type": "code",
   "execution_count": null,
   "id": "a7165a49",
   "metadata": {},
   "outputs": [],
   "source": []
  }
 ],
 "metadata": {
  "kernelspec": {
   "display_name": "Python 3",
   "language": "python",
   "name": "python3"
  },
  "language_info": {
   "codemirror_mode": {
    "name": "ipython",
    "version": 3
   },
   "file_extension": ".py",
   "mimetype": "text/x-python",
   "name": "python",
   "nbconvert_exporter": "python",
   "pygments_lexer": "ipython3",
   "version": "3.8.8"
  }
 },
 "nbformat": 4,
 "nbformat_minor": 5
}
